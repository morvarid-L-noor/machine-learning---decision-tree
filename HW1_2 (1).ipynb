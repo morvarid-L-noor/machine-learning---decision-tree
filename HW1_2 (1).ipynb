{
  "nbformat": 4,
  "nbformat_minor": 0,
  "metadata": {
    "colab": {
      "name": "HW1-2.ipynb",
      "provenance": [],
      "collapsed_sections": []
    },
    "kernelspec": {
      "display_name": "Python 3",
      "name": "python3"
    }
  },
  "cells": [
    {
      "cell_type": "code",
      "metadata": {
        "id": "vw8Afmx351iy"
      },
      "source": [
        "import pandas as pd\n",
        "import random\n",
        "import numpy as np\n",
        "from pprint import pprint"
      ],
      "execution_count": 1,
      "outputs": []
    },
    {
      "cell_type": "code",
      "metadata": {
        "id": "jCq__AIVIYE9"
      },
      "source": [
        "def entropy(target):\n",
        "    elements,counts = np.unique(target,returnc = True)\n",
        "    entropy = np.sum([(-counts[i]/np.sum(counts))*np.log2(counts[i]/np.sum(counts)) for i in range(len(elements))])\n",
        "    return entropy"
      ],
      "execution_count": null,
      "outputs": []
    },
    {
      "cell_type": "code",
      "metadata": {
        "id": "HOQPmtwqIiNX"
      },
      "source": [
        "def Information-gain(data,attribute_name,target_name=\"target\"):\n",
        "    \n",
        "    #Calculate the entropy of the total dataset\n",
        "    total_entropy = entropy(data[target_name])\n",
        "    \n",
        "    ##Calculate the entropy of the dataset\n",
        "    \n",
        "    #Calculate the values and the corresponding counts for the split attribute \n",
        "    vals,counts= np.unique(data[attribute_name],returnc=True)\n",
        "    \n",
        "    #Calculate the weighted entropy\n",
        "    Weighted_Entropy = np.sum([(counts[i]/np.sum(counts))*entropy(data.where(data[attribute_name]==vals[i]).dropna()[target_name]) for i in range(len(vals))])\n",
        "    \n",
        "    #Calculate the information gain\n",
        "    Information_Gain = total_entropy - Weighted_Entropy\n",
        "    return Information_Gain"
      ],
      "execution_count": null,
      "outputs": []
    },
    {
      "cell_type": "code",
      "metadata": {
        "id": "QLtMGma5Jk8c"
      },
      "source": [
        "def id3(data,raw-data,features,target_attribute_name=\"target\",parent_node_class = None):\n",
        "    \n",
        "    #Define the stopping criteria --> If one of this is satisfied, we want to return a leaf node#\n",
        "    \n",
        "    #If all target_values have the same value, return this value\n",
        "    if len(np.unique(data[target_attribute_name])) <= 1:\n",
        "        return np.unique(data[target_attribute_name])[0]\n",
        "    \n",
        "    #If the dataset is empty, return the mode target feature value in the original dataset\n",
        "    elif len(data)==0:\n",
        "        return np.unique(raw-data[target_attribute_name])[np.argmax(np.unique(raw-data[target_attribute_name],returnc=True)[1])]\n",
        "    \n",
        "    #If the feature space is empty, return the mode target feature value of the direct parent node --> Note that\n",
        "    #the direct parent node is that node which has called the current run of the id3 algorithm and hence\n",
        "    #the mode target feature value is stored in the parent_node_class variable.\n",
        "    \n",
        "    elif len(features) ==0:\n",
        "        return parent_node_class\n",
        "    \n",
        "    #If none of the above holds true, grow the tree!\n",
        "    \n",
        "    else:\n",
        "        #Set the default value for this node --> The mode target feature value of the current node\n",
        "        parent_node_class = np.unique(data[target_attribute_name])[np.argmax(np.unique(data[target_attribute_name],returnc=True)[1])]\n",
        "        \n",
        "        #Select the feature which best splits the dataset\n",
        "        item_values = [Information-gain(data,feature,target_attribute_name) for feature in features] #Return the information gain values for the features in the dataset\n",
        "        best_feature_index = np.argmax(item_values)\n",
        "        best_feature = features[best_feature_index]\n",
        "        \n",
        "        #Create the tree structure. The root gets the name of the feature (best_feature) with the maximum information\n",
        "        #gain in the first run\n",
        "        tree = {best_feature:{}}\n",
        "        \n",
        "        \n",
        "        #Remove the feature with the best inforamtion gain from the feature space\n",
        "        features = [i for i in features if i != best_feature]\n",
        "        \n",
        "        #Grow a branch under the root node for each possible value of the root node feature\n",
        "        \n",
        "        for value in np.unique(data[best_feature]):\n",
        "            value = value\n",
        "            #Split the dataset along the value of the feature with the largest information gain and therwith create sub_datasets\n",
        "            sub_data = data.where(data[best_feature] == value).dropna()\n",
        "            \n",
        "            #Call the id3 algorithm for each of those sub_datasets with the new parameters --> Here the recursion comes in!\n",
        "            subtree = id3(sub_data,ds,features,target_attribute_name,parent_node_class)\n",
        "            \n",
        "            #Add the sub tree, grown from the sub_dataset to the tree under the root node\n",
        "            tree[best_feature][value] = subtree\n",
        "            \n",
        "        return(tree)    "
      ],
      "execution_count": null,
      "outputs": []
    },
    {
      "cell_type": "code",
      "metadata": {
        "id": "-RaKA_wFKDX8"
      },
      "source": [
        "def predict(queue,tree,default = 1):\n",
        " for key in list(queue.keys()):\n",
        "        if key in list(tree.keys()):\n",
        "            #2.\n",
        "            try:\n",
        "                result = tree[key][queue[key]] \n",
        "            except:\n",
        "                return default\n",
        "  \n",
        "            #3.\n",
        "            result = tree[key][queue[key]]\n",
        "            #4.\n",
        "            if isinstance(result,dict):\n",
        "                return predict(queue,result)\n",
        "\n",
        "            else:\n",
        "                return result\n"
      ],
      "execution_count": null,
      "outputs": []
    },
    {
      "cell_type": "code",
      "metadata": {
        "colab": {
          "base_uri": "https://localhost:8080/"
        },
        "id": "X47AOliJE8_z",
        "outputId": "cd50f46e-5b7b-492f-8d7d-28e20b2e92ea"
      },
      "source": [
        "filename = \"train.csv\"\n",
        "#n = sum(1 for line in open(filename)) - 1 #number of records in file (excludes header)\n",
        "#s = 6000 #desired sample size\n",
        "ds = pd.read_csv(filename)\n",
        "#ds = ds.sample(frac=1)\n",
        "ds.head\n",
        "#skip = sorted(random.sample(range(1,n+1),n-s)) #the 0-indexed header will not be included in the skip list\n",
        "#df = pd.read_csv(ds, skiprows=skip)\n",
        "#df\n"
      ],
      "execution_count": null,
      "outputs": [
        {
          "output_type": "execute_result",
          "data": {
            "text/plain": [
              "<bound method NDFrame.head of      target          workclass      education  ...    race      sex  native-country\n",
              "0     <=50K          State-gov      Bachelors  ...   White     Male   United-States\n",
              "1     <=50K   Self-emp-not-inc      Bachelors  ...   White     Male   United-States\n",
              "2     <=50K            Private        HS-grad  ...   White     Male   United-States\n",
              "3     <=50K            Private           11th  ...   Black     Male   United-States\n",
              "4     <=50K            Private      Bachelors  ...   Black   Female            Cuba\n",
              "...     ...                ...            ...  ...     ...      ...             ...\n",
              "9995   >50K        Federal-gov   Some-college  ...   White     Male   United-States\n",
              "9996  <=50K            Private   Some-college  ...   Black   Female   United-States\n",
              "9997  <=50K            Private   Some-college  ...   White     Male   United-States\n",
              "9998  <=50K            Private        HS-grad  ...   White     Male   United-States\n",
              "9999  <=50K   Self-emp-not-inc   Some-college  ...   White     Male   United-States\n",
              "\n",
              "[10000 rows x 9 columns]>"
            ]
          },
          "metadata": {
            "tags": []
          },
          "execution_count": 67
        }
      ]
    },
    {
      "cell_type": "code",
      "metadata": {
        "id": "LdmbkUhvKiYx"
      },
      "source": [
        "\n",
        "training_data = ds\n",
        "validateing_data = pd.read_csv(\"adult.validate.10k.csv\") \n",
        "\n",
        "def validate(data,tree):\n",
        "    #Create new queue instances by simply removing the target feature column from the original dataset and \n",
        "    #convert it to a dictionary\n",
        "    queries = data.iloc[:,:-1].to_dict(orient = \"records\")\n",
        "    \n",
        "    #Create a empty DataFrame in whose columns the prediction of the tree are stored\n",
        "    predicted = pd.DataFrame(columns=[\"predicted\"]) \n",
        "    \n",
        "    #Calculate the prediction accuracy\n",
        "    for i in range(len(data)):\n",
        "        predicted.loc[i,\"predicted\"] = predict(queries[i],tree,1.0) \n",
        "    print('The prediction accuracy is: ',(np.sum(predicted[\"predicted\"] == data[\"target\"])/len(data))*100,'%')\n",
        "    \n",
        "\n"
      ],
      "execution_count": null,
      "outputs": []
    },
    {
      "cell_type": "code",
      "metadata": {
        "colab": {
          "base_uri": "https://localhost:8080/"
        },
        "id": "Ci6oi36cLIuF",
        "outputId": "acee6421-1685-4f77-b45b-a7e65b497fb9"
      },
      "source": [
        "tree = id3(ds,ds,ds.columns[1:])\n",
        "pprint(tree)\n",
        "validate(validateing_data,tree)"
      ],
      "execution_count": null,
      "outputs": [
        {
          "output_type": "stream",
          "text": [
            "{'relationship': {' Husband': {'education': {' 10th': {'occupation': {' Adm-clerical': '<=50K',\n",
            "                                                                      ' Craft-repair': {'workclass': {' Private': {'race': {' Asian-Pac-Islander': '<=50K',\n",
            "                                                                                                                            ' Black': {'marital-status': {' Married-civ-spouse': {'sex': {' Male': {'native-country': {' United-States': '<=50K'}}}}}},\n",
            "                                                                                                                            ' White': {'marital-status': {' Married-civ-spouse': {'sex': {' Male': {'native-country': {' United-States': '<=50K'}}}}}}}},\n",
            "                                                                                                      ' Self-emp-not-inc': '<=50K'}},\n",
            "                                                                      ' Exec-managerial': {'workclass': {' Local-gov': '<=50K',\n",
            "                                                                                                         ' Private': '<=50K',\n",
            "                                                                                                         ' Self-emp-not-inc': '<=50K',\n",
            "                                                                                                         ' State-gov': '>50K'}},\n",
            "                                                                      ' Farming-fishing': '<=50K',\n",
            "                                                                      ' Handlers-cleaners': '<=50K',\n",
            "                                                                      ' Machine-op-inspct': {'workclass': {' Private': {'race': {' Black': '<=50K',\n",
            "                                                                                                                                 ' White': {'marital-status': {' Married-civ-spouse': {'sex': {' Male': {'native-country': {' United-States': '<=50K'}}}}}}}},\n",
            "                                                                                                           ' Self-emp-not-inc': '<=50K'}},\n",
            "                                                                      ' Other-service': '<=50K',\n",
            "                                                                      ' Protective-serv': '<=50K',\n",
            "                                                                      ' Sales': {'workclass': {' Private': {'marital-status': {' Married-civ-spouse': {'race': {' White': {'sex': {' Male': {'native-country': {' United-States': '<=50K'}}}}}}}},\n",
            "                                                                                               ' Self-emp-inc': '<=50K',\n",
            "                                                                                               ' Self-emp-not-inc': '<=50K'}},\n",
            "                                                                      ' Tech-support': '>50K',\n",
            "                                                                      ' Transport-moving': {'workclass': {' Local-gov': '<=50K',\n",
            "                                                                                                          ' Private': {'race': {' Amer-Indian-Eskimo': '<=50K',\n",
            "                                                                                                                                ' Black': '>50K',\n",
            "                                                                                                                                ' White': {'marital-status': {' Married-civ-spouse': {'sex': {' Male': {'native-country': {' United-States': '<=50K'}}}}}}}},\n",
            "                                                                                                          ' Self-emp-not-inc': '<=50K'}}}},\n",
            "                                             ' 11th': {'occupation': {' Adm-clerical': '<=50K',\n",
            "                                                                      ' Craft-repair': {'workclass': {' Local-gov': '>50K',\n",
            "                                                                                                      ' Private': '<=50K',\n",
            "                                                                                                      ' Self-emp-inc': '>50K',\n",
            "                                                                                                      ' Self-emp-not-inc': '<=50K'}},\n",
            "                                                                      ' Exec-managerial': '<=50K',\n",
            "                                                                      ' Farming-fishing': {'workclass': {' Private': '<=50K',\n",
            "                                                                                                         ' Self-emp-not-inc': {'marital-status': {' Married-civ-spouse': {'race': {' White': {'sex': {' Male': {'native-country': {' United-States': '<=50K'}}}}}}}},\n",
            "                                                                                                         ' State-gov': '<=50K'}},\n",
            "                                                                      ' Handlers-cleaners': {'race': {' Black': '<=50K',\n",
            "                                                                                                      ' White': {'native-country': {' Mexico': '<=50K',\n",
            "                                                                                                                                    ' United-States': {'workclass': {' Private': {'marital-status': {' Married-civ-spouse': {'sex': {' Male': '<=50K'}}}}}}}}}},\n",
            "                                                                      ' Machine-op-inspct': {'race': {' Asian-Pac-Islander': '<=50K',\n",
            "                                                                                                      ' Black': '<=50K',\n",
            "                                                                                                      ' White': {'workclass': {' Private': {'marital-status': {' Married-civ-spouse': {'sex': {' Male': {'native-country': {' United-States': '<=50K'}}}}}},\n",
            "                                                                                                                               ' Self-emp-not-inc': '<=50K'}}}},\n",
            "                                                                      ' Other-service': '<=50K',\n",
            "                                                                      ' Prof-specialty': '<=50K',\n",
            "                                                                      ' Protective-serv': '>50K',\n",
            "                                                                      ' Sales': {'workclass': {' Private': {'marital-status': {' Married-civ-spouse': {'race': {' White': {'sex': {' Male': {'native-country': {' United-States': '<=50K'}}}}}}}},\n",
            "                                                                                               ' Self-emp-not-inc': '<=50K'}},\n",
            "                                                                      ' Transport-moving': {'workclass': {' Local-gov': '<=50K',\n",
            "                                                                                                          ' Private': {'race': {' Asian-Pac-Islander': '<=50K',\n",
            "                                                                                                                                ' Black': '<=50K',\n",
            "                                                                                                                                ' White': {'marital-status': {' Married-civ-spouse': {'sex': {' Male': {'native-country': {' United-States': '<=50K'}}}}}}}},\n",
            "                                                                                                          ' Self-emp-not-inc': '>50K'}}}},\n",
            "                                             ' 12th': {'occupation': {' Craft-repair': {'workclass': {' Local-gov': '<=50K',\n",
            "                                                                                                      ' Private': '<=50K',\n",
            "                                                                                                      ' Self-emp-not-inc': {'marital-status': {' Married-civ-spouse': {'race': {' White': {'sex': {' Male': {'native-country': {' United-States': '<=50K'}}}}}}}}}},\n",
            "                                                                      ' Farming-fishing': '<=50K',\n",
            "                                                                      ' Handlers-cleaners': '>50K',\n",
            "                                                                      ' Machine-op-inspct': '<=50K',\n",
            "                                                                      ' Other-service': {'workclass': {' Local-gov': '>50K',\n",
            "                                                                                                       ' Private': '<=50K'}},\n",
            "                                                                      ' Tech-support': '<=50K',\n",
            "                                                                      ' Transport-moving': {'native-country': {' Cuba': '<=50K',\n",
            "                                                                                                               ' Jamaica': '<=50K',\n",
            "                                                                                                               ' Mexico': '<=50K',\n",
            "                                                                                                               ' United-States': {'workclass': {' Private': {'marital-status': {' Married-civ-spouse': {'race': {' White': {'sex': {' Male': '<=50K'}}}}}},\n",
            "                                                                                                                                                ' Self-emp-not-inc': '<=50K'}}}}}},\n",
            "                                             ' 1st-4th': {'occupation': {' Craft-repair': '<=50K',\n",
            "                                                                         ' Farming-fishing': {'workclass': {' Private': {'marital-status': {' Married-civ-spouse': {'race': {' White': {'sex': {' Male': {'native-country': {' Mexico': '<=50K'}}}}}}}}}},\n",
            "                                                                         ' Handlers-cleaners': '<=50K',\n",
            "                                                                         ' Machine-op-inspct': {'workclass': {' Private': {'marital-status': {' Married-civ-spouse': {'race': {' White': {'sex': {' Male': {'native-country': {' Mexico': '<=50K'}}}}}}}}}},\n",
            "                                                                         ' Other-service': '<=50K',\n",
            "                                                                         ' Transport-moving': '<=50K'}},\n",
            "                                             ' 5th-6th': {'occupation': {' Adm-clerical': '<=50K',\n",
            "                                                                         ' Craft-repair': {'workclass': {' Private': '<=50K',\n",
            "                                                                                                         ' Self-emp-not-inc': '>50K'}},\n",
            "                                                                         ' Exec-managerial': '>50K',\n",
            "                                                                         ' Farming-fishing': '<=50K',\n",
            "                                                                         ' Handlers-cleaners': '<=50K',\n",
            "                                                                         ' Machine-op-inspct': {'race': {' Asian-Pac-Islander': '<=50K',\n",
            "                                                                                                         ' White': {'workclass': {' Private': {'marital-status': {' Married-civ-spouse': {'sex': {' Male': {'native-country': {' Mexico': '<=50K'}}}}}}}}}},\n",
            "                                                                         ' Other-service': '<=50K',\n",
            "                                                                         ' Sales': {'workclass': {' Private': '<=50K',\n",
            "                                                                                                  ' Self-emp-inc': '>50K',\n",
            "                                                                                                  ' Self-emp-not-inc': '>50K'}},\n",
            "                                                                         ' Transport-moving': '<=50K'}},\n",
            "                                             ' 7th-8th': {'occupation': {' Craft-repair': {'race': {' Amer-Indian-Eskimo': '<=50K',\n",
            "                                                                                                    ' Asian-Pac-Islander': '<=50K',\n",
            "                                                                                                    ' Black': '>50K',\n",
            "                                                                                                    ' White': {'workclass': {' Private': '<=50K',\n",
            "                                                                                                                             ' Self-emp-inc': {'marital-status': {' Married-civ-spouse': {'sex': {' Male': {'native-country': {' United-States': '<=50K'}}}}}},\n",
            "                                                                                                                             ' Self-emp-not-inc': '<=50K'}}}},\n",
            "                                                                         ' Exec-managerial': {'native-country': {' Greece': {'workclass': {' Self-emp-not-inc': {'marital-status': {' Married-civ-spouse': {'race': {' White': {'sex': {' Male': '<=50K'}}}}}}}},\n",
            "                                                                                                                 ' United-States': {'workclass': {' Self-emp-not-inc': {'marital-status': {' Married-civ-spouse': {'race': {' White': {'sex': {' Male': '<=50K'}}}}}}}}}},\n",
            "                                                                         ' Farming-fishing': '<=50K',\n",
            "                                                                         ' Handlers-cleaners': '<=50K',\n",
            "                                                                         ' Machine-op-inspct': {'workclass': {' Private': {'native-country': {' Mexico': {'marital-status': {' Married-civ-spouse': {'race': {' White': {'sex': {' Male': '<=50K'}}}}}},\n",
            "                                                                                                                                              ' United-States': '<=50K'}},\n",
            "                                                                                                              ' Self-emp-inc': '>50K'}},\n",
            "                                                                         ' Other-service': '<=50K',\n",
            "                                                                         ' Prof-specialty': '<=50K',\n",
            "                                                                         ' Protective-serv': '<=50K',\n",
            "                                                                         ' Sales': {'workclass': {' Private': {'race': {' Other': '<=50K',\n",
            "                                                                                                                        ' White': {'marital-status': {' Married-civ-spouse': {'sex': {' Male': {'native-country': {' United-States': '<=50K'}}}}}}}},\n",
            "                                                                                                  ' Self-emp-not-inc': '<=50K'}},\n",
            "                                                                         ' Transport-moving': {'workclass': {' Local-gov': '<=50K',\n",
            "                                                                                                             ' Private': {'race': {' Amer-Indian-Eskimo': '<=50K',\n",
            "                                                                                                                                   ' Black': '<=50K',\n",
            "                                                                                                                                   ' White': {'native-country': {' Cuba': '<=50K',\n",
            "                                                                                                                                                                 ' United-States': {'marital-status': {' Married-civ-spouse': {'sex': {' Male': '<=50K'}}}}}}}},\n",
            "                                                                                                             ' Self-emp-not-inc': {'marital-status': {' Married-civ-spouse': {'race': {' White': {'sex': {' Male': {'native-country': {' United-States': '>50K'}}}}}}}},\n",
            "                                                                                                             ' State-gov': '<=50K'}}}},\n",
            "                                             ' 9th': {'occupation': {' Adm-clerical': {'workclass': {' Private': '>50K',\n",
            "                                                                                                     ' Self-emp-not-inc': '<=50K'}},\n",
            "                                                                     ' Craft-repair': {'workclass': {' Private': {'native-country': {' Mexico': '<=50K',\n",
            "                                                                                                                                     ' United-States': {'marital-status': {' Married-civ-spouse': {'race': {' White': {'sex': {' Male': '<=50K'}}}}}}}},\n",
            "                                                                                                     ' Self-emp-not-inc': '<=50K',\n",
            "                                                                                                     ' State-gov': '<=50K'}},\n",
            "                                                                     ' Exec-managerial': {'workclass': {' Private': '>50K',\n",
            "                                                                                                        ' Self-emp-inc': '<=50K'}},\n",
            "                                                                     ' Farming-fishing': '<=50K',\n",
            "                                                                     ' Handlers-cleaners': '<=50K',\n",
            "                                                                     ' Machine-op-inspct': '<=50K',\n",
            "                                                                     ' Other-service': '<=50K',\n",
            "                                                                     ' Prof-specialty': '<=50K',\n",
            "                                                                     ' Protective-serv': '<=50K',\n",
            "                                                                     ' Sales': '<=50K',\n",
            "                                                                     ' Tech-support': '<=50K',\n",
            "                                                                     ' Transport-moving': {'workclass': {' Local-gov': '<=50K',\n",
            "                                                                                                         ' Private': {'race': {' Black': '<=50K',\n",
            "                                                                                                                               ' White': {'marital-status': {' Married-civ-spouse': {'sex': {' Male': {'native-country': {' United-States': '<=50K'}}}}}}}},\n",
            "                                                                                                         ' Self-emp-inc': '<=50K'}}}},\n",
            "                                             ' Assoc-acdm': {'occupation': {' Adm-clerical': {'workclass': {' Federal-gov': {'race': {' Black': '>50K',\n",
            "                                                                                                                                      ' White': {'marital-status': {' Married-civ-spouse': {'sex': {' Male': {'native-country': {' United-States': '<=50K'}}}}}}}},\n",
            "                                                                                                            ' Local-gov': '<=50K',\n",
            "                                                                                                            ' Private': {'native-country': {' Columbia': '<=50K',\n",
            "                                                                                                                                            ' India': '<=50K',\n",
            "                                                                                                                                            ' United-States': {'marital-status': {' Married-civ-spouse': {'race': {' White': {'sex': {' Male': '<=50K'}}}}}}}},\n",
            "                                                                                                            ' State-gov': '>50K'}},\n",
            "                                                                            ' Craft-repair': {'workclass': {' Federal-gov': '>50K',\n",
            "                                                                                                            ' Private': {'native-country': {' Germany': '>50K',\n",
            "                                                                                                                                            ' Portugal': '<=50K',\n",
            "                                                                                                                                            ' United-States': {'marital-status': {' Married-civ-spouse': {'race': {' White': {'sex': {' Male': '>50K'}}}}}}}},\n",
            "                                                                                                            ' Self-emp-not-inc': '<=50K',\n",
            "                                                                                                            ' State-gov': '<=50K'}},\n",
            "                                                                            ' Exec-managerial': {'workclass': {' Federal-gov': '<=50K',\n",
            "                                                                                                               ' Local-gov': '<=50K',\n",
            "                                                                                                               ' Private': {'marital-status': {' Married-civ-spouse': {'race': {' White': {'sex': {' Male': {'native-country': {' United-States': '>50K'}}}}}}}},\n",
            "                                                                                                               ' Self-emp-inc': '>50K'}},\n",
            "                                                                            ' Farming-fishing': '<=50K',\n",
            "                                                                            ' Handlers-cleaners': '<=50K',\n",
            "                                                                            ' Machine-op-inspct': {'workclass': {' Private': {'marital-status': {' Married-civ-spouse': {'race': {' White': {'sex': {' Male': {'native-country': {' United-States': '>50K'}}}}}}}}}},\n",
            "                                                                            ' Other-service': '<=50K',\n",
            "                                                                            ' Prof-specialty': {'workclass': {' Federal-gov': '>50K',\n",
            "                                                                                                              ' Local-gov': {'native-country': {' Canada': '>50K',\n",
            "                                                                                                                                                ' United-States': '<=50K'}},\n",
            "                                                                                                              ' Private': {'race': {' Black': '<=50K',\n",
            "                                                                                                                                    ' White': {'marital-status': {' Married-civ-spouse': {'sex': {' Male': {'native-country': {' United-States': '<=50K'}}}}}}}},\n",
            "                                                                                                              ' Self-emp-not-inc': '<=50K'}},\n",
            "                                                                            ' Protective-serv': {'workclass': {' Local-gov': {'native-country': {' England': '<=50K',\n",
            "                                                                                                                                                 ' Hong': '>50K',\n",
            "                                                                                                                                                 ' United-States': {'marital-status': {' Married-civ-spouse': {'race': {' White': {'sex': {' Male': '>50K'}}}}}}}},\n",
            "                                                                                                               ' Private': '>50K',\n",
            "                                                                                                               ' Self-emp-not-inc': '<=50K',\n",
            "                                                                                                               ' State-gov': '<=50K'}},\n",
            "                                                                            ' Sales': {'workclass': {' Private': {'marital-status': {' Married-civ-spouse': {'race': {' White': {'sex': {' Male': {'native-country': {' United-States': '>50K'}}}}}}}},\n",
            "                                                                                                     ' Self-emp-inc': '>50K',\n",
            "                                                                                                     ' Self-emp-not-inc': '<=50K'}},\n",
            "                                                                            ' Tech-support': {'workclass': {' Federal-gov': '<=50K',\n",
            "                                                                                                            ' Local-gov': '<=50K',\n",
            "                                                                                                            ' Private': {'marital-status': {' Married-civ-spouse': {'race': {' White': {'sex': {' Male': {'native-country': {' United-States': '>50K'}}}}}}}}}},\n",
            "                                                                            ' Transport-moving': {'workclass': {' Private': '<=50K',\n",
            "                                                                                                                ' Self-emp-not-inc': '>50K'}}}},\n",
            "                                             ' Assoc-voc': {'native-country': {' Canada': '<=50K',\n",
            "                                                                               ' England': '<=50K',\n",
            "                                                                               ' Germany': '>50K',\n",
            "                                                                               ' Greece': '<=50K',\n",
            "                                                                               ' Japan': '<=50K',\n",
            "                                                                               ' Mexico': '<=50K',\n",
            "                                                                               ' Philippines': '>50K',\n",
            "                                                                               ' Poland': '>50K',\n",
            "                                                                               ' Portugal': '>50K',\n",
            "                                                                               ' Puerto-Rico': '<=50K',\n",
            "                                                                               ' United-States': {'occupation': {' Adm-clerical': {'workclass': {' Private': {'marital-status': {' Married-civ-spouse': {'race': {' White': {'sex': {' Male': '<=50K'}}}}}}}},\n",
            "                                                                                                                 ' Craft-repair': {'workclass': {' Federal-gov': {'race': {' Asian-Pac-Islander': '>50K',\n",
            "                                                                                                                                                                           ' White': '<=50K'}},\n",
            "                                                                                                                                                 ' Local-gov': '>50K',\n",
            "                                                                                                                                                 ' Private': {'race': {' Black': {'marital-status': {' Married-civ-spouse': {'sex': {' Male': '<=50K'}}}},\n",
            "                                                                                                                                                                       ' White': {'marital-status': {' Married-civ-spouse': {'sex': {' Male': '<=50K'}}}}}},\n",
            "                                                                                                                                                 ' Self-emp-inc': '<=50K',\n",
            "                                                                                                                                                 ' Self-emp-not-inc': {'marital-status': {' Married-civ-spouse': {'race': {' White': {'sex': {' Male': '<=50K'}}}}}},\n",
            "                                                                                                                                                 ' State-gov': '<=50K'}},\n",
            "                                                                                                                 ' Exec-managerial': {'workclass': {' Local-gov': '>50K',\n",
            "                                                                                                                                                    ' Private': {'race': {' Black': {'marital-status': {' Married-civ-spouse': {'sex': {' Male': '<=50K'}}}},\n",
            "                                                                                                                                                                          ' White': {'marital-status': {' Married-civ-spouse': {'sex': {' Male': '>50K'}}}}}},\n",
            "                                                                                                                                                    ' Self-emp-inc': {'marital-status': {' Married-civ-spouse': {'race': {' White': {'sex': {' Male': '>50K'}}}}}},\n",
            "                                                                                                                                                    ' Self-emp-not-inc': '<=50K',\n",
            "                                                                                                                                                    ' State-gov': '<=50K'}},\n",
            "                                                                                                                 ' Farming-fishing': {'workclass': {' Private': {'marital-status': {' Married-civ-spouse': {'race': {' White': {'sex': {' Male': '<=50K'}}}}}},\n",
            "                                                                                                                                                    ' Self-emp-not-inc': {'marital-status': {' Married-civ-spouse': {'race': {' White': {'sex': {' Male': '<=50K'}}}}}}}},\n",
            "                                                                                                                 ' Handlers-cleaners': {'race': {' Black': '<=50K',\n",
            "                                                                                                                                                 ' White': {'workclass': {' Private': {'marital-status': {' Married-civ-spouse': {'sex': {' Male': '<=50K'}}}}}}}},\n",
            "                                                                                                                 ' Machine-op-inspct': {'race': {' Amer-Indian-Eskimo': '<=50K',\n",
            "                                                                                                                                                 ' Asian-Pac-Islander': '>50K',\n",
            "                                                                                                                                                 ' White': {'workclass': {' Private': {'marital-status': {' Married-civ-spouse': {'sex': {' Male': '<=50K'}}}},\n",
            "                                                                                                                                                                          ' State-gov': '>50K'}}}},\n",
            "                                                                                                                 ' Other-service': {'workclass': {' Private': {'marital-status': {' Married-civ-spouse': {'race': {' White': {'sex': {' Male': '<=50K'}}}}}},\n",
            "                                                                                                                                                  ' State-gov': '<=50K'}},\n",
            "                                                                                                                 ' Prof-specialty': {'workclass': {' Local-gov': '<=50K',\n",
            "                                                                                                                                                   ' Private': {'marital-status': {' Married-civ-spouse': {'race': {' White': {'sex': {' Male': '<=50K'}}}}}},\n",
            "                                                                                                                                                   ' Self-emp-not-inc': {'race': {' Other': '<=50K',\n",
            "                                                                                                                                                                                  ' White': {'marital-status': {' Married-civ-spouse': {'sex': {' Male': '<=50K'}}}}}}}},\n",
            "                                                                                                                 ' Protective-serv': {'workclass': {' Federal-gov': '<=50K',\n",
            "                                                                                                                                                    ' Local-gov': {'race': {' Black': '<=50K',\n",
            "                                                                                                                                                                            ' White': {'marital-status': {' Married-civ-spouse': {'sex': {' Male': '>50K'}}}}}}}},\n",
            "                                                                                                                 ' Sales': {'workclass': {' Private': {'marital-status': {' Married-civ-spouse': {'race': {' White': {'sex': {' Male': '<=50K'}}}}}},\n",
            "                                                                                                                                          ' Self-emp-not-inc': '>50K'}},\n",
            "                                                                                                                 ' Tech-support': {'workclass': {' Private': {'marital-status': {' Married-civ-spouse': {'race': {' White': {'sex': {' Male': '>50K'}}}}}},\n",
            "                                                                                                                                                 ' Self-emp-not-inc': '<=50K',\n",
            "                                                                                                                                                 ' State-gov': '>50K'}},\n",
            "                                                                                                                 ' Transport-moving': {'workclass': {' Private': {'marital-status': {' Married-civ-spouse': {'race': {' White': {'sex': {' Male': '<=50K'}}}}}}}}}}}},\n",
            "                                             ' Bachelors': {'occupation': {' Adm-clerical': {'native-country': {' Canada': '<=50K',\n",
            "                                                                                                                ' Germany': '>50K',\n",
            "                                                                                                                ' India': '<=50K',\n",
            "                                                                                                                ' Iran': '>50K',\n",
            "                                                                                                                ' Italy': '<=50K',\n",
            "                                                                                                                ' Mexico': '<=50K',\n",
            "                                                                                                                ' Philippines': {'workclass': {' Federal-gov': '>50K',\n",
            "                                                                                                                                               ' Private': '<=50K'}},\n",
            "                                                                                                                ' United-States': {'workclass': {' Federal-gov': '>50K',\n",
            "                                                                                                                                                 ' Local-gov': {'marital-status': {' Married-civ-spouse': {'race': {' White': {'sex': {' Male': '<=50K'}}}}}},\n",
            "                                                                                                                                                 ' Private': {'marital-status': {' Married-civ-spouse': {'race': {' White': {'sex': {' Male': '>50K'}}}}}},\n",
            "                                                                                                                                                 ' Self-emp-not-inc': '<=50K',\n",
            "                                                                                                                                                 ' State-gov': {'race': {' Black': '<=50K',\n",
            "                                                                                                                                                                         ' White': {'marital-status': {' Married-civ-spouse': {'sex': {' Male': '>50K'}}}}}}}},\n",
            "                                                                                                                ' Vietnam': '<=50K'}},\n",
            "                                                                           ' Craft-repair': {'workclass': {' Local-gov': '<=50K',\n",
            "                                                                                                           ' Private': {'native-country': {' Canada': '<=50K',\n",
            "                                                                                                                                           ' Mexico': '<=50K',\n",
            "                                                                                                                                           ' South': '<=50K',\n",
            "                                                                                                                                           ' United-States': {'marital-status': {' Married-civ-spouse': {'race': {' White': {'sex': {' Male': '>50K'}}}}}}}},\n",
            "                                                                                                           ' Self-emp-inc': '>50K',\n",
            "                                                                                                           ' Self-emp-not-inc': {'marital-status': {' Married-civ-spouse': {'race': {' White': {'sex': {' Male': {'native-country': {' United-States': '<=50K'}}}}}}}}}},\n",
            "                                                                           ' Exec-managerial': {'native-country': {' Canada': '>50K',\n",
            "                                                                                                                   ' Dominican-Republic': '<=50K',\n",
            "                                                                                                                   ' England': '>50K',\n",
            "                                                                                                                   ' France': '>50K',\n",
            "                                                                                                                   ' Germany': {'workclass': {' Self-emp-inc': '>50K',\n",
            "                                                                                                                                              ' Self-emp-not-inc': '<=50K'}},\n",
            "                                                                                                                   ' Greece': '>50K',\n",
            "                                                                                                                   ' India': '>50K',\n",
            "                                                                                                                   ' Iran': '>50K',\n",
            "                                                                                                                   ' Italy': '>50K',\n",
            "                                                                                                                   ' Japan': '>50K',\n",
            "                                                                                                                   ' Philippines': '<=50K',\n",
            "                                                                                                                   ' Puerto-Rico': {'workclass': {' Private': '<=50K',\n",
            "                                                                                                                                                  ' Self-emp-not-inc': '>50K'}},\n",
            "                                                                                                                   ' South': {'workclass': {' Private': {'marital-status': {' Married-civ-spouse': {'race': {' Asian-Pac-Islander': {'sex': {' Male': '<=50K'}}}}}}}},\n",
            "                                                                                                                   ' United-States': {'workclass': {' Federal-gov': {'marital-status': {' Married-civ-spouse': {'race': {' White': {'sex': {' Male': '<=50K'}}}}}},\n",
            "                                                                                                                                                    ' Local-gov': {'race': {' Black': '>50K',\n",
            "                                                                                                                                                                            ' White': {'marital-status': {' Married-civ-spouse': {'sex': {' Male': '>50K'}}}}}},\n",
            "                                                                                                                                                    ' Private': {'race': {' Black': {'marital-status': {' Married-civ-spouse': {'sex': {' Male': '>50K'}}}},\n",
            "                                                                                                                                                                          ' White': {'marital-status': {' Married-civ-spouse': {'sex': {' Male': '>50K'}}}}}},\n",
            "                                                                                                                                                    ' Self-emp-inc': {'marital-status': {' Married-civ-spouse': {'race': {' White': {'sex': {' Male': '>50K'}}}}}},\n",
            "                                                                                                                                                    ' Self-emp-not-inc': {'marital-status': {' Married-civ-spouse': {'race': {' White': {'sex': {' Male': '>50K'}}}}}},\n",
            "                                                                                                                                                    ' State-gov': {'marital-status': {' Married-civ-spouse': {'race': {' White': {'sex': {' Male': '>50K'}}}}}}}}}},\n",
            "                                                                           ' Farming-fishing': {'workclass': {' Private': {'native-country': {' England': '<=50K',\n",
            "                                                                                                                                              ' United-States': {'marital-status': {' Married-civ-spouse': {'race': {' White': {'sex': {' Male': '>50K'}}}}}}}},\n",
            "                                                                                                              ' Self-emp-inc': '>50K',\n",
            "                                                                                                              ' Self-emp-not-inc': {'marital-status': {' Married-civ-spouse': {'race': {' White': {'sex': {' Male': {'native-country': {' United-States': '<=50K'}}}}}}}}}},\n",
            "                                                                           ' Handlers-cleaners': {'race': {' Asian-Pac-Islander': '<=50K',\n",
            "                                                                                                           ' Black': '>50K',\n",
            "                                                                                                           ' White': {'workclass': {' Local-gov': '>50K',\n",
            "                                                                                                                                    ' Private': '<=50K'}}}},\n",
            "                                                                           ' Machine-op-inspct': {'race': {' Amer-Indian-Eskimo': '<=50K',\n",
            "                                                                                                           ' Black': '<=50K',\n",
            "                                                                                                           ' White': {'native-country': {' Poland': '>50K',\n",
            "                                                                                                                                         ' United-States': {'workclass': {' Private': {'marital-status': {' Married-civ-spouse': {'sex': {' Male': '<=50K'}}}},\n",
            "                                                                                                                                                                          ' Self-emp-inc': {'marital-status': {' Married-civ-spouse': {'sex': {' Male': '<=50K'}}}}}}}}}},\n",
            "                                                                           ' Other-service': {'native-country': {' China': '<=50K',\n",
            "                                                                                                                 ' Cuba': '<=50K',\n",
            "                                                                                                                 ' El-Salvador': '<=50K',\n",
            "                                                                                                                 ' Philippines': '>50K',\n",
            "                                                                                                                 ' South': '<=50K',\n",
            "                                                                                                                 ' United-States': {'race': {' Asian-Pac-Islander': '>50K',\n",
            "                                                                                                                                             ' Black': {'workclass': {' Private': {'marital-status': {' Married-civ-spouse': {'sex': {' Male': '<=50K'}}}}}},\n",
            "                                                                                                                                             ' White': '<=50K'}},\n",
            "                                                                                                                 ' Vietnam': '<=50K'}},\n",
            "                                                                           ' Prof-specialty': {'native-country': {' Canada': '>50K',\n",
            "                                                                                                                  ' China': '>50K',\n",
            "                                                                                                                  ' Ecuador': '<=50K',\n",
            "                                                                                                                  ' El-Salvador': '<=50K',\n",
            "                                                                                                                  ' Germany': '<=50K',\n",
            "                                                                                                                  ' India': {'workclass': {' Local-gov': '<=50K',\n",
            "                                                                                                                                           ' State-gov': '>50K'}},\n",
            "                                                                                                                  ' Iran': {'workclass': {' Federal-gov': '<=50K',\n",
            "                                                                                                                                          ' Private': {'marital-status': {' Married-civ-spouse': {'race': {' White': {'sex': {' Male': '<=50K'}}}}}}}},\n",
            "                                                                                                                  ' Italy': '>50K',\n",
            "                                                                                                                  ' Japan': '<=50K',\n",
            "                                                                                                                  ' Nicaragua': '<=50K',\n",
            "                                                                                                                  ' Peru': '>50K',\n",
            "                                                                                                                  ' Puerto-Rico': '>50K',\n",
            "                                                                                                                  ' South': '<=50K',\n",
            "                                                                                                                  ' United-States': {'workclass': {' Federal-gov': {'race': {' Asian-Pac-Islander': '>50K',\n",
            "                                                                                                                                                                             ' Black': '>50K',\n",
            "                                                                                                                                                                             ' White': {'marital-status': {' Married-civ-spouse': {'sex': {' Male': '>50K'}}}}}},\n",
            "                                                                                                                                                   ' Local-gov': {'race': {' Black': {'marital-status': {' Married-civ-spouse': {'sex': {' Male': '<=50K'}}}},\n",
            "                                                                                                                                                                           ' White': {'marital-status': {' Married-civ-spouse': {'sex': {' Male': '>50K'}}}}}},\n",
            "                                                                                                                                                   ' Private': {'race': {' Black': {'marital-status': {' Married-civ-spouse': {'sex': {' Male': '<=50K'}}}},\n",
            "                                                                                                                                                                         ' White': {'marital-status': {' Married-civ-spouse': {'sex': {' Male': '>50K'}}}}}},\n",
            "                                                                                                                                                   ' Self-emp-inc': {'marital-status': {' Married-civ-spouse': {'race': {' White': {'sex': {' Male': '>50K'}}}}}},\n",
            "                                                                                                                                                   ' Self-emp-not-inc': {'race': {' Black': '>50K',\n",
            "                                                                                                                                                                                  ' White': {'marital-status': {' Married-civ-spouse': {'sex': {' Male': '>50K'}}}}}},\n",
            "                                                                                                                                                   ' State-gov': {'marital-status': {' Married-civ-spouse': {'race': {' White': {'sex': {' Male': '>50K'}}}}}}}}}},\n",
            "                                                                           ' Protective-serv': {'workclass': {' Federal-gov': {'race': {' Black': '>50K',\n",
            "                                                                                                                                        ' White': {'marital-status': {' Married-civ-spouse': {'sex': {' Male': {'native-country': {' United-States': '>50K'}}}}}}}},\n",
            "                                                                                                              ' Local-gov': {'race': {' Black': '>50K',\n",
            "                                                                                                                                      ' White': {'marital-status': {' Married-civ-spouse': {'sex': {' Male': {'native-country': {' United-States': '>50K'}}}}}}}},\n",
            "                                                                                                              ' Private': {'race': {' Black': '<=50K',\n",
            "                                                                                                                                    ' White': '>50K'}},\n",
            "                                                                                                              ' State-gov': {'marital-status': {' Married-civ-spouse': {'race': {' White': {'sex': {' Male': {'native-country': {' United-States': '>50K'}}}}}}}}}},\n",
            "                                                                           ' Sales': {'native-country': {' Canada': '>50K',\n",
            "                                                                                                         ' China': '>50K',\n",
            "                                                                                                         ' India': '<=50K',\n",
            "                                                                                                         ' Iran': '>50K',\n",
            "                                                                                                         ' Japan': '<=50K',\n",
            "                                                                                                         ' Poland': '<=50K',\n",
            "                                                                                                         ' Puerto-Rico': '<=50K',\n",
            "                                                                                                         ' South': '<=50K',\n",
            "                                                                                                         ' United-States': {'workclass': {' Federal-gov': {'marital-status': {' Married-civ-spouse': {'race': {' White': {'sex': {' Male': '<=50K'}}}}}},\n",
            "                                                                                                                                          ' Local-gov': '>50K',\n",
            "                                                                                                                                          ' Private': {'race': {' Black': '>50K',\n",
            "                                                                                                                                                                ' White': {'marital-status': {' Married-civ-spouse': {'sex': {' Male': '>50K'}}}}}},\n",
            "                                                                                                                                          ' Self-emp-inc': {'marital-status': {' Married-civ-spouse': {'race': {' White': {'sex': {' Male': '>50K'}}}}}},\n",
            "                                                                                                                                          ' Self-emp-not-inc': {'marital-status': {' Married-civ-spouse': {'race': {' White': {'sex': {' Male': '>50K'}}}}}}}},\n",
            "                                                                                                         ' Vietnam': '<=50K'}},\n",
            "                                                                           ' Tech-support': {'workclass': {' Federal-gov': {'race': {' Black': '>50K',\n",
            "                                                                                                                                     ' White': '<=50K'}},\n",
            "                                                                                                           ' Local-gov': '>50K',\n",
            "                                                                                                           ' Private': {'marital-status': {' Married-civ-spouse': {'race': {' White': {'sex': {' Male': {'native-country': {' United-States': '>50K'}}}}}}}},\n",
            "                                                                                                           ' Self-emp-inc': '<=50K',\n",
            "                                                                                                           ' State-gov': {'marital-status': {' Married-civ-spouse': {'race': {' White': {'sex': {' Male': {'native-country': {' United-States': '<=50K'}}}}}}}}}},\n",
            "                                                                           ' Transport-moving': {'native-country': {' Canada': '>50K',\n",
            "                                                                                                                    ' United-States': {'workclass': {' Private': {'marital-status': {' Married-civ-spouse': {'race': {' White': {'sex': {' Male': '<=50K'}}}}}}}}}}}},\n",
            "                                             ' Doctorate': {'native-country': {' Canada': {'workclass': {' Private': '<=50K',\n",
            "                                                                                                         ' Self-emp-inc': '>50K'}},\n",
            "                                                                               ' China': '>50K',\n",
            "                                                                               ' Columbia': '>50K',\n",
            "                                                                               ' Cuba': '>50K',\n",
            "                                                                               ' El-Salvador': '>50K',\n",
            "                                                                               ' Germany': '>50K',\n",
            "                                                                               ' India': '<=50K',\n",
            "                                                                               ' Iran': '>50K',\n",
            "                                                                               ' Taiwan': {'workclass': {' Private': '>50K',\n",
            "                                                                                                         ' State-gov': {'marital-status': {' Married-civ-spouse': {'occupation': {' Prof-specialty': {'race': {' Asian-Pac-Islander': {'sex': {' Male': '<=50K'}}}}}}}}}},\n",
            "                                                                               ' United-States': {'workclass': {' Federal-gov': '>50K',\n",
            "                                                                                                                ' Local-gov': '>50K',\n",
            "                                                                                                                ' Private': {'occupation': {' Adm-clerical': '>50K',\n",
            "                                                                                                                                            ' Exec-managerial': '>50K',\n",
            "                                                                                                                                            ' Prof-specialty': {'marital-status': {' Married-civ-spouse': {'race': {' White': {'sex': {' Male': '>50K'}}}}}}}},\n",
            "                                                                                                                ' Self-emp-inc': '>50K',\n",
            "                                                                                                                ' Self-emp-not-inc': {'occupation': {' Craft-repair': '<=50K',\n",
            "                                                                                                                                                     ' Exec-managerial': {'marital-status': {' Married-civ-spouse': {'race': {' White': {'sex': {' Male': '<=50K'}}}}}},\n",
            "                                                                                                                                                     ' Prof-specialty': {'marital-status': {' Married-civ-spouse': {'race': {' White': {'sex': {' Male': '>50K'}}}}}}}},\n",
            "                                                                                                                ' State-gov': '>50K'}}}},\n",
            "                                             ' HS-grad': {'occupation': {' Adm-clerical': {'race': {' Amer-Indian-Eskimo': '>50K',\n",
            "                                                                                                    ' Asian-Pac-Islander': '<=50K',\n",
            "                                                                                                    ' Black': {'workclass': {' Federal-gov': {'marital-status': {' Married-civ-spouse': {'sex': {' Male': {'native-country': {' United-States': '>50K'}}}}}},\n",
            "                                                                                                                             ' Local-gov': '<=50K',\n",
            "                                                                                                                             ' Private': '<=50K',\n",
            "                                                                                                                             ' State-gov': '>50K'}},\n",
            "                                                                                                    ' Other': '<=50K',\n",
            "                                                                                                    ' White': {'native-country': {' Germany': '>50K',\n",
            "                                                                                                                                  ' Mexico': '<=50K',\n",
            "                                                                                                                                  ' United-States': {'workclass': {' Federal-gov': {'marital-status': {' Married-civ-spouse': {'sex': {' Male': '<=50K'}}}},\n",
            "                                                                                                                                                                   ' Private': {'marital-status': {' Married-AF-spouse': '<=50K',\n",
            "                                                                                                                                                                                                   ' Married-civ-spouse': {'sex': {' Male': '<=50K'}}}},\n",
            "                                                                                                                                                                   ' Self-emp-inc': {'marital-status': {' Married-civ-spouse': {'sex': {' Male': '<=50K'}}}},\n",
            "                                                                                                                                                                   ' State-gov': {'marital-status': {' Married-civ-spouse': {'sex': {' Male': '<=50K'}}}}}}}}}},\n",
            "                                                                         ' Craft-repair': {'native-country': {' Cuba': '>50K',\n",
            "                                                                                                              ' Ecuador': '>50K',\n",
            "                                                                                                              ' El-Salvador': '<=50K',\n",
            "                                                                                                              ' England': '<=50K',\n",
            "                                                                                                              ' Germany': '<=50K',\n",
            "                                                                                                              ' Greece': '<=50K',\n",
            "                                                                                                              ' Italy': '>50K',\n",
            "                                                                                                              ' Laos': '<=50K',\n",
            "                                                                                                              ' Mexico': {'workclass': {' Private': {'marital-status': {' Married-civ-spouse': {'race': {' White': {'sex': {' Male': '<=50K'}}}}}}}},\n",
            "                                                                                                              ' Peru': '<=50K',\n",
            "                                                                                                              ' Poland': '<=50K',\n",
            "                                                                                                              ' South': '<=50K',\n",
            "                                                                                                              ' United-States': {'workclass': {' Federal-gov': '>50K',\n",
            "                                                                                                                                               ' Local-gov': {'marital-status': {' Married-civ-spouse': {'race': {' White': {'sex': {' Male': '<=50K'}}}}}},\n",
            "                                                                                                                                               ' Private': {'race': {' Amer-Indian-Eskimo': '<=50K',\n",
            "                                                                                                                                                                     ' Asian-Pac-Islander': {'marital-status': {' Married-civ-spouse': {'sex': {' Male': '<=50K'}}}},\n",
            "                                                                                                                                                                     ' Black': {'marital-status': {' Married-civ-spouse': {'sex': {' Male': '<=50K'}}}},\n",
            "                                                                                                                                                                     ' Other': '<=50K',\n",
            "                                                                                                                                                                     ' White': {'marital-status': {' Married-civ-spouse': {'sex': {' Male': '<=50K'}}}}}},\n",
            "                                                                                                                                               ' Self-emp-inc': {'marital-status': {' Married-civ-spouse': {'race': {' White': {'sex': {' Male': '>50K'}}}}}},\n",
            "                                                                                                                                               ' Self-emp-not-inc': {'marital-status': {' Married-AF-spouse': '<=50K',\n",
            "                                                                                                                                                                                        ' Married-civ-spouse': {'race': {' White': {'sex': {' Male': '<=50K'}}}}}},\n",
            "                                                                                                                                               ' State-gov': {'race': {' Black': '>50K',\n",
            "                                                                                                                                                                       ' White': {'marital-status': {' Married-civ-spouse': {'sex': {' Male': '<=50K'}}}}}}}}}},\n",
            "                                                                         ' Exec-managerial': {'native-country': {' Canada': '>50K',\n",
            "                                                                                                                 ' China': '<=50K',\n",
            "                                                                                                                 ' Columbia': '<=50K',\n",
            "                                                                                                                 ' Greece': '<=50K',\n",
            "                                                                                                                 ' Hungary': '<=50K',\n",
            "                                                                                                                 ' Japan': '>50K',\n",
            "                                                                                                                 ' Taiwan': '>50K',\n",
            "                                                                                                                 ' United-States': {'workclass': {' Federal-gov': '>50K',\n",
            "                                                                                                                                                  ' Local-gov': {'race': {' Amer-Indian-Eskimo': '<=50K',\n",
            "                                                                                                                                                                          ' White': {'marital-status': {' Married-civ-spouse': {'sex': {' Male': '<=50K'}}}}}},\n",
            "                                                                                                                                                  ' Private': {'race': {' Black': '<=50K',\n",
            "                                                                                                                                                                        ' White': {'marital-status': {' Married-civ-spouse': {'sex': {' Male': '>50K'}}}}}},\n",
            "                                                                                                                                                  ' Self-emp-inc': {'race': {' Asian-Pac-Islander': '>50K',\n",
            "                                                                                                                                                                             ' White': {'marital-status': {' Married-civ-spouse': {'sex': {' Male': '>50K'}}}}}},\n",
            "                                                                                                                                                  ' Self-emp-not-inc': {'race': {' Black': {'marital-status': {' Married-civ-spouse': {'sex': {' Male': '<=50K'}}}},\n",
            "                                                                                                                                                                                 ' White': {'marital-status': {' Married-civ-spouse': {'sex': {' Male': '<=50K'}}}}}},\n",
            "                                                                                                                                                  ' State-gov': '<=50K'}}}},\n",
            "                                                                         ' Farming-fishing': {'native-country': {' Cambodia': '>50K',\n",
            "                                                                                                                 ' Italy': '<=50K',\n",
            "                                                                                                                 ' Mexico': '<=50K',\n",
            "                                                                                                                 ' United-States': {'workclass': {' Local-gov': '<=50K',\n",
            "                                                                                                                                                  ' Private': {'race': {' Amer-Indian-Eskimo': '<=50K',\n",
            "                                                                                                                                                                        ' White': {'marital-status': {' Married-civ-spouse': {'sex': {' Male': '<=50K'}}}}}},\n",
            "                                                                                                                                                  ' Self-emp-inc': {'marital-status': {' Married-civ-spouse': {'race': {' White': {'sex': {' Male': '<=50K'}}}}}},\n",
            "                                                                                                                                                  ' Self-emp-not-inc': {'race': {' Asian-Pac-Islander': '<=50K',\n",
            "                                                                                                                                                                                 ' White': {'marital-status': {' Married-civ-spouse': {'sex': {' Male': '<=50K'}}}}}}}}}},\n",
            "                                                                         ' Handlers-cleaners': {'workclass': {' Local-gov': '<=50K',\n",
            "                                                                                                              ' Private': {'native-country': {' India': '<=50K',\n",
            "                                                                                                                                              ' Mexico': '<=50K',\n",
            "                                                                                                                                              ' United-States': {'race': {' Black': {'marital-status': {' Married-civ-spouse': {'sex': {' Male': '<=50K'}}}},\n",
            "                                                                                                                                                                          ' White': {'marital-status': {' Married-civ-spouse': {'sex': {' Male': '<=50K'}}}}}}}},\n",
            "                                                                                                              ' Self-emp-inc': '<=50K',\n",
            "                                                                                                              ' Self-emp-not-inc': '<=50K'}},\n",
            "                                                                         ' Machine-op-inspct': {'native-country': {' Canada': '<=50K',\n",
            "                                                                                                                   ' Cuba': '>50K',\n",
            "                                                                                                                   ' England': {'workclass': {' Private': {'marital-status': {' Married-civ-spouse': {'race': {' White': {'sex': {' Male': '<=50K'}}}}}}}},\n",
            "                                                                                                                   ' Haiti': '<=50K',\n",
            "                                                                                                                   ' Ireland': {'workclass': {' Private': {'marital-status': {' Married-civ-spouse': {'race': {' White': {'sex': {' Male': '<=50K'}}}}}}}},\n",
            "                                                                                                                   ' Italy': '<=50K',\n",
            "                                                                                                                   ' Mexico': '<=50K',\n",
            "                                                                                                                   ' Portugal': '<=50K',\n",
            "                                                                                                                   ' South': '<=50K',\n",
            "                                                                                                                   ' United-States': {'race': {' Amer-Indian-Eskimo': '<=50K',\n",
            "                                                                                                                                               ' Black': {'workclass': {' Private': {'marital-status': {' Married-civ-spouse': {'sex': {' Male': '<=50K'}}}}}},\n",
            "                                                                                                                                               ' White': {'workclass': {' Private': {'marital-status': {' Married-civ-spouse': {'sex': {' Male': '<=50K'}}}},\n",
            "                                                                                                                                                                        ' Self-emp-not-inc': '<=50K'}}}}}},\n",
            "                                                                         ' Other-service': {'native-country': {' Canada': '>50K',\n",
            "                                                                                                               ' China': '<=50K',\n",
            "                                                                                                               ' England': '<=50K',\n",
            "                                                                                                               ' Germany': '<=50K',\n",
            "                                                                                                               ' Ireland': '<=50K',\n",
            "                                                                                                               ' Japan': '<=50K',\n",
            "                                                                                                               ' Mexico': {'workclass': {' Private': {'marital-status': {' Married-civ-spouse': {'race': {' White': {'sex': {' Male': '<=50K'}}}}}}}},\n",
            "                                                                                                               ' Thailand': '<=50K',\n",
            "                                                                                                               ' United-States': {'race': {' Amer-Indian-Eskimo': '<=50K',\n",
            "                                                                                                                                           ' Black': '<=50K',\n",
            "                                                                                                                                           ' Other': '<=50K',\n",
            "                                                                                                                                           ' White': {'workclass': {' Federal-gov': '<=50K',\n",
            "                                                                                                                                                                    ' Local-gov': {'marital-status': {' Married-civ-spouse': {'sex': {' Male': '<=50K'}}}},\n",
            "                                                                                                                                                                    ' Private': {'marital-status': {' Married-civ-spouse': {'sex': {' Male': '<=50K'}}}},\n",
            "                                                                                                                                                                    ' Self-emp-not-inc': {'marital-status': {' Married-civ-spouse': {'sex': {' Male': '<=50K'}}}},\n",
            "                                                                                                                                                                    ' State-gov': {'marital-status': {' Married-civ-spouse': {'sex': {' Male': '<=50K'}}}}}}}},\n",
            "                                                                                                               ' Yugoslavia': {'workclass': {' Private': {'marital-status': {' Married-civ-spouse': {'race': {' White': {'sex': {' Male': '<=50K'}}}}}}}}}},\n",
            "                                                                         ' Prof-specialty': {'workclass': {' Federal-gov': '>50K',\n",
            "                                                                                                           ' Local-gov': '>50K',\n",
            "                                                                                                           ' Private': {'marital-status': {' Married-civ-spouse': {'race': {' Amer-Indian-Eskimo': {'sex': {' Male': {'native-country': {' United-States': '<=50K'}}}},\n",
            "                                                                                                                                                                            ' White': {'sex': {' Male': {'native-country': {' United-States': '<=50K'}}}}}}}},\n",
            "                                                                                                           ' Self-emp-inc': '>50K',\n",
            "                                                                                                           ' Self-emp-not-inc': '>50K',\n",
            "                                                                                                           ' State-gov': '>50K'}},\n",
            "                                                                         ' Protective-serv': {'race': {' Amer-Indian-Eskimo': '>50K',\n",
            "                                                                                                       ' Asian-Pac-Islander': '>50K',\n",
            "                                                                                                       ' Black': '<=50K',\n",
            "                                                                                                       ' White': {'workclass': {' Local-gov': {'marital-status': {' Married-civ-spouse': {'sex': {' Male': {'native-country': {' United-States': '>50K'}}}}}},\n",
            "                                                                                                                                ' Private': {'marital-status': {' Married-civ-spouse': {'sex': {' Male': {'native-country': {' United-States': '<=50K'}}}}}},\n",
            "                                                                                                                                ' Self-emp-not-inc': '<=50K',\n",
            "                                                                                                                                ' State-gov': {'marital-status': {' Married-civ-spouse': {'sex': {' Male': {'native-country': {' United-States': '<=50K'}}}}}}}}}},\n",
            "                                                                         ' Sales': {'native-country': {' Canada': '>50K',\n",
            "                                                                                                       ' Columbia': '<=50K',\n",
            "                                                                                                       ' Cuba': '<=50K',\n",
            "                                                                                                       ' Ecuador': '<=50K',\n",
            "                                                                                                       ' El-Salvador': '>50K',\n",
            "                                                                                                       ' England': '>50K',\n",
            "                                                                                                       ' Germany': '<=50K',\n",
            "                                                                                                       ' Greece': '<=50K',\n",
            "                                                                                                       ' Mexico': '<=50K',\n",
            "                                                                                                       ' South': {'workclass': {' Self-emp-not-inc': {'marital-status': {' Married-civ-spouse': {'race': {' Asian-Pac-Islander': {'sex': {' Male': '<=50K'}}}}}}}},\n",
            "                                                                                                       ' United-States': {'workclass': {' Private': {'race': {' Amer-Indian-Eskimo': '<=50K',\n",
            "                                                                                                                                                              ' Black': {'marital-status': {' Married-civ-spouse': {'sex': {' Male': '<=50K'}}}},\n",
            "                                                                                                                                                              ' Other': '<=50K',\n",
            "                                                                                                                                                              ' White': {'sex': {' Female': '<=50K',\n",
            "                                                                                                                                                                                 ' Male': {'marital-status': {' Married-civ-spouse': '<=50K'}}}}}},\n",
            "                                                                                                                                        ' Self-emp-inc': {'race': {' Black': '<=50K',\n",
            "                                                                                                                                                                   ' White': {'marital-status': {' Married-civ-spouse': {'sex': {' Male': '>50K'}}}}}},\n",
            "                                                                                                                                        ' Self-emp-not-inc': {'race': {' Black': {'marital-status': {' Married-civ-spouse': {'sex': {' Male': '<=50K'}}}},\n",
            "                                                                                                                                                                       ' White': {'marital-status': {' Married-civ-spouse': {'sex': {' Male': '<=50K'}}}}}},\n",
            "                                                                                                                                        ' State-gov': '<=50K'}}}},\n",
            "                                                                         ' Tech-support': {'workclass': {' Federal-gov': '<=50K',\n",
            "                                                                                                         ' Private': {'race': {' Asian-Pac-Islander': '>50K',\n",
            "                                                                                                                               ' White': {'marital-status': {' Married-civ-spouse': {'sex': {' Male': {'native-country': {' United-States': '>50K'}}}}}}}},\n",
            "                                                                                                         ' Self-emp-not-inc': '<=50K',\n",
            "                                                                                                         ' State-gov': '<=50K'}},\n",
            "                                                                         ' Transport-moving': {'workclass': {' Federal-gov': {'race': {' Amer-Indian-Eskimo': '<=50K',\n",
            "                                                                                                                                       ' Black': '>50K',\n",
            "                                                                                                                                       ' White': {'marital-status': {' Married-civ-spouse': {'sex': {' Male': {'native-country': {' United-States': '<=50K'}}}}}}}},\n",
            "                                                                                                             ' Local-gov': '<=50K',\n",
            "                                                                                                             ' Private': {'race': {' Amer-Indian-Eskimo': '<=50K',\n",
            "                                                                                                                                   ' Asian-Pac-Islander': '<=50K',\n",
            "                                                                                                                                   ' Black': {'marital-status': {' Married-civ-spouse': {'sex': {' Male': {'native-country': {' United-States': '<=50K'}}}}}},\n",
            "                                                                                                                                   ' Other': '<=50K',\n",
            "                                                                                                                                   ' White': {'native-country': {' Canada': {'marital-status': {' Married-civ-spouse': {'sex': {' Male': '<=50K'}}}},\n",
            "                                                                                                                                                                 ' Italy': '>50K',\n",
            "                                                                                                                                                                 ' Puerto-Rico': '<=50K',\n",
            "                                                                                                                                                                 ' United-States': {'marital-status': {' Married-civ-spouse': {'sex': {' Male': '<=50K'}}}}}}}},\n",
            "                                                                                                             ' Self-emp-inc': '<=50K',\n",
            "                                                                                                             ' Self-emp-not-inc': {'native-country': {' Mexico': '>50K',\n",
            "                                                                                                                                                      ' United-States': {'marital-status': {' Married-civ-spouse': {'race': {' White': {'sex': {' Male': '<=50K'}}}}}}}},\n",
            "                                                                                                             ' State-gov': {'marital-status': {' Married-civ-spouse': {'race': {' White': {'sex': {' Male': {'native-country': {' United-States': '<=50K'}}}}}}}}}}}},\n",
            "                                             ' Masters': {'occupation': {' Adm-clerical': {'workclass': {' Federal-gov': '>50K',\n",
            "                                                                                                         ' Local-gov': '>50K',\n",
            "                                                                                                         ' Private': {'marital-status': {' Married-civ-spouse': {'race': {' White': {'sex': {' Male': {'native-country': {' United-States': '<=50K'}}}}}}}},\n",
            "                                                                                                         ' State-gov': '<=50K'}},\n",
            "                                                                         ' Craft-repair': {'workclass': {' Private': '>50K',\n",
            "                                                                                                         ' Self-emp-inc': '<=50K',\n",
            "                                                                                                         ' Self-emp-not-inc': {'marital-status': {' Married-civ-spouse': {'race': {' White': {'sex': {' Male': {'native-country': {' United-States': '>50K'}}}}}}}}}},\n",
            "                                                                         ' Exec-managerial': {'workclass': {' Federal-gov': {'native-country': {' England': '>50K',\n",
            "                                                                                                                                                ' United-States': {'marital-status': {' Married-civ-spouse': {'race': {' White': {'sex': {' Male': '>50K'}}}}}}}},\n",
            "                                                                                                            ' Local-gov': {'marital-status': {' Married-civ-spouse': {'race': {' White': {'sex': {' Male': {'native-country': {' United-States': '>50K'}}}}}}}},\n",
            "                                                                                                            ' Private': {'native-country': {' Cuba': '>50K',\n",
            "                                                                                                                                            ' El-Salvador': '>50K',\n",
            "                                                                                                                                            ' Germany': '>50K',\n",
            "                                                                                                                                            ' Greece': '>50K',\n",
            "                                                                                                                                            ' India': '<=50K',\n",
            "                                                                                                                                            ' Japan': '>50K',\n",
            "                                                                                                                                            ' Taiwan': '>50K',\n",
            "                                                                                                                                            ' United-States': {'race': {' Asian-Pac-Islander': '>50K',\n",
            "                                                                                                                                                                        ' Black': '>50K',\n",
            "                                                                                                                                                                        ' White': {'marital-status': {' Married-civ-spouse': {'sex': {' Male': '>50K'}}}}}}}},\n",
            "                                                                                                            ' Self-emp-inc': {'marital-status': {' Married-civ-spouse': {'race': {' White': {'sex': {' Male': {'native-country': {' United-States': '>50K'}}}}}}}},\n",
            "                                                                                                            ' Self-emp-not-inc': {'marital-status': {' Married-civ-spouse': {'race': {' White': {'sex': {' Male': {'native-country': {' United-States': '>50K'}}}}}}}},\n",
            "                                                                                                            ' State-gov': {'marital-status': {' Married-civ-spouse': {'race': {' White': {'sex': {' Male': {'native-country': {' United-States': '<=50K'}}}}}}}}}},\n",
            "                                                                         ' Farming-fishing': {'workclass': {' Self-emp-not-inc': {'marital-status': {' Married-civ-spouse': {'race': {' White': {'sex': {' Male': {'native-country': {' United-States': '<=50K'}}}}}}}}}},\n",
            "                                                                         ' Machine-op-inspct': '<=50K',\n",
            "                                                                         ' Other-service': '<=50K',\n",
            "                                                                         ' Prof-specialty': {'native-country': {' Canada': '<=50K',\n",
            "                                                                                                                ' China': {'workclass': {' Private': {'marital-status': {' Married-civ-spouse': {'race': {' Asian-Pac-Islander': {'sex': {' Male': '<=50K'}}}}}},\n",
            "                                                                                                                                         ' State-gov': '<=50K'}},\n",
            "                                                                                                                ' England': {'workclass': {' Private': {'marital-status': {' Married-civ-spouse': {'race': {' White': {'sex': {' Male': '>50K'}}}}}}}},\n",
            "                                                                                                                ' Greece': '<=50K',\n",
            "                                                                                                                ' India': '>50K',\n",
            "                                                                                                                ' Iran': '>50K',\n",
            "                                                                                                                ' Poland': '>50K',\n",
            "                                                                                                                ' Taiwan': {'workclass': {' Private': '>50K',\n",
            "                                                                                                                                          ' State-gov': '<=50K'}},\n",
            "                                                                                                                ' United-States': {'race': {' Black': {'workclass': {' Local-gov': '>50K',\n",
            "                                                                                                                                                                     ' Private': '<=50K',\n",
            "                                                                                                                                                                     ' State-gov': '>50K'}},\n",
            "                                                                                                                                            ' Other': '<=50K',\n",
            "                                                                                                                                            ' White': {'workclass': {' Federal-gov': '>50K',\n",
            "                                                                                                                                                                     ' Local-gov': {'marital-status': {' Married-civ-spouse': {'sex': {' Male': '>50K'}}}},\n",
            "                                                                                                                                                                     ' Private': {'marital-status': {' Married-civ-spouse': {'sex': {' Male': '>50K'}}}},\n",
            "                                                                                                                                                                     ' Self-emp-not-inc': {'marital-status': {' Married-civ-spouse': {'sex': {' Male': '<=50K'}}}},\n",
            "                                                                                                                                                                     ' State-gov': {'marital-status': {' Married-civ-spouse': {'sex': {' Male': '>50K'}}}}}}}}}},\n",
            "                                                                         ' Protective-serv': {'workclass': {' Local-gov': '>50K',\n",
            "                                                                                                            ' Private': '>50K',\n",
            "                                                                                                            ' State-gov': '<=50K'}},\n",
            "                                                                         ' Sales': {'native-country': {' India': '<=50K',\n",
            "                                                                                                       ' Mexico': '>50K',\n",
            "                                                                                                       ' United-States': {'workclass': {' Federal-gov': '>50K',\n",
            "                                                                                                                                        ' Private': {'marital-status': {' Married-civ-spouse': {'race': {' White': {'sex': {' Male': '>50K'}}}}}},\n",
            "                                                                                                                                        ' Self-emp-inc': '>50K',\n",
            "                                                                                                                                        ' Self-emp-not-inc': {'marital-status': {' Married-civ-spouse': {'race': {' White': {'sex': {' Male': '>50K'}}}}}}}}}},\n",
            "                                                                         ' Tech-support': {'workclass': {' Federal-gov': '>50K',\n",
            "                                                                                                         ' Private': {'race': {' Asian-Pac-Islander': '>50K',\n",
            "                                                                                                                               ' White': {'marital-status': {' Married-civ-spouse': {'sex': {' Male': {'native-country': {' United-States': '>50K'}}}}}}}}}},\n",
            "                                                                         ' Transport-moving': {'native-country': {' Poland': '<=50K',\n",
            "                                                                                                                  ' United-States': '>50K'}}}},\n",
            "                                             ' Preschool': '<=50K',\n",
            "                                             ' Prof-school': {'occupation': {' Adm-clerical': '<=50K',\n",
            "                                                                             ' Craft-repair': '>50K',\n",
            "                                                                             ' Exec-managerial': {'workclass': {' Private': '<=50K',\n",
            "                                                                                                                ' Self-emp-inc': '<=50K',\n",
            "                                                                                                                ' State-gov': '>50K'}},\n",
            "                                                                             ' Farming-fishing': {'workclass': {' Self-emp-not-inc': {'marital-status': {' Married-civ-spouse': {'race': {' White': {'sex': {' Male': {'native-country': {' United-States': '<=50K'}}}}}}}}}},\n",
            "                                                                             ' Prof-specialty': {'workclass': {' Federal-gov': {'native-country': {' Columbia': '<=50K',\n",
            "                                                                                                                                                   ' India': '>50K',\n",
            "                                                                                                                                                   ' United-States': {'marital-status': {' Married-civ-spouse': {'race': {' White': {'sex': {' Male': '>50K'}}}}}}}},\n",
            "                                                                                                               ' Local-gov': '>50K',\n",
            "                                                                                                               ' Private': {'native-country': {' Haiti': '<=50K',\n",
            "                                                                                                                                               ' India': '>50K',\n",
            "                                                                                                                                               ' Philippines': '<=50K',\n",
            "                                                                                                                                               ' Taiwan': '>50K',\n",
            "                                                                                                                                               ' United-States': {'marital-status': {' Married-civ-spouse': {'race': {' White': {'sex': {' Male': '>50K'}}}}}}}},\n",
            "                                                                                                               ' Self-emp-inc': '>50K',\n",
            "                                                                                                               ' Self-emp-not-inc': {'race': {' Amer-Indian-Eskimo': '>50K',\n",
            "                                                                                                                                              ' Asian-Pac-Islander': '>50K',\n",
            "                                                                                                                                              ' White': {'native-country': {' England': '>50K',\n",
            "                                                                                                                                                                            ' United-States': {'marital-status': {' Married-civ-spouse': {'sex': {' Male': '>50K'}}}}}}}},\n",
            "                                                                                                               ' State-gov': '>50K'}},\n",
            "                                                                             ' Protective-serv': '>50K',\n",
            "                                                                             ' Sales': {'workclass': {' Private': {'race': {' Asian-Pac-Islander': '<=50K',\n",
            "                                                                                                                            ' White': '>50K'}},\n",
            "                                                                                                      ' Self-emp-not-inc': '<=50K'}},\n",
            "                                                                             ' Tech-support': '>50K',\n",
            "                                                                             ' Transport-moving': '>50K'}},\n",
            "                                             ' Some-college': {'occupation': {' Adm-clerical': {'workclass': {' Federal-gov': '>50K',\n",
            "                                                                                                              ' Local-gov': {'native-country': {' Canada': '>50K',\n",
            "                                                                                                                                                ' United-States': '<=50K'}},\n",
            "                                                                                                              ' Private': {'race': {' Black': '>50K',\n",
            "                                                                                                                                    ' White': {'native-country': {' Mexico': '<=50K',\n",
            "                                                                                                                                                                  ' United-States': {'marital-status': {' Married-civ-spouse': {'sex': {' Male': '<=50K'}}}}}}}},\n",
            "                                                                                                              ' State-gov': '<=50K'}},\n",
            "                                                                              ' Craft-repair': {'native-country': {' Canada': '<=50K',\n",
            "                                                                                                                   ' El-Salvador': '<=50K',\n",
            "                                                                                                                   ' Germany': '>50K',\n",
            "                                                                                                                   ' Greece': '<=50K',\n",
            "                                                                                                                   ' Italy': '<=50K',\n",
            "                                                                                                                   ' Jamaica': '>50K',\n",
            "                                                                                                                   ' Mexico': '<=50K',\n",
            "                                                                                                                   ' Poland': '<=50K',\n",
            "                                                                                                                   ' South': '<=50K',\n",
            "                                                                                                                   ' United-States': {'workclass': {' Federal-gov': '<=50K',\n",
            "                                                                                                                                                    ' Local-gov': {'marital-status': {' Married-civ-spouse': {'race': {' White': {'sex': {' Male': '>50K'}}}}}},\n",
            "                                                                                                                                                    ' Private': {'race': {' Amer-Indian-Eskimo': '>50K',\n",
            "                                                                                                                                                                          ' Asian-Pac-Islander': '>50K',\n",
            "                                                                                                                                                                          ' Black': {'marital-status': {' Married-civ-spouse': {'sex': {' Male': '>50K'}}}},\n",
            "                                                                                                                                                                          ' White': {'marital-status': {' Married-civ-spouse': {'sex': {' Male': '<=50K'}}}}}},\n",
            "                                                                                                                                                    ' Self-emp-inc': {'marital-status': {' Married-civ-spouse': {'race': {' White': {'sex': {' Male': '<=50K'}}}}}},\n",
            "                                                                                                                                                    ' Self-emp-not-inc': {'race': {' Amer-Indian-Eskimo': {'marital-status': {' Married-civ-spouse': {'sex': {' Male': '>50K'}}}},\n",
            "                                                                                                                                                                                   ' White': {'marital-status': {' Married-civ-spouse': {'sex': {' Male': '<=50K'}}}}}},\n",
            "                                                                                                                                                    ' State-gov': {'marital-status': {' Married-civ-spouse': {'race': {' White': {'sex': {' Male': '<=50K'}}}}}}}}}},\n",
            "                                                                              ' Exec-managerial': {'workclass': {' Federal-gov': '>50K',\n",
            "                                                                                                                 ' Local-gov': {'race': {' Black': '>50K',\n",
            "                                                                                                                                         ' White': {'marital-status': {' Married-civ-spouse': {'sex': {' Male': {'native-country': {' United-States': '<=50K'}}}}}}}},\n",
            "                                                                                                                 ' Private': {'race': {' Asian-Pac-Islander': '<=50K',\n",
            "                                                                                                                                       ' Black': {'marital-status': {' Married-civ-spouse': {'sex': {' Male': {'native-country': {' United-States': '<=50K'}}}}}},\n",
            "                                                                                                                                       ' White': {'native-country': {' Jamaica': '>50K',\n",
            "                                                                                                                                                                     ' United-States': {'marital-status': {' Married-civ-spouse': {'sex': {' Male': '>50K'}}}}}}}},\n",
            "                                                                                                                 ' Self-emp-inc': {'native-country': {' Taiwan': '<=50K',\n",
            "                                                                                                                                                      ' Thailand': '>50K',\n",
            "                                                                                                                                                      ' United-States': {'marital-status': {' Married-civ-spouse': {'race': {' White': {'sex': {' Male': '>50K'}}}}}}}},\n",
            "                                                                                                                 ' Self-emp-not-inc': {'race': {' Amer-Indian-Eskimo': '<=50K',\n",
            "                                                                                                                                                ' White': {'marital-status': {' Married-civ-spouse': {'sex': {' Male': {'native-country': {' United-States': '<=50K'}}}}}}}},\n",
            "                                                                                                                 ' State-gov': '<=50K'}},\n",
            "                                                                              ' Farming-fishing': {'workclass': {' Local-gov': '<=50K',\n",
            "                                                                                                                 ' Private': {'race': {' Other': '<=50K',\n",
            "                                                                                                                                       ' White': {'native-country': {' Mexico': '<=50K',\n",
            "                                                                                                                                                                     ' United-States': {'marital-status': {' Married-civ-spouse': {'sex': {' Male': '<=50K'}}}}}}}},\n",
            "                                                                                                                 ' Self-emp-inc': {'marital-status': {' Married-civ-spouse': {'race': {' White': {'sex': {' Male': {'native-country': {' United-States': '<=50K'}}}}}}}},\n",
            "                                                                                                                 ' Self-emp-not-inc': {'marital-status': {' Married-civ-spouse': {'race': {' White': {'sex': {' Male': {'native-country': {' United-States': '<=50K'}}}}}}}},\n",
            "                                                                                                                 ' State-gov': '<=50K'}},\n",
            "                                                                              ' Handlers-cleaners': {'workclass': {' Federal-gov': '>50K',\n",
            "                                                                                                                   ' Local-gov': {'marital-status': {' Married-civ-spouse': {'race': {' White': {'sex': {' Male': {'native-country': {' United-States': '<=50K'}}}}}}}},\n",
            "                                                                                                                   ' Private': {'native-country': {' Canada': '>50K',\n",
            "                                                                                                                                                   ' Mexico': '<=50K',\n",
            "                                                                                                                                                   ' United-States': {'marital-status': {' Married-civ-spouse': {'race': {' White': {'sex': {' Male': '<=50K'}}}}}}}}}},\n",
            "                                                                              ' Machine-op-inspct': {'workclass': {' Federal-gov': '<=50K',\n",
            "                                                                                                                   ' Private': {'race': {' Asian-Pac-Islander': '>50K',\n",
            "                                                                                                                                         ' Black': '<=50K',\n",
            "                                                                                                                                         ' White': {'native-country': {' Mexico': '<=50K',\n",
            "                                                                                                                                                                       ' United-States': {'marital-status': {' Married-civ-spouse': {'sex': {' Male': '<=50K'}}}}}}}},\n",
            "                                                                                                                   ' Self-emp-inc': '<=50K',\n",
            "                                                                                                                   ' Self-emp-not-inc': {'marital-status': {' Married-civ-spouse': {'race': {' White': {'sex': {' Male': {'native-country': {' United-States': '>50K'}}}}}}}},\n",
            "                                                                                                                   ' State-gov': {'marital-status': {' Married-civ-spouse': {'race': {' White': {'sex': {' Male': {'native-country': {' United-States': '<=50K'}}}}}}}}}},\n",
            "                                                                              ' Other-service': {'workclass': {' Federal-gov': '<=50K',\n",
            "                                                                                                               ' Local-gov': {'race': {' Asian-Pac-Islander': '<=50K',\n",
            "                                                                                                                                       ' White': {'marital-status': {' Married-civ-spouse': {'sex': {' Male': {'native-country': {' United-States': '<=50K'}}}}}}}},\n",
            "                                                                                                               ' Private': {'race': {' Asian-Pac-Islander': '<=50K',\n",
            "                                                                                                                                     ' Black': '<=50K',\n",
            "                                                                                                                                     ' Other': '<=50K',\n",
            "                                                                                                                                     ' White': {'native-country': {' Mexico': '<=50K',\n",
            "                                                                                                                                                                   ' United-States': {'marital-status': {' Married-civ-spouse': {'sex': {' Male': '<=50K'}}}}}}}},\n",
            "                                                                                                               ' Self-emp-not-inc': '>50K',\n",
            "                                                                                                               ' State-gov': '<=50K'}},\n",
            "                                                                              ' Prof-specialty': {'race': {' Amer-Indian-Eskimo': '<=50K',\n",
            "                                                                                                           ' Asian-Pac-Islander': '>50K',\n",
            "                                                                                                           ' Black': '>50K',\n",
            "                                                                                                           ' Other': '>50K',\n",
            "                                                                                                           ' White': {'workclass': {' Federal-gov': {'marital-status': {' Married-civ-spouse': {'sex': {' Male': {'native-country': {' United-States': '<=50K'}}}}}},\n",
            "                                                                                                                                    ' Local-gov': '<=50K',\n",
            "                                                                                                                                    ' Private': {'marital-status': {' Married-civ-spouse': {'sex': {' Male': {'native-country': {' United-States': '<=50K'}}}}}},\n",
            "                                                                                                                                    ' Self-emp-inc': '<=50K',\n",
            "                                                                                                                                    ' Self-emp-not-inc': {'marital-status': {' Married-civ-spouse': {'sex': {' Male': {'native-country': {' United-States': '<=50K'}}}}}},\n",
            "                                                                                                                                    ' State-gov': {'marital-status': {' Married-civ-spouse': {'sex': {' Male': {'native-country': {' United-States': '<=50K'}}}}}}}}}},\n",
            "                                                                              ' Protective-serv': {'workclass': {' Federal-gov': '>50K',\n",
            "                                                                                                                 ' Local-gov': {'marital-status': {' Married-civ-spouse': {'race': {' White': {'sex': {' Male': {'native-country': {' United-States': '<=50K'}}}}}}}},\n",
            "                                                                                                                 ' Private': {'race': {' Black': {'marital-status': {' Married-civ-spouse': {'sex': {' Male': {'native-country': {' United-States': '<=50K'}}}}}},\n",
            "                                                                                                                                       ' White': '<=50K'}},\n",
            "                                                                                                                 ' State-gov': '<=50K'}},\n",
            "                                                                              ' Sales': {'native-country': {' El-Salvador': '<=50K',\n",
            "                                                                                                            ' Germany': '<=50K',\n",
            "                                                                                                            ' Philippines': '<=50K',\n",
            "                                                                                                            ' Taiwan': '<=50K',\n",
            "                                                                                                            ' United-States': {'workclass': {' Local-gov': '<=50K',\n",
            "                                                                                                                                             ' Private': {'race': {' Asian-Pac-Islander': '>50K',\n",
            "                                                                                                                                                                   ' Black': {'marital-status': {' Married-civ-spouse': {'sex': {' Male': '<=50K'}}}},\n",
            "                                                                                                                                                                   ' White': {'marital-status': {' Married-civ-spouse': {'sex': {' Male': '>50K'}}}}}},\n",
            "                                                                                                                                             ' Self-emp-inc': {'marital-status': {' Married-civ-spouse': {'race': {' White': {'sex': {' Male': '>50K'}}}}}},\n",
            "                                                                                                                                             ' Self-emp-not-inc': {'race': {' Black': '>50K',\n",
            "                                                                                                                                                                            ' White': {'marital-status': {' Married-civ-spouse': {'sex': {' Male': '<=50K'}}}}}}}}}},\n",
            "                                                                              ' Tech-support': {'native-country': {' Guatemala': '>50K',\n",
            "                                                                                                                   ' Jamaica': '>50K',\n",
            "                                                                                                                   ' Poland': '<=50K',\n",
            "                                                                                                                   ' United-States': {'race': {' Asian-Pac-Islander': '>50K',\n",
            "                                                                                                                                               ' Black': '<=50K',\n",
            "                                                                                                                                               ' White': {'workclass': {' Federal-gov': {'marital-status': {' Married-civ-spouse': {'sex': {' Male': '>50K'}}}},\n",
            "                                                                                                                                                                        ' Local-gov': '>50K',\n",
            "                                                                                                                                                                        ' Private': {'marital-status': {' Married-civ-spouse': {'sex': {' Male': '>50K'}}}},\n",
            "                                                                                                                                                                        ' Self-emp-not-inc': '>50K'}}}}}},\n",
            "                                                                              ' Transport-moving': {'workclass': {' Local-gov': '<=50K',\n",
            "                                                                                                                  ' Private': {'native-country': {' Canada': '>50K',\n",
            "                                                                                                                                                  ' El-Salvador': '<=50K',\n",
            "                                                                                                                                                  ' United-States': {'race': {' Black': '<=50K',\n",
            "                                                                                                                                                                              ' White': {'marital-status': {' Married-civ-spouse': {'sex': {' Male': '<=50K'}}}}}}}},\n",
            "                                                                                                                  ' Self-emp-inc': '>50K',\n",
            "                                                                                                                  ' Self-emp-not-inc': '<=50K',\n",
            "                                                                                                                  ' State-gov': '<=50K'}}}}}},\n",
            "                  ' Not-in-family': {'education': {' 10th': {'occupation': {' Adm-clerical': '<=50K',\n",
            "                                                                            ' Craft-repair': '<=50K',\n",
            "                                                                            ' Farming-fishing': '<=50K',\n",
            "                                                                            ' Handlers-cleaners': '<=50K',\n",
            "                                                                            ' Machine-op-inspct': '<=50K',\n",
            "                                                                            ' Other-service': '<=50K',\n",
            "                                                                            ' Priv-house-serv': '<=50K',\n",
            "                                                                            ' Prof-specialty': {'workclass': {' Private': '>50K',\n",
            "                                                                                                              ' Self-emp-not-inc': '<=50K'}},\n",
            "                                                                            ' Sales': '<=50K',\n",
            "                                                                            ' Transport-moving': {'workclass': {' Local-gov': '<=50K',\n",
            "                                                                                                                ' Private': '<=50K',\n",
            "                                                                                                                ' Self-emp-inc': '>50K',\n",
            "                                                                                                                ' Self-emp-not-inc': '<=50K'}}}},\n",
            "                                                   ' 11th': {'occupation': {' Adm-clerical': '<=50K',\n",
            "                                                                            ' Craft-repair': '<=50K',\n",
            "                                                                            ' Exec-managerial': '<=50K',\n",
            "                                                                            ' Farming-fishing': '<=50K',\n",
            "                                                                            ' Handlers-cleaners': '<=50K',\n",
            "                                                                            ' Machine-op-inspct': '<=50K',\n",
            "                                                                            ' Other-service': '<=50K',\n",
            "                                                                            ' Sales': {'marital-status': {' Divorced': {'workclass': {' Private': {'sex': {' Female': '<=50K',\n",
            "                                                                                                                                                           ' Male': '>50K'}},\n",
            "                                                                                                                                      ' Self-emp-inc': '<=50K'}},\n",
            "                                                                                                          ' Never-married': '<=50K'}},\n",
            "                                                                            ' Tech-support': '<=50K',\n",
            "                                                                            ' Transport-moving': {'marital-status': {' Divorced': '<=50K',\n",
            "                                                                                                                     ' Never-married': {'race': {' Black': '<=50K',\n",
            "                                                                                                                                                 ' White': {'workclass': {' Private': {'sex': {' Male': {'native-country': {' United-States': '<=50K'}}}}}}}},\n",
            "                                                                                                                     ' Separated': '<=50K'}}}},\n",
            "                                                   ' 12th': {'occupation': {' Adm-clerical': '<=50K',\n",
            "                                                                            ' Craft-repair': {'marital-status': {' Divorced': '>50K',\n",
            "                                                                                                                 ' Never-married': '<=50K'}},\n",
            "                                                                            ' Exec-managerial': {'workclass': {' Private': '<=50K',\n",
            "                                                                                                               ' State-gov': {'marital-status': {' Never-married': {'race': {' White': {'sex': {' Male': {'native-country': {' United-States': '<=50K'}}}}}}}}}},\n",
            "                                                                            ' Handlers-cleaners': '<=50K',\n",
            "                                                                            ' Machine-op-inspct': '<=50K',\n",
            "                                                                            ' Other-service': '<=50K',\n",
            "                                                                            ' Sales': '<=50K'}},\n",
            "                                                   ' 1st-4th': '<=50K',\n",
            "                                                   ' 5th-6th': '<=50K',\n",
            "                                                   ' 7th-8th': {'marital-status': {' Divorced': '<=50K',\n",
            "                                                                                   ' Married-spouse-absent': {'workclass': {' Private': '<=50K',\n",
            "                                                                                                                            ' Self-emp-not-inc': '>50K'}},\n",
            "                                                                                   ' Never-married': {'occupation': {' Craft-repair': '<=50K',\n",
            "                                                                                                                     ' Handlers-cleaners': '<=50K',\n",
            "                                                                                                                     ' Machine-op-inspct': '<=50K',\n",
            "                                                                                                                     ' Other-service': {'native-country': {' Mexico': '<=50K',\n",
            "                                                                                                                                                           ' United-States': '>50K'}},\n",
            "                                                                                                                     ' Transport-moving': {'race': {' Amer-Indian-Eskimo': '<=50K',\n",
            "                                                                                                                                                    ' White': '>50K'}}}},\n",
            "                                                                                   ' Separated': '<=50K',\n",
            "                                                                                   ' Widowed': '<=50K'}},\n",
            "                                                   ' 9th': {'native-country': {' Canada': '<=50K',\n",
            "                                                                               ' China': '<=50K',\n",
            "                                                                               ' Dominican-Republic': '<=50K',\n",
            "                                                                               ' Jamaica': '<=50K',\n",
            "                                                                               ' Mexico': '<=50K',\n",
            "                                                                               ' Puerto-Rico': '>50K',\n",
            "                                                                               ' United-States': '<=50K'}},\n",
            "                                                   ' Assoc-acdm': {'occupation': {' Adm-clerical': {'race': {' Asian-Pac-Islander': {'marital-status': {' Divorced': '<=50K',\n",
            "                                                                                                                                                        ' Never-married': '>50K'}},\n",
            "                                                                                                             ' Black': '<=50K',\n",
            "                                                                                                             ' Other': '<=50K',\n",
            "                                                                                                             ' White': '<=50K'}},\n",
            "                                                                                  ' Craft-repair': {'marital-status': {' Divorced': '<=50K',\n",
            "                                                                                                                       ' Married-civ-spouse': '>50K',\n",
            "                                                                                                                       ' Married-spouse-absent': '<=50K',\n",
            "                                                                                                                       ' Never-married': '<=50K',\n",
            "                                                                                                                       ' Separated': '<=50K'}},\n",
            "                                                                                  ' Exec-managerial': {'marital-status': {' Divorced': {'sex': {' Female': '<=50K',\n",
            "                                                                                                                                                ' Male': {'workclass': {' Private': '>50K',\n",
            "                                                                                                                                                                        ' Self-emp-not-inc': '<=50K'}}}},\n",
            "                                                                                                                          ' Never-married': '<=50K',\n",
            "                                                                                                                          ' Separated': '<=50K'}},\n",
            "                                                                                  ' Farming-fishing': '<=50K',\n",
            "                                                                                  ' Machine-op-inspct': {'marital-status': {' Divorced': '<=50K',\n",
            "                                                                                                                            ' Never-married': '>50K'}},\n",
            "                                                                                  ' Other-service': '<=50K',\n",
            "                                                                                  ' Priv-house-serv': '<=50K',\n",
            "                                                                                  ' Prof-specialty': {'workclass': {' Federal-gov': '>50K',\n",
            "                                                                                                                    ' Local-gov': '<=50K',\n",
            "                                                                                                                    ' Private': '<=50K',\n",
            "                                                                                                                    ' Self-emp-not-inc': '<=50K',\n",
            "                                                                                                                    ' State-gov': '<=50K'}},\n",
            "                                                                                  ' Protective-serv': {'sex': {' Female': '>50K',\n",
            "                                                                                                               ' Male': '<=50K'}},\n",
            "                                                                                  ' Sales': '<=50K',\n",
            "                                                                                  ' Tech-support': '<=50K',\n",
            "                                                                                  ' Transport-moving': '<=50K'}},\n",
            "                                                   ' Assoc-voc': {'occupation': {' Adm-clerical': {'sex': {' Female': '<=50K',\n",
            "                                                                                                           ' Male': {'marital-status': {' Never-married': {'workclass': {' Private': {'race': {' White': {'native-country': {' United-States': '<=50K'}}}}}},\n",
            "                                                                                                                                        ' Separated': '<=50K',\n",
            "                                                                                                                                        ' Widowed': '<=50K'}}}},\n",
            "                                                                                 ' Craft-repair': '<=50K',\n",
            "                                                                                 ' Exec-managerial': '<=50K',\n",
            "                                                                                 ' Farming-fishing': '<=50K',\n",
            "                                                                                 ' Handlers-cleaners': '<=50K',\n",
            "                                                                                 ' Machine-op-inspct': '<=50K',\n",
            "                                                                                 ' Other-service': '<=50K',\n",
            "                                                                                 ' Prof-specialty': {'workclass': {' Local-gov': '<=50K',\n",
            "                                                                                                                   ' Private': {'marital-status': {' Divorced': {'sex': {' Female': '>50K',\n",
            "                                                                                                                                                                         ' Male': '<=50K'}},\n",
            "                                                                                                                                                   ' Never-married': {'sex': {' Female': {'native-country': {' Canada': '<=50K',\n",
            "                                                                                                                                                                                                             ' United-States': {'race': {' White': '<=50K'}}}},\n",
            "                                                                                                                                                                              ' Male': '<=50K'}},\n",
            "                                                                                                                                                   ' Widowed': '<=50K'}},\n",
            "                                                                                                                   ' Self-emp-not-inc': '<=50K',\n",
            "                                                                                                                   ' State-gov': '>50K'}},\n",
            "                                                                                 ' Protective-serv': {'workclass': {' Local-gov': {'marital-status': {' Never-married': {'race': {' White': {'sex': {' Male': {'native-country': {' United-States': '<=50K'}}}}}}}},\n",
            "                                                                                                                    ' Private': '<=50K'}},\n",
            "                                                                                 ' Sales': {'workclass': {' Private': {'sex': {' Female': '<=50K',\n",
            "                                                                                                                               ' Male': {'marital-status': {' Divorced': {'race': {' White': {'native-country': {' United-States': '<=50K'}}}},\n",
            "                                                                                                                                                            ' Never-married': {'race': {' White': {'native-country': {' United-States': '<=50K'}}}}}}}},\n",
            "                                                                                                          ' Self-emp-inc': '<=50K'}},\n",
            "                                                                                 ' Tech-support': {'workclass': {' Federal-gov': '<=50K',\n",
            "                                                                                                                 ' Local-gov': '<=50K',\n",
            "                                                                                                                 ' Private': '<=50K',\n",
            "                                                                                                                 ' State-gov': {'marital-status': {' Divorced': '>50K',\n",
            "                                                                                                                                                   ' Never-married': '<=50K'}}}},\n",
            "                                                                                 ' Transport-moving': '<=50K'}},\n",
            "                                                   ' Bachelors': {'occupation': {' Adm-clerical': {'marital-status': {' Divorced': {'workclass': {' Local-gov': '>50K',\n",
            "                                                                                                                                                  ' Private': {'race': {' Black': '<=50K',\n",
            "                                                                                                                                                                        ' White': {'sex': {' Female': {'native-country': {' United-States': '<=50K'}},\n",
            "                                                                                                                                                                                           ' Male': {'native-country': {' United-States': '<=50K'}}}}}}}},\n",
            "                                                                                                                      ' Married-spouse-absent': '<=50K',\n",
            "                                                                                                                      ' Never-married': {'workclass': {' Federal-gov': '<=50K',\n",
            "                                                                                                                                                       ' Local-gov': '<=50K',\n",
            "                                                                                                                                                       ' Private': '<=50K',\n",
            "                                                                                                                                                       ' Self-emp-not-inc': '<=50K',\n",
            "                                                                                                                                                       ' State-gov': {'sex': {' Female': {'race': {' Black': '<=50K',\n",
            "                                                                                                                                                                                                   ' White': {'native-country': {' United-States': '<=50K'}}}},\n",
            "                                                                                                                                                                              ' Male': '<=50K'}}}},\n",
            "                                                                                                                      ' Widowed': '<=50K'}},\n",
            "                                                                                 ' Craft-repair': {'marital-status': {' Divorced': '<=50K',\n",
            "                                                                                                                      ' Never-married': {'sex': {' Female': '<=50K',\n",
            "                                                                                                                                                 ' Male': {'native-country': {' Mexico': '<=50K',\n",
            "                                                                                                                                                                              ' United-States': {'workclass': {' Private': {'race': {' White': '<=50K'}},\n",
            "                                                                                                                                                                                                               ' State-gov': '<=50K'}}}}}},\n",
            "                                                                                                                      ' Separated': '<=50K'}},\n",
            "                                                                                 ' Exec-managerial': {'marital-status': {' Divorced': {'workclass': {' Federal-gov': {'race': {' White': {'sex': {' Male': {'native-country': {' United-States': '>50K'}}}}}},\n",
            "                                                                                                                                                     ' Private': {'race': {' Amer-Indian-Eskimo': '<=50K',\n",
            "                                                                                                                                                                           ' Black': '>50K',\n",
            "                                                                                                                                                                           ' White': {'sex': {' Female': {'native-country': {' United-States': '<=50K'}},\n",
            "                                                                                                                                                                                              ' Male': {'native-country': {' United-States': '>50K'}}}}}},\n",
            "                                                                                                                                                     ' Self-emp-inc': {'race': {' White': {'sex': {' Male': {'native-country': {' United-States': '<=50K'}}}}}},\n",
            "                                                                                                                                                     ' Self-emp-not-inc': '<=50K',\n",
            "                                                                                                                                                     ' State-gov': {'sex': {' Female': {'race': {' White': {'native-country': {' United-States': '<=50K'}}}},\n",
            "                                                                                                                                                                            ' Male': '<=50K'}}}},\n",
            "                                                                                                                         ' Married-spouse-absent': {'race': {' Black': '>50K',\n",
            "                                                                                                                                                             ' White': '<=50K'}},\n",
            "                                                                                                                         ' Never-married': {'workclass': {' Federal-gov': {'race': {' Black': '<=50K',\n",
            "                                                                                                                                                                                    ' White': {'sex': {' Female': '<=50K',\n",
            "                                                                                                                                                                                                       ' Male': {'native-country': {' United-States': '<=50K'}}}}}},\n",
            "                                                                                                                                                          ' Local-gov': '<=50K',\n",
            "                                                                                                                                                          ' Private': {'native-country': {' Canada': '<=50K',\n",
            "                                                                                                                                                                                          ' Philippines': '<=50K',\n",
            "                                                                                                                                                                                          ' Poland': '<=50K',\n",
            "                                                                                                                                                                                          ' United-States': {'race': {' Black': {'sex': {' Female': '<=50K',\n",
            "                                                                                                                                                                                                                                         ' Male': '<=50K'}},\n",
            "                                                                                                                                                                                                                      ' White': {'sex': {' Female': '<=50K',\n",
            "                                                                                                                                                                                                                                         ' Male': '<=50K'}}}}}},\n",
            "                                                                                                                                                          ' Self-emp-not-inc': {'race': {' Black': '>50K',\n",
            "                                                                                                                                                                                         ' White': {'sex': {' Male': {'native-country': {' United-States': '<=50K'}}}}}},\n",
            "                                                                                                                                                          ' State-gov': '<=50K'}},\n",
            "                                                                                                                         ' Separated': {'sex': {' Female': '<=50K',\n",
            "                                                                                                                                                ' Male': '>50K'}},\n",
            "                                                                                                                         ' Widowed': '>50K'}},\n",
            "                                                                                 ' Farming-fishing': '<=50K',\n",
            "                                                                                 ' Handlers-cleaners': '<=50K',\n",
            "                                                                                 ' Machine-op-inspct': '<=50K',\n",
            "                                                                                 ' Other-service': {'marital-status': {' Divorced': '<=50K',\n",
            "                                                                                                                       ' Married-spouse-absent': '<=50K',\n",
            "                                                                                                                       ' Never-married': {'race': {' Asian-Pac-Islander': '<=50K',\n",
            "                                                                                                                                                   ' Black': '<=50K',\n",
            "                                                                                                                                                   ' White': {'workclass': {' Local-gov': '<=50K',\n",
            "                                                                                                                                                                            ' Private': {'sex': {' Female': '<=50K',\n",
            "                                                                                                                                                                                                 ' Male': {'native-country': {' Mexico': '<=50K',\n",
            "                                                                                                                                                                                                                              ' United-States': '<=50K'}}}}}}}},\n",
            "                                                                                                                       ' Separated': '<=50K',\n",
            "                                                                                                                       ' Widowed': '<=50K'}},\n",
            "                                                                                 ' Priv-house-serv': '<=50K',\n",
            "                                                                                 ' Prof-specialty': {'native-country': {' Cambodia': '>50K',\n",
            "                                                                                                                        ' Canada': '<=50K',\n",
            "                                                                                                                        ' Germany': '<=50K',\n",
            "                                                                                                                        ' Iran': '<=50K',\n",
            "                                                                                                                        ' Japan': '<=50K',\n",
            "                                                                                                                        ' Outlying-US(Guam-USVI-etc)': '<=50K',\n",
            "                                                                                                                        ' Philippines': '>50K',\n",
            "                                                                                                                        ' Puerto-Rico': '<=50K',\n",
            "                                                                                                                        ' United-States': {'workclass': {' Federal-gov': {'race': {' Amer-Indian-Eskimo': '<=50K',\n",
            "                                                                                                                                                                                   ' Asian-Pac-Islander': '<=50K',\n",
            "                                                                                                                                                                                   ' Other': '<=50K',\n",
            "                                                                                                                                                                                   ' White': {'marital-status': {' Divorced': '<=50K',\n",
            "                                                                                                                                                                                                                 ' Never-married': {'sex': {' Male': '<=50K'}}}}}},\n",
            "                                                                                                                                                         ' Local-gov': {'marital-status': {' Divorced': '<=50K',\n",
            "                                                                                                                                                                                           ' Married-spouse-absent': {'sex': {' Female': {'race': {' White': '<=50K'}},\n",
            "                                                                                                                                                                                                                              ' Male': '<=50K'}},\n",
            "                                                                                                                                                                                           ' Never-married': {'sex': {' Female': {'race': {' Black': '<=50K',\n",
            "                                                                                                                                                                                                                                           ' White': '<=50K'}},\n",
            "                                                                                                                                                                                                                      ' Male': '<=50K'}},\n",
            "                                                                                                                                                                                           ' Separated': {'sex': {' Female': {'race': {' White': '<=50K'}},\n",
            "                                                                                                                                                                                                                  ' Male': '>50K'}},\n",
            "                                                                                                                                                                                           ' Widowed': '<=50K'}},\n",
            "                                                                                                                                                         ' Private': {'marital-status': {' Divorced': {'race': {' Black': '<=50K',\n",
            "                                                                                                                                                                                                                ' White': {'sex': {' Female': '<=50K',\n",
            "                                                                                                                                                                                                                                   ' Male': '<=50K'}}}},\n",
            "                                                                                                                                                                                         ' Married-spouse-absent': '<=50K',\n",
            "                                                                                                                                                                                         ' Never-married': {'sex': {' Female': {'race': {' Other': '<=50K',\n",
            "                                                                                                                                                                                                                                         ' White': '<=50K'}},\n",
            "                                                                                                                                                                                                                    ' Male': {'race': {' Black': '<=50K',\n",
            "                                                                                                                                                                                                                                       ' White': '<=50K'}}}},\n",
            "                                                                                                                                                                                         ' Widowed': '>50K'}},\n",
            "                                                                                                                                                         ' Self-emp-inc': '<=50K',\n",
            "                                                                                                                                                         ' Self-emp-not-inc': {'marital-status': {' Divorced': {'race': {' Black': '>50K',\n",
            "                                                                                                                                                                                                                         ' White': {'sex': {' Female': '<=50K',\n",
            "                                                                                                                                                                                                                                            ' Male': '<=50K'}}}},\n",
            "                                                                                                                                                                                                  ' Married-spouse-absent': '<=50K',\n",
            "                                                                                                                                                                                                  ' Never-married': '<=50K'}},\n",
            "                                                                                                                                                         ' State-gov': '<=50K'}}}},\n",
            "                                                                                 ' Protective-serv': {'workclass': {' Federal-gov': '>50K',\n",
            "                                                                                                                    ' Local-gov': {'marital-status': {' Divorced': {'race': {' White': {'sex': {' Male': {'native-country': {' United-States': '<=50K'}}}}}},\n",
            "                                                                                                                                                      ' Never-married': '<=50K'}},\n",
            "                                                                                                                    ' Private': '<=50K',\n",
            "                                                                                                                    ' Self-emp-not-inc': '>50K',\n",
            "                                                                                                                    ' State-gov': {'sex': {' Female': '<=50K',\n",
            "                                                                                                                                           ' Male': '>50K'}}}},\n",
            "                                                                                 ' Sales': {'race': {' Asian-Pac-Islander': '<=50K',\n",
            "                                                                                                     ' Black': {'workclass': {' Private': '<=50K',\n",
            "                                                                                                                              ' Self-emp-not-inc': {'sex': {' Female': '<=50K',\n",
            "                                                                                                                                                            ' Male': '>50K'}}}},\n",
            "                                                                                                     ' Other': '>50K',\n",
            "                                                                                                     ' White': {'marital-status': {' Divorced': {'sex': {' Female': {'workclass': {' Private': {'native-country': {' United-States': '<=50K'}},\n",
            "                                                                                                                                                                                   ' Self-emp-inc': '<=50K',\n",
            "                                                                                                                                                                                   ' Self-emp-not-inc': '<=50K'}},\n",
            "                                                                                                                                                         ' Male': {'workclass': {' Private': {'native-country': {' United-States': '<=50K'}},\n",
            "                                                                                                                                                                                 ' Self-emp-inc': '>50K'}}}},\n",
            "                                                                                                                                   ' Married-spouse-absent': '<=50K',\n",
            "                                                                                                                                   ' Never-married': {'workclass': {' Private': {'native-country': {' Jamaica': '<=50K',\n",
            "                                                                                                                                                                                                    ' United-States': {'sex': {' Female': '<=50K',\n",
            "                                                                                                                                                                                                                               ' Male': '<=50K'}}}},\n",
            "                                                                                                                                                                    ' Self-emp-inc': '<=50K',\n",
            "                                                                                                                                                                    ' Self-emp-not-inc': {'sex': {' Male': {'native-country': {' United-States': '<=50K'}}}}}},\n",
            "                                                                                                                                   ' Separated': '<=50K'}}}},\n",
            "                                                                                 ' Tech-support': {'sex': {' Female': {'race': {' Asian-Pac-Islander': '<=50K',\n",
            "                                                                                                                                ' White': {'workclass': {' Private': {'marital-status': {' Divorced': '<=50K',\n",
            "                                                                                                                                                                                         ' Never-married': {'native-country': {' United-States': '<=50K'}}}},\n",
            "                                                                                                                                                         ' State-gov': '<=50K'}}}},\n",
            "                                                                                                           ' Male': '<=50K'}},\n",
            "                                                                                 ' Transport-moving': '<=50K'}},\n",
            "                                                   ' Doctorate': {'native-country': {' Canada': '<=50K',\n",
            "                                                                                     ' China': '<=50K',\n",
            "                                                                                     ' England': '<=50K',\n",
            "                                                                                     ' Italy': '>50K',\n",
            "                                                                                     ' Mexico': '>50K',\n",
            "                                                                                     ' Taiwan': '>50K',\n",
            "                                                                                     ' United-States': {'workclass': {' Federal-gov': '>50K',\n",
            "                                                                                                                      ' Local-gov': '<=50K',\n",
            "                                                                                                                      ' Private': {'occupation': {' Craft-repair': '>50K',\n",
            "                                                                                                                                                  ' Exec-managerial': '>50K',\n",
            "                                                                                                                                                  ' Prof-specialty': {'sex': {' Female': {'marital-status': {' Never-married': {'race': {' White': '<=50K'}}}},\n",
            "                                                                                                                                                                              ' Male': {'marital-status': {' Never-married': {'race': {' White': '>50K'}}}}}},\n",
            "                                                                                                                                                  ' Sales': '>50K'}},\n",
            "                                                                                                                      ' Self-emp-inc': {'marital-status': {' Never-married': '<=50K',\n",
            "                                                                                                                                                           ' Separated': '>50K'}},\n",
            "                                                                                                                      ' Self-emp-not-inc': {'marital-status': {' Divorced': '>50K',\n",
            "                                                                                                                                                               ' Never-married': {'sex': {' Female': '<=50K',\n",
            "                                                                                                                                                                                          ' Male': '>50K'}}}},\n",
            "                                                                                                                      ' State-gov': {'marital-status': {' Divorced': '>50K',\n",
            "                                                                                                                                                        ' Never-married': {'race': {' Black': '<=50K',\n",
            "                                                                                                                                                                                    ' White': {'sex': {' Female': '>50K',\n",
            "                                                                                                                                                                                                       ' Male': '<=50K'}}}}}}}}}},\n",
            "                                                   ' HS-grad': {'occupation': {' Adm-clerical': {'marital-status': {' Divorced': {'workclass': {' Federal-gov': '<=50K',\n",
            "                                                                                                                                                ' Local-gov': {'race': {' Amer-Indian-Eskimo': '<=50K',\n",
            "                                                                                                                                                                        ' White': {'sex': {' Female': {'native-country': {' United-States': '<=50K'}}}}}},\n",
            "                                                                                                                                                ' Private': {'sex': {' Female': {'race': {' Black': '<=50K',\n",
            "                                                                                                                                                                                          ' White': {'native-country': {' Germany': '<=50K',\n",
            "                                                                                                                                                                                                                        ' United-States': '<=50K'}}}},\n",
            "                                                                                                                                                                     ' Male': {'race': {' White': {'native-country': {' United-States': '<=50K'}}}}}},\n",
            "                                                                                                                                                ' State-gov': '<=50K'}},\n",
            "                                                                                                                    ' Never-married': '<=50K',\n",
            "                                                                                                                    ' Separated': {'sex': {' Female': '<=50K',\n",
            "                                                                                                                                           ' Male': {'workclass': {' Private': {'race': {' White': {'native-country': {' United-States': '<=50K'}}}},\n",
            "                                                                                                                                                                   ' Self-emp-inc': '<=50K'}}}},\n",
            "                                                                                                                    ' Widowed': {'workclass': {' Private': {'race': {' White': {'sex': {' Female': {'native-country': {' United-States': '<=50K'}}}}}},\n",
            "                                                                                                                                               ' Self-emp-not-inc': '<=50K',\n",
            "                                                                                                                                               ' State-gov': '<=50K'}}}},\n",
            "                                                                               ' Craft-repair': {'race': {' Amer-Indian-Eskimo': '<=50K',\n",
            "                                                                                                          ' Asian-Pac-Islander': '>50K',\n",
            "                                                                                                          ' Black': '<=50K',\n",
            "                                                                                                          ' White': {'marital-status': {' Divorced': {'sex': {' Female': {'workclass': {' Private': {'native-country': {' United-States': '<=50K'}}}},\n",
            "                                                                                                                                                              ' Male': {'workclass': {' Local-gov': '<=50K',\n",
            "                                                                                                                                                                                      ' Private': {'native-country': {' United-States': '<=50K'}},\n",
            "                                                                                                                                                                                      ' Self-emp-not-inc': {'native-country': {' United-States': '<=50K'}}}}}},\n",
            "                                                                                                                                        ' Married-spouse-absent': '<=50K',\n",
            "                                                                                                                                        ' Never-married': {'workclass': {' Local-gov': '<=50K',\n",
            "                                                                                                                                                                         ' Private': {'sex': {' Female': '<=50K',\n",
            "                                                                                                                                                                                              ' Male': {'native-country': {' Canada': '<=50K',\n",
            "                                                                                                                                                                                                                           ' Ireland': '<=50K',\n",
            "                                                                                                                                                                                                                           ' Mexico': '<=50K',\n",
            "                                                                                                                                                                                                                           ' United-States': '<=50K'}}}},\n",
            "                                                                                                                                                                         ' Self-emp-not-inc': {'sex': {' Male': {'native-country': {' United-States': '<=50K'}}}}}},\n",
            "                                                                                                                                        ' Separated': '<=50K',\n",
            "                                                                                                                                        ' Widowed': {'sex': {' Female': '<=50K',\n",
            "                                                                                                                                                             ' Male': {'workclass': {' Self-emp-not-inc': {'native-country': {' United-States': '<=50K'}}}}}}}}}},\n",
            "                                                                               ' Exec-managerial': {'marital-status': {' Divorced': {'sex': {' Female': {'workclass': {' Local-gov': '<=50K',\n",
            "                                                                                                                                                                       ' Private': {'race': {' Amer-Indian-Eskimo': '<=50K',\n",
            "                                                                                                                                                                                             ' Black': '<=50K',\n",
            "                                                                                                                                                                                             ' White': {'native-country': {' United-States': '<=50K'}}}},\n",
            "                                                                                                                                                                       ' Self-emp-not-inc': '<=50K',\n",
            "                                                                                                                                                                       ' State-gov': '<=50K'}},\n",
            "                                                                                                                                             ' Male': '<=50K'}},\n",
            "                                                                                                                       ' Married-spouse-absent': '<=50K',\n",
            "                                                                                                                       ' Never-married': '<=50K',\n",
            "                                                                                                                       ' Separated': '<=50K',\n",
            "                                                                                                                       ' Widowed': '<=50K'}},\n",
            "                                                                               ' Farming-fishing': {'workclass': {' Local-gov': '<=50K',\n",
            "                                                                                                                  ' Private': '<=50K',\n",
            "                                                                                                                  ' Self-emp-inc': '<=50K',\n",
            "                                                                                                                  ' Self-emp-not-inc': {'marital-status': {' Divorced': '<=50K',\n",
            "                                                                                                                                                           ' Never-married': {'native-country': {' Mexico': '<=50K',\n",
            "                                                                                                                                                                                                 ' United-States': {'race': {' White': {'sex': {' Male': '<=50K'}}}}}}}}}},\n",
            "                                                                               ' Handlers-cleaners': '<=50K',\n",
            "                                                                               ' Machine-op-inspct': {'marital-status': {' Divorced': {'sex': {' Female': {'race': {' Black': '<=50K',\n",
            "                                                                                                                                                                    ' White': {'workclass': {' Private': {'native-country': {' United-States': '<=50K'}}}}}},\n",
            "                                                                                                                                               ' Male': '<=50K'}},\n",
            "                                                                                                                         ' Married-spouse-absent': '<=50K',\n",
            "                                                                                                                         ' Never-married': '<=50K',\n",
            "                                                                                                                         ' Separated': '<=50K',\n",
            "                                                                                                                         ' Widowed': '<=50K'}},\n",
            "                                                                               ' Other-service': {'workclass': {' Federal-gov': '<=50K',\n",
            "                                                                                                                ' Local-gov': '<=50K',\n",
            "                                                                                                                ' Private': {'marital-status': {' Divorced': {'sex': {' Female': '<=50K',\n",
            "                                                                                                                                                                      ' Male': {'race': {' Black': '<=50K',\n",
            "                                                                                                                                                                                         ' White': {'native-country': {' Greece': '<=50K',\n",
            "                                                                                                                                                                                                                       ' Mexico': '<=50K',\n",
            "                                                                                                                                                                                                                       ' United-States': '<=50K'}}}}}},\n",
            "                                                                                                                                                ' Married-spouse-absent': '<=50K',\n",
            "                                                                                                                                                ' Never-married': '<=50K',\n",
            "                                                                                                                                                ' Separated': '<=50K',\n",
            "                                                                                                                                                ' Widowed': '<=50K'}},\n",
            "                                                                                                                ' Self-emp-inc': {'marital-status': {' Divorced': '<=50K',\n",
            "                                                                                                                                                     ' Never-married': '>50K',\n",
            "                                                                                                                                                     ' Separated': '<=50K'}},\n",
            "                                                                                                                ' Self-emp-not-inc': '<=50K',\n",
            "                                                                                                                ' State-gov': '<=50K'}},\n",
            "                                                                               ' Priv-house-serv': '<=50K',\n",
            "                                                                               ' Prof-specialty': {'native-country': {' Canada': '<=50K',\n",
            "                                                                                                                      ' Germany': '<=50K',\n",
            "                                                                                                                      ' Japan': '>50K',\n",
            "                                                                                                                      ' United-States': {'marital-status': {' Divorced': '<=50K',\n",
            "                                                                                                                                                            ' Married-spouse-absent': '<=50K',\n",
            "                                                                                                                                                            ' Never-married': {'workclass': {' Federal-gov': '<=50K',\n",
            "                                                                                                                                                                                             ' Private': {'sex': {' Female': '<=50K',\n",
            "                                                                                                                                                                                                                  ' Male': {'race': {' White': '<=50K'}}}},\n",
            "                                                                                                                                                                                             ' Self-emp-not-inc': '<=50K',\n",
            "                                                                                                                                                                                             ' State-gov': '<=50K'}},\n",
            "                                                                                                                                                            ' Widowed': '<=50K'}}}},\n",
            "                                                                               ' Protective-serv': {'marital-status': {' Divorced': '<=50K',\n",
            "                                                                                                                       ' Married-spouse-absent': '<=50K',\n",
            "                                                                                                                       ' Never-married': '<=50K',\n",
            "                                                                                                                       ' Separated': '<=50K',\n",
            "                                                                                                                       ' Widowed': {'workclass': {' Local-gov': {'race': {' Black': '<=50K',\n",
            "                                                                                                                                                                          ' White': '>50K'}},\n",
            "                                                                                                                                                  ' Private': '<=50K'}}}},\n",
            "                                                                               ' Sales': {'marital-status': {' Divorced': {'race': {' Amer-Indian-Eskimo': {'sex': {' Female': '<=50K',\n",
            "                                                                                                                                                                    ' Male': '>50K'}},\n",
            "                                                                                                                                    ' Black': '<=50K',\n",
            "                                                                                                                                    ' White': {'workclass': {' Private': '<=50K',\n",
            "                                                                                                                                                             ' Self-emp-inc': '<=50K',\n",
            "                                                                                                                                                             ' Self-emp-not-inc': {'sex': {' Male': {'native-country': {' United-States': '<=50K'}}}}}}}},\n",
            "                                                                                                             ' Married-spouse-absent': '<=50K',\n",
            "                                                                                                             ' Never-married': {'sex': {' Female': '<=50K',\n",
            "                                                                                                                                        ' Male': {'race': {' Black': '<=50K',\n",
            "                                                                                                                                                           ' Other': '<=50K',\n",
            "                                                                                                                                                           ' White': {'workclass': {' Private': {'native-country': {' United-States': '<=50K'}},\n",
            "                                                                                                                                                                                    ' Self-emp-inc': '<=50K',\n",
            "                                                                                                                                                                                    ' Self-emp-not-inc': '<=50K'}}}}}},\n",
            "                                                                                                             ' Separated': '<=50K',\n",
            "                                                                                                             ' Widowed': {'workclass': {' Private': {'race': {' White': {'sex': {' Female': {'native-country': {' United-States': '<=50K'}}}}}}}}}},\n",
            "                                                                               ' Tech-support': {'marital-status': {' Divorced': {'workclass': {' Federal-gov': '<=50K',\n",
            "                                                                                                                                                ' Private': {'race': {' White': {'sex': {' Female': {'native-country': {' United-States': '<=50K'}}}}}}}},\n",
            "                                                                                                                    ' Never-married': '<=50K',\n",
            "                                                                                                                    ' Separated': '<=50K'}},\n",
            "                                                                               ' Transport-moving': {'workclass': {' Federal-gov': '<=50K',\n",
            "                                                                                                                   ' Local-gov': '<=50K',\n",
            "                                                                                                                   ' Private': {'marital-status': {' Divorced': {'race': {' Black': '<=50K',\n",
            "                                                                                                                                                                          ' White': {'sex': {' Male': {'native-country': {' United-States': '<=50K'}}}}}},\n",
            "                                                                                                                                                   ' Never-married': {'race': {' Amer-Indian-Eskimo': '<=50K',\n",
            "                                                                                                                                                                               ' Black': '<=50K',\n",
            "                                                                                                                                                                               ' White': {'sex': {' Female': '<=50K',\n",
            "                                                                                                                                                                                                  ' Male': {'native-country': {' United-States': '<=50K'}}}}}},\n",
            "                                                                                                                                                   ' Separated': '<=50K'}},\n",
            "                                                                                                                   ' Self-emp-inc': '<=50K',\n",
            "                                                                                                                   ' Self-emp-not-inc': '<=50K',\n",
            "                                                                                                                   ' State-gov': '<=50K'}}}},\n",
            "                                                   ' Masters': {'occupation': {' Adm-clerical': {'workclass': {' Federal-gov': '<=50K',\n",
            "                                                                                                               ' Local-gov': '<=50K',\n",
            "                                                                                                               ' Private': '<=50K',\n",
            "                                                                                                               ' State-gov': {'marital-status': {' Never-married': {'race': {' White': {'sex': {' Male': {'native-country': {' United-States': '<=50K'}}}}}}}}}},\n",
            "                                                                               ' Craft-repair': {'sex': {' Female': '<=50K',\n",
            "                                                                                                         ' Male': '>50K'}},\n",
            "                                                                               ' Exec-managerial': {'workclass': {' Federal-gov': '>50K',\n",
            "                                                                                                                  ' Local-gov': '>50K',\n",
            "                                                                                                                  ' Private': {'race': {' Asian-Pac-Islander': '<=50K',\n",
            "                                                                                                                                        ' Black': '>50K',\n",
            "                                                                                                                                        ' White': {'marital-status': {' Divorced': {'sex': {' Female': {'native-country': {' United-States': '>50K'}},\n",
            "                                                                                                                                                                                            ' Male': '<=50K'}},\n",
            "                                                                                                                                                                      ' Married-spouse-absent': {'sex': {' Male': {'native-country': {' United-States': '<=50K'}}}},\n",
            "                                                                                                                                                                      ' Never-married': {'native-country': {' Dominican-Republic': '<=50K',\n",
            "                                                                                                                                                                                                            ' United-States': {'sex': {' Female': '<=50K',\n",
            "                                                                                                                                                                                                                                       ' Male': '<=50K'}}}},\n",
            "                                                                                                                                                                      ' Separated': '>50K'}}}},\n",
            "                                                                                                                  ' Self-emp-inc': '>50K',\n",
            "                                                                                                                  ' Self-emp-not-inc': '<=50K',\n",
            "                                                                                                                  ' State-gov': '<=50K'}},\n",
            "                                                                               ' Farming-fishing': '>50K',\n",
            "                                                                               ' Other-service': '<=50K',\n",
            "                                                                               ' Prof-specialty': {'workclass': {' Federal-gov': {'marital-status': {' Divorced': '>50K',\n",
            "                                                                                                                                                     ' Never-married': '<=50K'}},\n",
            "                                                                                                                 ' Local-gov': {'marital-status': {' Divorced': {'sex': {' Female': {'race': {' Black': '>50K',\n",
            "                                                                                                                                                                                              ' White': {'native-country': {' United-States': '<=50K'}}}},\n",
            "                                                                                                                                                                         ' Male': '<=50K'}},\n",
            "                                                                                                                                                   ' Married-spouse-absent': '<=50K',\n",
            "                                                                                                                                                   ' Never-married': {'sex': {' Female': {'race': {' Black': '<=50K',\n",
            "                                                                                                                                                                                                   ' White': {'native-country': {' Germany': '<=50K',\n",
            "                                                                                                                                                                                                                                 ' United-States': '<=50K'}}}},\n",
            "                                                                                                                                                                              ' Male': '<=50K'}},\n",
            "                                                                                                                                                   ' Widowed': '<=50K'}},\n",
            "                                                                                                                 ' Private': {'marital-status': {' Divorced': {'sex': {' Female': '<=50K',\n",
            "                                                                                                                                                                       ' Male': {'race': {' White': {'native-country': {' United-States': '<=50K'}}}}}},\n",
            "                                                                                                                                                 ' Married-spouse-absent': '<=50K',\n",
            "                                                                                                                                                 ' Never-married': {'sex': {' Female': {'race': {' White': {'native-country': {' United-States': '<=50K'}}}},\n",
            "                                                                                                                                                                            ' Male': {'race': {' White': {'native-country': {' United-States': '<=50K'}}}}}},\n",
            "                                                                                                                                                 ' Separated': '>50K',\n",
            "                                                                                                                                                 ' Widowed': {'race': {' White': {'sex': {' Female': {'native-country': {' United-States': '<=50K'}}}}}}}},\n",
            "                                                                                                                 ' Self-emp-inc': '>50K',\n",
            "                                                                                                                 ' Self-emp-not-inc': '<=50K',\n",
            "                                                                                                                 ' State-gov': {'marital-status': {' Divorced': {'sex': {' Female': '<=50K',\n",
            "                                                                                                                                                                         ' Male': '>50K'}},\n",
            "                                                                                                                                                   ' Married-spouse-absent': '<=50K',\n",
            "                                                                                                                                                   ' Never-married': '<=50K',\n",
            "                                                                                                                                                   ' Separated': '<=50K'}}}},\n",
            "                                                                               ' Protective-serv': {'workclass': {' Federal-gov': '>50K',\n",
            "                                                                                                                  ' Local-gov': '<=50K',\n",
            "                                                                                                                  ' State-gov': '<=50K'}},\n",
            "                                                                               ' Sales': {'workclass': {' Private': '<=50K',\n",
            "                                                                                                        ' Self-emp-inc': '<=50K',\n",
            "                                                                                                        ' Self-emp-not-inc': {'marital-status': {' Divorced': '<=50K',\n",
            "                                                                                                                                                 ' Never-married': '>50K'}}}},\n",
            "                                                                               ' Tech-support': '>50K',\n",
            "                                                                               ' Transport-moving': '>50K'}},\n",
            "                                                   ' Preschool': '<=50K',\n",
            "                                                   ' Prof-school': {'workclass': {' Federal-gov': '>50K',\n",
            "                                                                                  ' Local-gov': {'occupation': {' Exec-managerial': '>50K',\n",
            "                                                                                                                ' Prof-specialty': {'sex': {' Female': '<=50K',\n",
            "                                                                                                                                            ' Male': {'marital-status': {' Never-married': {'race': {' White': {'native-country': {' United-States': '<=50K'}}}}}}}}}},\n",
            "                                                                                  ' Private': {'occupation': {' Adm-clerical': '<=50K',\n",
            "                                                                                                              ' Exec-managerial': '>50K',\n",
            "                                                                                                              ' Prof-specialty': {'sex': {' Female': {'marital-status': {' Divorced': '<=50K',\n",
            "                                                                                                                                                                         ' Never-married': {'race': {' White': {'native-country': {' United-States': '<=50K'}}}}}},\n",
            "                                                                                                                                          ' Male': {'marital-status': {' Divorced': '>50K',\n",
            "                                                                                                                                                                       ' Never-married': {'race': {' Asian-Pac-Islander': '>50K',\n",
            "                                                                                                                                                                                                   ' Other': '>50K',\n",
            "                                                                                                                                                                                                   ' White': {'native-country': {' United-States': '<=50K'}}}},\n",
            "                                                                                                                                                                       ' Separated': '>50K'}}}},\n",
            "                                                                                                              ' Tech-support': '>50K'}},\n",
            "                                                                                  ' Self-emp-inc': '>50K',\n",
            "                                                                                  ' Self-emp-not-inc': {'marital-status': {' Divorced': '<=50K',\n",
            "                                                                                                                           ' Never-married': '>50K'}},\n",
            "                                                                                  ' State-gov': {'sex': {' Female': '>50K',\n",
            "                                                                                                         ' Male': '<=50K'}}}},\n",
            "                                                   ' Some-college': {'occupation': {' Adm-clerical': {'marital-status': {' Divorced': '<=50K',\n",
            "                                                                                                                         ' Married-spouse-absent': {'workclass': {' Private': {'race': {' White': {'sex': {' Female': {'native-country': {' United-States': '<=50K'}}}}}}}},\n",
            "                                                                                                                         ' Never-married': '<=50K',\n",
            "                                                                                                                         ' Separated': '<=50K',\n",
            "                                                                                                                         ' Widowed': '<=50K'}},\n",
            "                                                                                    ' Armed-Forces': '<=50K',\n",
            "                                                                                    ' Craft-repair': {'native-country': {' Iran': '<=50K',\n",
            "                                                                                                                         ' Japan': '<=50K',\n",
            "                                                                                                                         ' Laos': '<=50K',\n",
            "                                                                                                                         ' Mexico': '<=50K',\n",
            "                                                                                                                         ' Puerto-Rico': '>50K',\n",
            "                                                                                                                         ' United-States': {'workclass': {' Federal-gov': '<=50K',\n",
            "                                                                                                                                                          ' Local-gov': '<=50K',\n",
            "                                                                                                                                                          ' Private': {'marital-status': {' Divorced': {'sex': {' Female': '<=50K',\n",
            "                                                                                                                                                                                                                ' Male': {'race': {' White': '<=50K'}}}},\n",
            "                                                                                                                                                                                          ' Married-spouse-absent': '<=50K',\n",
            "                                                                                                                                                                                          ' Never-married': {'sex': {' Female': {'race': {' White': '<=50K'}},\n",
            "                                                                                                                                                                                                                     ' Male': {'race': {' Black': '<=50K',\n",
            "                                                                                                                                                                                                                                        ' White': '<=50K'}}}},\n",
            "                                                                                                                                                                                          ' Separated': '<=50K',\n",
            "                                                                                                                                                                                          ' Widowed': '<=50K'}},\n",
            "                                                                                                                                                          ' Self-emp-not-inc': '<=50K',\n",
            "                                                                                                                                                          ' State-gov': '<=50K'}}}},\n",
            "                                                                                    ' Exec-managerial': {'race': {' Asian-Pac-Islander': '>50K',\n",
            "                                                                                                                  ' Black': '<=50K',\n",
            "                                                                                                                  ' White': {'marital-status': {' Divorced': {'sex': {' Female': {'workclass': {' Federal-gov': '<=50K',\n",
            "                                                                                                                                                                                                ' Local-gov': '<=50K',\n",
            "                                                                                                                                                                                                ' Private': {'native-country': {' Italy': '<=50K',\n",
            "                                                                                                                                                                                                                                ' United-States': '<=50K'}},\n",
            "                                                                                                                                                                                                ' Self-emp-not-inc': '<=50K'}},\n",
            "                                                                                                                                                                      ' Male': '<=50K'}},\n",
            "                                                                                                                                                ' Never-married': {'sex': {' Female': '<=50K',\n",
            "                                                                                                                                                                           ' Male': {'workclass': {' Federal-gov': '<=50K',\n",
            "                                                                                                                                                                                                   ' Local-gov': '<=50K',\n",
            "                                                                                                                                                                                                   ' Private': {'native-country': {' United-States': '<=50K'}},\n",
            "                                                                                                                                                                                                   ' Self-emp-inc': {'native-country': {' Cuba': '<=50K',\n",
            "                                                                                                                                                                                                                                        ' United-States': '<=50K'}}}}}},\n",
            "                                                                                                                                                ' Separated': {'workclass': {' Private': {'native-country': {' England': '<=50K',\n",
            "                                                                                                                                                                                                             ' United-States': '>50K'}},\n",
            "                                                                                                                                                                             ' State-gov': '<=50K'}},\n",
            "                                                                                                                                                ' Widowed': {'workclass': {' Private': {'sex': {' Female': {'native-country': {' United-States': '<=50K'}}}}}}}}}},\n",
            "                                                                                    ' Farming-fishing': '<=50K',\n",
            "                                                                                    ' Handlers-cleaners': '<=50K',\n",
            "                                                                                    ' Machine-op-inspct': {'marital-status': {' Divorced': '<=50K',\n",
            "                                                                                                                              ' Never-married': '<=50K',\n",
            "                                                                                                                              ' Separated': {'race': {' Black': '<=50K',\n",
            "                                                                                                                                                      ' Other': '<=50K',\n",
            "                                                                                                                                                      ' White': '>50K'}}}},\n",
            "                                                                                    ' Other-service': {'marital-status': {' Divorced': {'sex': {' Female': {'workclass': {' Local-gov': '<=50K',\n",
            "                                                                                                                                                                          ' Private': {'race': {' White': {'native-country': {' United-States': '<=50K'}}}}}},\n",
            "                                                                                                                                                ' Male': '<=50K'}},\n",
            "                                                                                                                          ' Married-spouse-absent': '<=50K',\n",
            "                                                                                                                          ' Never-married': {'sex': {' Female': {'race': {' Asian-Pac-Islander': '<=50K',\n",
            "                                                                                                                                                                          ' Black': '<=50K',\n",
            "                                                                                                                                                                          ' White': {'workclass': {' Private': {'native-country': {' Germany': '<=50K',\n",
            "                                                                                                                                                                                                                                   ' United-States': '<=50K'}},\n",
            "                                                                                                                                                                                                   ' Self-emp-not-inc': '<=50K'}}}},\n",
            "                                                                                                                                                     ' Male': '<=50K'}},\n",
            "                                                                                                                          ' Separated': {'sex': {' Female': '<=50K',\n",
            "                                                                                                                                                 ' Male': {'race': {' Black': '<=50K',\n",
            "                                                                                                                                                                    ' White': '>50K'}}}},\n",
            "                                                                                                                          ' Widowed': '<=50K'}},\n",
            "                                                                                    ' Priv-house-serv': '<=50K',\n",
            "                                                                                    ' Prof-specialty': {'marital-status': {' Divorced': {'race': {' Amer-Indian-Eskimo': '<=50K',\n",
            "                                                                                                                                                  ' White': {'workclass': {' Federal-gov': '>50K',\n",
            "                                                                                                                                                                           ' Private': {'sex': {' Male': {'native-country': {' United-States': '<=50K'}}}}}}}},\n",
            "                                                                                                                           ' Married-spouse-absent': {'sex': {' Female': '<=50K',\n",
            "                                                                                                                                                              ' Male': '>50K'}},\n",
            "                                                                                                                           ' Never-married': {'sex': {' Female': '<=50K',\n",
            "                                                                                                                                                      ' Male': {'workclass': {' Private': {'race': {' Black': '<=50K',\n",
            "                                                                                                                                                                                                    ' White': {'native-country': {' United-States': '<=50K'}}}},\n",
            "                                                                                                                                                                              ' Self-emp-inc': '<=50K',\n",
            "                                                                                                                                                                              ' Self-emp-not-inc': '<=50K',\n",
            "                                                                                                                                                                              ' State-gov': '<=50K'}}}},\n",
            "                                                                                                                           ' Separated': '>50K',\n",
            "                                                                                                                           ' Widowed': '<=50K'}},\n",
            "                                                                                    ' Protective-serv': {'workclass': {' Local-gov': {'marital-status': {' Never-married': {'race': {' Black': '<=50K',\n",
            "                                                                                                                                                                                     ' White': {'sex': {' Female': '<=50K',\n",
            "                                                                                                                                                                                                        ' Male': '>50K'}}}},\n",
            "                                                                                                                                                         ' Separated': '<=50K'}},\n",
            "                                                                                                                       ' Private': '<=50K',\n",
            "                                                                                                                       ' Self-emp-inc': '<=50K',\n",
            "                                                                                                                       ' State-gov': '<=50K'}},\n",
            "                                                                                    ' Sales': {'marital-status': {' Divorced': '<=50K',\n",
            "                                                                                                                  ' Married-spouse-absent': '<=50K',\n",
            "                                                                                                                  ' Never-married': {'sex': {' Female': '<=50K',\n",
            "                                                                                                                                             ' Male': {'race': {' Asian-Pac-Islander': '<=50K',\n",
            "                                                                                                                                                                ' Black': '<=50K',\n",
            "                                                                                                                                                                ' White': {'workclass': {' Private': {'native-country': {' United-States': '<=50K'}},\n",
            "                                                                                                                                                                                         ' Self-emp-inc': '<=50K',\n",
            "                                                                                                                                                                                         ' Self-emp-not-inc': '<=50K'}}}}}},\n",
            "                                                                                                                  ' Separated': '<=50K',\n",
            "                                                                                                                  ' Widowed': {'workclass': {' Private': {'sex': {' Female': '<=50K',\n",
            "                                                                                                                                                                  ' Male': {'race': {' White': {'native-country': {' United-States': '<=50K'}}}}}},\n",
            "                                                                                                                                             ' Self-emp-not-inc': '<=50K'}}}},\n",
            "                                                                                    ' Tech-support': {'workclass': {' Federal-gov': {'marital-status': {' Divorced': '<=50K',\n",
            "                                                                                                                                                        ' Widowed': '>50K'}},\n",
            "                                                                                                                    ' Private': {'sex': {' Female': '<=50K',\n",
            "                                                                                                                                         ' Male': {'marital-status': {' Divorced': '<=50K',\n",
            "                                                                                                                                                                      ' Never-married': {'race': {' White': {'native-country': {' United-States': '<=50K'}}}}}}}},\n",
            "                                                                                                                    ' Self-emp-not-inc': '>50K',\n",
            "                                                                                                                    ' State-gov': '<=50K'}},\n",
            "                                                                                    ' Transport-moving': {'marital-status': {' Divorced': {'workclass': {' Federal-gov': '<=50K',\n",
            "                                                                                                                                                         ' Local-gov': '<=50K',\n",
            "                                                                                                                                                         ' Private': {'race': {' White': {'sex': {' Male': {'native-country': {' United-States': '<=50K'}}}}}}}},\n",
            "                                                                                                                             ' Never-married': '<=50K',\n",
            "                                                                                                                             ' Widowed': '<=50K'}}}}}},\n",
            "                  ' Other-relative': {'marital-status': {' Divorced': {'native-country': {' El-Salvador': '<=50K',\n",
            "                                                                                          ' Germany': '<=50K',\n",
            "                                                                                          ' Haiti': '<=50K',\n",
            "                                                                                          ' Iran': '>50K',\n",
            "                                                                                          ' Nicaragua': '<=50K',\n",
            "                                                                                          ' Peru': '<=50K',\n",
            "                                                                                          ' Philippines': '<=50K',\n",
            "                                                                                          ' Puerto-Rico': '<=50K',\n",
            "                                                                                          ' United-States': {'occupation': {' Adm-clerical': '<=50K',\n",
            "                                                                                                                            ' Craft-repair': {'education': {' 10th': '<=50K',\n",
            "                                                                                                                                                            ' 11th': '<=50K',\n",
            "                                                                                                                                                            ' 12th': '<=50K',\n",
            "                                                                                                                                                            ' HS-grad': {'race': {' Other': '<=50K',\n",
            "                                                                                                                                                                                  ' White': {'sex': {' Female': '<=50K',\n",
            "                                                                                                                                                                                                     ' Male': {'workclass': {' Private': '<=50K'}}}}}},\n",
            "                                                                                                                                                            ' Some-college': '<=50K'}},\n",
            "                                                                                                                            ' Exec-managerial': '<=50K',\n",
            "                                                                                                                            ' Handlers-cleaners': '<=50K',\n",
            "                                                                                                                            ' Machine-op-inspct': '<=50K',\n",
            "                                                                                                                            ' Other-service': '<=50K',\n",
            "                                                                                                                            ' Priv-house-serv': '<=50K',\n",
            "                                                                                                                            ' Prof-specialty': '<=50K',\n",
            "                                                                                                                            ' Protective-serv': '<=50K',\n",
            "                                                                                                                            ' Sales': '<=50K',\n",
            "                                                                                                                            ' Tech-support': '<=50K'}}}},\n",
            "                                                         ' Married-civ-spouse': {'occupation': {' Adm-clerical': {'education': {' Assoc-voc': '<=50K',\n",
            "                                                                                                                                ' Bachelors': '>50K',\n",
            "                                                                                                                                ' HS-grad': '<=50K',\n",
            "                                                                                                                                ' Some-college': '>50K'}},\n",
            "                                                                                                ' Craft-repair': '<=50K',\n",
            "                                                                                                ' Exec-managerial': '>50K',\n",
            "                                                                                                ' Farming-fishing': '<=50K',\n",
            "                                                                                                ' Handlers-cleaners': '<=50K',\n",
            "                                                                                                ' Machine-op-inspct': '<=50K',\n",
            "                                                                                                ' Other-service': '<=50K',\n",
            "                                                                                                ' Priv-house-serv': '<=50K',\n",
            "                                                                                                ' Prof-specialty': {'education': {' Bachelors': '<=50K',\n",
            "                                                                                                                                  ' Masters': {'workclass': {' Local-gov': '<=50K',\n",
            "                                                                                                                                                             ' Private': '>50K'}},\n",
            "                                                                                                                                  ' Some-college': '<=50K'}},\n",
            "                                                                                                ' Protective-serv': '<=50K',\n",
            "                                                                                                ' Sales': '<=50K',\n",
            "                                                                                                ' Tech-support': {'workclass': {' Private': '>50K',\n",
            "                                                                                                                                ' Self-emp-not-inc': '<=50K'}},\n",
            "                                                                                                ' Transport-moving': '<=50K'}},\n",
            "                                                         ' Married-spouse-absent': '<=50K',\n",
            "                                                         ' Never-married': '<=50K',\n",
            "                                                         ' Separated': '<=50K',\n",
            "                                                         ' Widowed': '<=50K'}},\n",
            "                  ' Own-child': {'education': {' 10th': {'occupation': {' Adm-clerical': '<=50K',\n",
            "                                                                        ' Craft-repair': '<=50K',\n",
            "                                                                        ' Exec-managerial': '>50K',\n",
            "                                                                        ' Farming-fishing': '<=50K',\n",
            "                                                                        ' Handlers-cleaners': '<=50K',\n",
            "                                                                        ' Machine-op-inspct': '<=50K',\n",
            "                                                                        ' Other-service': '<=50K',\n",
            "                                                                        ' Prof-specialty': '<=50K',\n",
            "                                                                        ' Sales': '<=50K',\n",
            "                                                                        ' Tech-support': '<=50K',\n",
            "                                                                        ' Transport-moving': '<=50K'}},\n",
            "                                               ' 11th': {'native-country': {' Haiti': '<=50K',\n",
            "                                                                            ' Mexico': '<=50K',\n",
            "                                                                            ' Puerto-Rico': '<=50K',\n",
            "                                                                            ' Scotland': '<=50K',\n",
            "                                                                            ' United-States': '<=50K',\n",
            "                                                                            ' Vietnam': '>50K'}},\n",
            "                                               ' 12th': '<=50K',\n",
            "                                               ' 1st-4th': '<=50K',\n",
            "                                               ' 5th-6th': '<=50K',\n",
            "                                               ' 7th-8th': '<=50K',\n",
            "                                               ' 9th': '<=50K',\n",
            "                                               ' Assoc-acdm': '<=50K',\n",
            "                                               ' Assoc-voc': '<=50K',\n",
            "                                               ' Bachelors': {'workclass': {' Federal-gov': '<=50K',\n",
            "                                                                            ' Local-gov': {'sex': {' Female': {'marital-status': {' Divorced': '<=50K',\n",
            "                                                                                                                                  ' Never-married': {'occupation': {' Adm-clerical': '<=50K',\n",
            "                                                                                                                                                                    ' Exec-managerial': '<=50K',\n",
            "                                                                                                                                                                    ' Prof-specialty': {'race': {' White': {'native-country': {' United-States': '<=50K'}}}}}}}},\n",
            "                                                                                                   ' Male': '<=50K'}},\n",
            "                                                                            ' Private': {'occupation': {' Adm-clerical': '<=50K',\n",
            "                                                                                                        ' Craft-repair': '<=50K',\n",
            "                                                                                                        ' Exec-managerial': {'marital-status': {' Divorced': {'sex': {' Female': {'race': {' White': {'native-country': {' United-States': '<=50K'}}}},\n",
            "                                                                                                                                                                      ' Male': '<=50K'}},\n",
            "                                                                                                                                                ' Married-civ-spouse': '<=50K',\n",
            "                                                                                                                                                ' Never-married': '<=50K'}},\n",
            "                                                                                                        ' Farming-fishing': {'sex': {' Female': '<=50K',\n",
            "                                                                                                                                     ' Male': {'marital-status': {' Never-married': {'race': {' White': {'native-country': {' United-States': '<=50K'}}}}}}}},\n",
            "                                                                                                        ' Handlers-cleaners': '<=50K',\n",
            "                                                                                                        ' Machine-op-inspct': '<=50K',\n",
            "                                                                                                        ' Other-service': '<=50K',\n",
            "                                                                                                        ' Prof-specialty': '<=50K',\n",
            "                                                                                                        ' Sales': '<=50K',\n",
            "                                                                                                        ' Tech-support': '<=50K',\n",
            "                                                                                                        ' Transport-moving': '<=50K'}},\n",
            "                                                                            ' Self-emp-inc': {'occupation': {' Adm-clerical': '<=50K',\n",
            "                                                                                                             ' Exec-managerial': '<=50K',\n",
            "                                                                                                             ' Sales': {'marital-status': {' Never-married': {'race': {' White': {'sex': {' Male': {'native-country': {' United-States': '<=50K'}}}}}}}}}},\n",
            "                                                                            ' Self-emp-not-inc': {'occupation': {' Adm-clerical': '>50K',\n",
            "                                                                                                                 ' Craft-repair': '<=50K',\n",
            "                                                                                                                 ' Exec-managerial': '<=50K',\n",
            "                                                                                                                 ' Prof-specialty': '<=50K',\n",
            "                                                                                                                 ' Sales': '>50K'}},\n",
            "                                                                            ' State-gov': '<=50K'}},\n",
            "                                               ' Doctorate': {'workclass': {' Private': '<=50K',\n",
            "                                                                            ' Self-emp-inc': '<=50K',\n",
            "                                                                            ' State-gov': '>50K'}},\n",
            "                                               ' HS-grad': {'marital-status': {' Divorced': '<=50K',\n",
            "                                                                               ' Married-civ-spouse': {'occupation': {' Adm-clerical': '<=50K',\n",
            "                                                                                                                      ' Craft-repair': '<=50K',\n",
            "                                                                                                                      ' Machine-op-inspct': '<=50K',\n",
            "                                                                                                                      ' Other-service': '<=50K',\n",
            "                                                                                                                      ' Protective-serv': '<=50K',\n",
            "                                                                                                                      ' Sales': '>50K',\n",
            "                                                                                                                      ' Transport-moving': '<=50K'}},\n",
            "                                                                               ' Married-spouse-absent': '<=50K',\n",
            "                                                                               ' Never-married': {'occupation': {' Adm-clerical': '<=50K',\n",
            "                                                                                                                 ' Armed-Forces': '<=50K',\n",
            "                                                                                                                 ' Craft-repair': {'race': {' Black': '<=50K',\n",
            "                                                                                                                                            ' White': {'workclass': {' Local-gov': '<=50K',\n",
            "                                                                                                                                                                     ' Private': {'sex': {' Female': '<=50K',\n",
            "                                                                                                                                                                                          ' Male': {'native-country': {' El-Salvador': '<=50K',\n",
            "                                                                                                                                                                                                                       ' United-States': '<=50K'}}}},\n",
            "                                                                                                                                                                     ' Self-emp-not-inc': '<=50K'}}}},\n",
            "                                                                                                                 ' Exec-managerial': '<=50K',\n",
            "                                                                                                                 ' Farming-fishing': '<=50K',\n",
            "                                                                                                                 ' Handlers-cleaners': '<=50K',\n",
            "                                                                                                                 ' Machine-op-inspct': {'workclass': {' Federal-gov': '<=50K',\n",
            "                                                                                                                                                      ' Private': '<=50K',\n",
            "                                                                                                                                                      ' Self-emp-inc': '<=50K',\n",
            "                                                                                                                                                      ' Self-emp-not-inc': '>50K'}},\n",
            "                                                                                                                 ' Other-service': '<=50K',\n",
            "                                                                                                                 ' Prof-specialty': '<=50K',\n",
            "                                                                                                                 ' Protective-serv': '<=50K',\n",
            "                                                                                                                 ' Sales': '<=50K',\n",
            "                                                                                                                 ' Tech-support': '<=50K',\n",
            "                                                                                                                 ' Transport-moving': '<=50K'}},\n",
            "                                                                               ' Separated': '<=50K',\n",
            "                                                                               ' Widowed': '<=50K'}},\n",
            "                                               ' Masters': '<=50K',\n",
            "                                               ' Preschool': '<=50K',\n",
            "                                               ' Prof-school': {'marital-status': {' Divorced': '<=50K',\n",
            "                                                                                   ' Never-married': {'workclass': {' Private': '>50K',\n",
            "                                                                                                                    ' Self-emp-not-inc': {'native-country': {' Italy': '>50K',\n",
            "                                                                                                                                                             ' United-States': '<=50K'}}}}}},\n",
            "                                               ' Some-college': {'marital-status': {' Divorced': {'occupation': {' Adm-clerical': {'workclass': {' Federal-gov': '<=50K',\n",
            "                                                                                                                                                 ' Private': {'race': {' White': {'sex': {' Female': {'native-country': {' United-States': '<=50K'}}}}}},\n",
            "                                                                                                                                                 ' Self-emp-not-inc': '<=50K'}},\n",
            "                                                                                                                 ' Craft-repair': {'race': {' Black': '<=50K',\n",
            "                                                                                                                                            ' White': {'native-country': {' Poland': '<=50K',\n",
            "                                                                                                                                                                          ' United-States': {'workclass': {' Private': {'sex': {' Male': '<=50K'}}}}}}}},\n",
            "                                                                                                                 ' Exec-managerial': '<=50K',\n",
            "                                                                                                                 ' Machine-op-inspct': '<=50K',\n",
            "                                                                                                                 ' Other-service': '<=50K',\n",
            "                                                                                                                 ' Prof-specialty': '<=50K',\n",
            "                                                                                                                 ' Sales': '<=50K',\n",
            "                                                                                                                 ' Tech-support': '<=50K',\n",
            "                                                                                                                 ' Transport-moving': '<=50K'}},\n",
            "                                                                                    ' Married-civ-spouse': {'workclass': {' Federal-gov': '<=50K',\n",
            "                                                                                                                          ' Private': '>50K',\n",
            "                                                                                                                          ' Self-emp-not-inc': '<=50K'}},\n",
            "                                                                                    ' Married-spouse-absent': '<=50K',\n",
            "                                                                                    ' Never-married': '<=50K',\n",
            "                                                                                    ' Separated': '<=50K'}}}},\n",
            "                  ' Unmarried': {'education': {' 10th': {'occupation': {' Adm-clerical': '<=50K',\n",
            "                                                                        ' Craft-repair': '<=50K',\n",
            "                                                                        ' Exec-managerial': {'workclass': {' Private': '<=50K',\n",
            "                                                                                                           ' Self-emp-inc': '>50K'}},\n",
            "                                                                        ' Farming-fishing': '<=50K',\n",
            "                                                                        ' Handlers-cleaners': '<=50K',\n",
            "                                                                        ' Machine-op-inspct': '<=50K',\n",
            "                                                                        ' Other-service': '<=50K',\n",
            "                                                                        ' Sales': '<=50K',\n",
            "                                                                        ' Transport-moving': '>50K'}},\n",
            "                                               ' 11th': {'occupation': {' Adm-clerical': '<=50K',\n",
            "                                                                        ' Craft-repair': '<=50K',\n",
            "                                                                        ' Exec-managerial': {'marital-status': {' Divorced': '>50K',\n",
            "                                                                                                                ' Never-married': '<=50K'}},\n",
            "                                                                        ' Farming-fishing': '<=50K',\n",
            "                                                                        ' Handlers-cleaners': '<=50K',\n",
            "                                                                        ' Machine-op-inspct': '<=50K',\n",
            "                                                                        ' Other-service': '<=50K',\n",
            "                                                                        ' Priv-house-serv': '<=50K',\n",
            "                                                                        ' Sales': {'workclass': {' Local-gov': '>50K',\n",
            "                                                                                                 ' Private': '<=50K'}},\n",
            "                                                                        ' Transport-moving': '<=50K'}},\n",
            "                                               ' 12th': '<=50K',\n",
            "                                               ' 1st-4th': '<=50K',\n",
            "                                               ' 5th-6th': '<=50K',\n",
            "                                               ' 7th-8th': '<=50K',\n",
            "                                               ' 9th': {'workclass': {' Local-gov': {'marital-status': {' Separated': '<=50K',\n",
            "                                                                                                        ' Widowed': '>50K'}},\n",
            "                                                                      ' Private': '<=50K'}},\n",
            "                                               ' Assoc-acdm': {'race': {' Amer-Indian-Eskimo': '<=50K',\n",
            "                                                                        ' Asian-Pac-Islander': '>50K',\n",
            "                                                                        ' Black': '<=50K',\n",
            "                                                                        ' White': {'workclass': {' Federal-gov': '<=50K',\n",
            "                                                                                                 ' Local-gov': '<=50K',\n",
            "                                                                                                 ' Private': {'occupation': {' Adm-clerical': '<=50K',\n",
            "                                                                                                                             ' Craft-repair': '<=50K',\n",
            "                                                                                                                             ' Exec-managerial': '<=50K',\n",
            "                                                                                                                             ' Handlers-cleaners': '<=50K',\n",
            "                                                                                                                             ' Machine-op-inspct': '<=50K',\n",
            "                                                                                                                             ' Other-service': '<=50K',\n",
            "                                                                                                                             ' Prof-specialty': {'marital-status': {' Divorced': {'sex': {' Female': {'native-country': {' United-States': '<=50K'}}}},\n",
            "                                                                                                                                                                    ' Never-married': '<=50K'}},\n",
            "                                                                                                                             ' Sales': '<=50K',\n",
            "                                                                                                                             ' Transport-moving': '<=50K'}},\n",
            "                                                                                                 ' Self-emp-not-inc': '<=50K',\n",
            "                                                                                                 ' State-gov': {'marital-status': {' Divorced': '>50K',\n",
            "                                                                                                                                   ' Married-spouse-absent': '<=50K'}}}}}},\n",
            "                                               ' Assoc-voc': {'occupation': {' Adm-clerical': '<=50K',\n",
            "                                                                             ' Craft-repair': {'workclass': {' Federal-gov': '>50K',\n",
            "                                                                                                             ' Private': '<=50K'}},\n",
            "                                                                             ' Exec-managerial': '<=50K',\n",
            "                                                                             ' Handlers-cleaners': '<=50K',\n",
            "                                                                             ' Machine-op-inspct': '<=50K',\n",
            "                                                                             ' Other-service': '<=50K',\n",
            "                                                                             ' Prof-specialty': {'marital-status': {' Divorced': {'workclass': {' Federal-gov': '<=50K',\n",
            "                                                                                                                                                ' Private': {'race': {' White': {'sex': {' Female': {'native-country': {' United-States': '<=50K'}}}}}},\n",
            "                                                                                                                                                ' State-gov': {'race': {' White': {'sex': {' Female': {'native-country': {' United-States': '<=50K'}}}}}}}},\n",
            "                                                                                                                    ' Married-spouse-absent': '<=50K',\n",
            "                                                                                                                    ' Never-married': '<=50K',\n",
            "                                                                                                                    ' Separated': '<=50K'}},\n",
            "                                                                             ' Sales': '<=50K',\n",
            "                                                                             ' Tech-support': '<=50K'}},\n",
            "                                               ' Bachelors': {'workclass': {' Federal-gov': {'race': {' Asian-Pac-Islander': '<=50K',\n",
            "                                                                                                      ' Black': '>50K',\n",
            "                                                                                                      ' White': {'sex': {' Female': '<=50K',\n",
            "                                                                                                                         ' Male': '>50K'}}}},\n",
            "                                                                            ' Local-gov': {'marital-status': {' Divorced': {'occupation': {' Adm-clerical': '<=50K',\n",
            "                                                                                                                                           ' Exec-managerial': '<=50K',\n",
            "                                                                                                                                           ' Prof-specialty': {'race': {' Black': '<=50K',\n",
            "                                                                                                                                                                        ' White': {'sex': {' Female': {'native-country': {' United-States': '<=50K'}},\n",
            "                                                                                                                                                                                           ' Male': '<=50K'}}}},\n",
            "                                                                                                                                           ' Protective-serv': '<=50K'}},\n",
            "                                                                                                              ' Never-married': '<=50K',\n",
            "                                                                                                              ' Separated': '<=50K',\n",
            "                                                                                                              ' Widowed': '<=50K'}},\n",
            "                                                                            ' Private': {'occupation': {' Adm-clerical': '<=50K',\n",
            "                                                                                                        ' Craft-repair': '<=50K',\n",
            "                                                                                                        ' Exec-managerial': {'sex': {' Female': {'marital-status': {' Divorced': {'race': {' Black': '<=50K',\n",
            "                                                                                                                                                                                           ' White': {'native-country': {' Canada': '<=50K',\n",
            "                                                                                                                                                                                                                         ' United-States': '<=50K'}}}},\n",
            "                                                                                                                                                                    ' Married-spouse-absent': '<=50K',\n",
            "                                                                                                                                                                    ' Never-married': {'race': {' Black': '<=50K',\n",
            "                                                                                                                                                                                                ' White': {'native-country': {' Cuba': '<=50K',\n",
            "                                                                                                                                                                                                                              ' United-States': '>50K'}}}},\n",
            "                                                                                                                                                                    ' Separated': '<=50K'}},\n",
            "                                                                                                                                     ' Male': {'marital-status': {' Divorced': '>50K',\n",
            "                                                                                                                                                                  ' Never-married': '<=50K',\n",
            "                                                                                                                                                                  ' Widowed': '<=50K'}}}},\n",
            "                                                                                                        ' Other-service': {'marital-status': {' Divorced': '>50K',\n",
            "                                                                                                                                              ' Never-married': '<=50K',\n",
            "                                                                                                                                              ' Separated': '<=50K'}},\n",
            "                                                                                                        ' Prof-specialty': {'marital-status': {' Divorced': {'race': {' Black': '<=50K',\n",
            "                                                                                                                                                                      ' White': {'native-country': {' Germany': '<=50K',\n",
            "                                                                                                                                                                                                    ' Ireland': '<=50K',\n",
            "                                                                                                                                                                                                    ' United-States': {'sex': {' Female': '<=50K',\n",
            "                                                                                                                                                                                                                               ' Male': '<=50K'}}}}}},\n",
            "                                                                                                                                               ' Never-married': '<=50K',\n",
            "                                                                                                                                               ' Separated': {'sex': {' Female': {'race': {' White': {'native-country': {' United-States': '<=50K'}}}},\n",
            "                                                                                                                                                                      ' Male': '<=50K'}},\n",
            "                                                                                                                                               ' Widowed': '<=50K'}},\n",
            "                                                                                                        ' Sales': {'marital-status': {' Divorced': {'sex': {' Female': '<=50K',\n",
            "                                                                                                                                                            ' Male': {'race': {' Black': '<=50K',\n",
            "                                                                                                                                                                               ' White': '>50K'}}}},\n",
            "                                                                                                                                      ' Never-married': {'sex': {' Female': {'race': {' White': {'native-country': {' United-States': '<=50K'}}}},\n",
            "                                                                                                                                                                 ' Male': '<=50K'}},\n",
            "                                                                                                                                      ' Separated': '<=50K',\n",
            "                                                                                                                                      ' Widowed': '<=50K'}},\n",
            "                                                                                                        ' Tech-support': {'marital-status': {' Divorced': '>50K',\n",
            "                                                                                                                                             ' Never-married': '<=50K'}},\n",
            "                                                                                                        ' Transport-moving': '<=50K'}},\n",
            "                                                                            ' Self-emp-inc': '>50K',\n",
            "                                                                            ' Self-emp-not-inc': {'occupation': {' Farming-fishing': '<=50K',\n",
            "                                                                                                                 ' Other-service': '>50K',\n",
            "                                                                                                                 ' Prof-specialty': '>50K',\n",
            "                                                                                                                 ' Sales': '>50K'}},\n",
            "                                                                            ' State-gov': {'race': {' Asian-Pac-Islander': '>50K',\n",
            "                                                                                                    ' White': '<=50K'}}}},\n",
            "                                               ' Doctorate': {'marital-status': {' Divorced': {'occupation': {' Prof-specialty': {'workclass': {' Private': {'race': {' White': {'sex': {' Female': {'native-country': {' United-States': '<=50K'}}}}}}}},\n",
            "                                                                                                              ' Sales': '>50K'}},\n",
            "                                                                                 ' Married-spouse-absent': '>50K',\n",
            "                                                                                 ' Widowed': '>50K'}},\n",
            "                                               ' HS-grad': {'occupation': {' Adm-clerical': {'workclass': {' Federal-gov': '<=50K',\n",
            "                                                                                                           ' Local-gov': '<=50K',\n",
            "                                                                                                           ' Private': '<=50K',\n",
            "                                                                                                           ' State-gov': {'marital-status': {' Divorced': {'race': {' White': {'sex': {' Female': {'native-country': {' United-States': '<=50K'}}}}}},\n",
            "                                                                                                                                             ' Never-married': '<=50K',\n",
            "                                                                                                                                             ' Separated': '<=50K'}}}},\n",
            "                                                                           ' Craft-repair': {'workclass': {' Federal-gov': '<=50K',\n",
            "                                                                                                           ' Local-gov': '<=50K',\n",
            "                                                                                                           ' Private': {'marital-status': {' Divorced': '<=50K',\n",
            "                                                                                                                                           ' Married-spouse-absent': '<=50K',\n",
            "                                                                                                                                           ' Never-married': {'native-country': {' Mexico': '<=50K',\n",
            "                                                                                                                                                                                 ' United-States': {'sex': {' Female': '<=50K',\n",
            "                                                                                                                                                                                                            ' Male': {'race': {' White': '<=50K'}}}},\n",
            "                                                                                                                                                                                 ' Vietnam': '<=50K'}},\n",
            "                                                                                                                                           ' Separated': '<=50K',\n",
            "                                                                                                                                           ' Widowed': '<=50K'}},\n",
            "                                                                                                           ' Self-emp-not-inc': {'marital-status': {' Divorced': '>50K',\n",
            "                                                                                                                                                    ' Separated': '<=50K'}},\n",
            "                                                                                                           ' State-gov': '<=50K'}},\n",
            "                                                                           ' Exec-managerial': {'race': {' Amer-Indian-Eskimo': '<=50K',\n",
            "                                                                                                         ' Asian-Pac-Islander': '<=50K',\n",
            "                                                                                                         ' Black': {'marital-status': {' Divorced': '>50K',\n",
            "                                                                                                                                       ' Never-married': '<=50K',\n",
            "                                                                                                                                       ' Separated': '<=50K',\n",
            "                                                                                                                                       ' Widowed': '<=50K'}},\n",
            "                                                                                                         ' White': '<=50K'}},\n",
            "                                                                           ' Farming-fishing': '<=50K',\n",
            "                                                                           ' Handlers-cleaners': '<=50K',\n",
            "                                                                           ' Machine-op-inspct': '<=50K',\n",
            "                                                                           ' Other-service': {'native-country': {' China': '<=50K',\n",
            "                                                                                                                 ' Dominican-Republic': '<=50K',\n",
            "                                                                                                                 ' El-Salvador': '<=50K',\n",
            "                                                                                                                 ' Honduras': '<=50K',\n",
            "                                                                                                                 ' India': {'workclass': {' Private': '>50K',\n",
            "                                                                                                                                          ' Self-emp-inc': '<=50K'}},\n",
            "                                                                                                                 ' Jamaica': '<=50K',\n",
            "                                                                                                                 ' Japan': '<=50K',\n",
            "                                                                                                                 ' Mexico': '<=50K',\n",
            "                                                                                                                 ' Puerto-Rico': '<=50K',\n",
            "                                                                                                                 ' United-States': '<=50K'}},\n",
            "                                                                           ' Priv-house-serv': '<=50K',\n",
            "                                                                           ' Prof-specialty': {'workclass': {' Local-gov': '<=50K',\n",
            "                                                                                                             ' Private': '<=50K',\n",
            "                                                                                                             ' Self-emp-not-inc': '>50K'}},\n",
            "                                                                           ' Protective-serv': '<=50K',\n",
            "                                                                           ' Sales': {'workclass': {' Federal-gov': '<=50K',\n",
            "                                                                                                    ' Private': {'marital-status': {' Divorced': {'race': {' Amer-Indian-Eskimo': '<=50K',\n",
            "                                                                                                                                                           ' Black': '<=50K',\n",
            "                                                                                                                                                           ' White': {'sex': {' Female': {'native-country': {' United-States': '<=50K'}}}}}},\n",
            "                                                                                                                                    ' Married-spouse-absent': '<=50K',\n",
            "                                                                                                                                    ' Never-married': {'sex': {' Female': '<=50K',\n",
            "                                                                                                                                                               ' Male': {'race': {' Black': '<=50K',\n",
            "                                                                                                                                                                                  ' White': '>50K'}}}},\n",
            "                                                                                                                                    ' Separated': '<=50K',\n",
            "                                                                                                                                    ' Widowed': '<=50K'}},\n",
            "                                                                                                    ' Self-emp-inc': {'sex': {' Female': '>50K',\n",
            "                                                                                                                              ' Male': '<=50K'}},\n",
            "                                                                                                    ' Self-emp-not-inc': '<=50K'}},\n",
            "                                                                           ' Tech-support': '<=50K',\n",
            "                                                                           ' Transport-moving': {'marital-status': {' Divorced': {'workclass': {' Local-gov': '<=50K',\n",
            "                                                                                                                                                ' Private': {'sex': {' Female': '<=50K',\n",
            "                                                                                                                                                                     ' Male': {'race': {' White': {'native-country': {' United-States': '<=50K'}}}}}},\n",
            "                                                                                                                                                ' Self-emp-not-inc': '<=50K',\n",
            "                                                                                                                                                ' State-gov': '<=50K'}},\n",
            "                                                                                                                    ' Never-married': '<=50K',\n",
            "                                                                                                                    ' Separated': '<=50K',\n",
            "                                                                                                                    ' Widowed': {'workclass': {' Private': {'race': {' White': {'sex': {' Male': {'native-country': {' United-States': '<=50K'}}}}}}}}}}}},\n",
            "                                               ' Masters': {'marital-status': {' Divorced': {'race': {' Asian-Pac-Islander': '<=50K',\n",
            "                                                                                                      ' Black': '>50K',\n",
            "                                                                                                      ' White': {'workclass': {' Local-gov': {'sex': {' Female': {'occupation': {' Prof-specialty': {'native-country': {' United-States': '<=50K'}}}},\n",
            "                                                                                                                                                      ' Male': '<=50K'}},\n",
            "                                                                                                                               ' Private': {'occupation': {' Exec-managerial': {'sex': {' Female': {'native-country': {' United-States': '<=50K'}},\n",
            "                                                                                                                                                                                        ' Male': {'native-country': {' United-States': '<=50K'}}}},\n",
            "                                                                                                                                                           ' Other-service': '<=50K',\n",
            "                                                                                                                                                           ' Prof-specialty': {'sex': {' Female': {'native-country': {' United-States': '<=50K'}},\n",
            "                                                                                                                                                                                       ' Male': '>50K'}}}},\n",
            "                                                                                                                               ' Self-emp-inc': '>50K',\n",
            "                                                                                                                               ' Self-emp-not-inc': {'occupation': {' Exec-managerial': '>50K',\n",
            "                                                                                                                                                                    ' Handlers-cleaners': '<=50K',\n",
            "                                                                                                                                                                    ' Prof-specialty': {'sex': {' Female': '<=50K',\n",
            "                                                                                                                                                                                                ' Male': '>50K'}},\n",
            "                                                                                                                                                                    ' Sales': '>50K'}},\n",
            "                                                                                                                               ' State-gov': '<=50K'}}}},\n",
            "                                                                               ' Married-spouse-absent': '<=50K',\n",
            "                                                                               ' Never-married': {'workclass': {' Local-gov': {'occupation': {' Prof-specialty': {'race': {' White': {'sex': {' Female': {'native-country': {' United-States': '<=50K'}}}}}}}},\n",
            "                                                                                                                ' Private': '<=50K',\n",
            "                                                                                                                ' State-gov': '<=50K'}},\n",
            "                                                                               ' Separated': '<=50K',\n",
            "                                                                               ' Widowed': '<=50K'}},\n",
            "                                               ' Preschool': '<=50K',\n",
            "                                               ' Prof-school': {'workclass': {' Local-gov': '<=50K',\n",
            "                                                                              ' Private': '<=50K',\n",
            "                                                                              ' Self-emp-not-inc': '>50K',\n",
            "                                                                              ' State-gov': '<=50K'}},\n",
            "                                               ' Some-college': {'occupation': {' Adm-clerical': {'sex': {' Female': '<=50K',\n",
            "                                                                                                          ' Male': {'marital-status': {' Divorced': '<=50K',\n",
            "                                                                                                                                       ' Never-married': {'workclass': {' Private': {'race': {' White': {'native-country': {' United-States': '<=50K'}}}}}}}}}},\n",
            "                                                                                ' Craft-repair': {'marital-status': {' Divorced': '<=50K',\n",
            "                                                                                                                     ' Never-married': '<=50K',\n",
            "                                                                                                                     ' Separated': '>50K',\n",
            "                                                                                                                     ' Widowed': '<=50K'}},\n",
            "                                                                                ' Exec-managerial': '<=50K',\n",
            "                                                                                ' Farming-fishing': {'marital-status': {' Divorced': {'sex': {' Female': '>50K',\n",
            "                                                                                                                                              ' Male': '<=50K'}},\n",
            "                                                                                                                        ' Widowed': '<=50K'}},\n",
            "                                                                                ' Handlers-cleaners': '<=50K',\n",
            "                                                                                ' Machine-op-inspct': {'sex': {' Female': '<=50K',\n",
            "                                                                                                               ' Male': {'marital-status': {' Divorced': {'workclass': {' Private': {'race': {' White': {'native-country': {' United-States': '<=50K'}}}}}},\n",
            "                                                                                                                                            ' Never-married': '<=50K'}}}},\n",
            "                                                                                ' Other-service': '<=50K',\n",
            "                                                                                ' Prof-specialty': {'marital-status': {' Divorced': '<=50K',\n",
            "                                                                                                                       ' Married-spouse-absent': '<=50K',\n",
            "                                                                                                                       ' Never-married': {'workclass': {' Private': {'sex': {' Female': '<=50K',\n",
            "                                                                                                                                                                             ' Male': '>50K'}},\n",
            "                                                                                                                                                        ' Self-emp-not-inc': '<=50K'}}}},\n",
            "                                                                                ' Protective-serv': {'race': {' Amer-Indian-Eskimo': '>50K',\n",
            "                                                                                                              ' White': '<=50K'}},\n",
            "                                                                                ' Sales': {'marital-status': {' Divorced': '<=50K',\n",
            "                                                                                                              ' Never-married': '<=50K',\n",
            "                                                                                                              ' Separated': '<=50K',\n",
            "                                                                                                              ' Widowed': {'sex': {' Female': '<=50K',\n",
            "                                                                                                                                   ' Male': '>50K'}}}},\n",
            "                                                                                ' Tech-support': {'sex': {' Female': '<=50K',\n",
            "                                                                                                          ' Male': {'workclass': {' Private': '>50K',\n",
            "                                                                                                                                  ' State-gov': '<=50K'}}}},\n",
            "                                                                                ' Transport-moving': '<=50K'}}}},\n",
            "                  ' Wife': {'occupation': {' Adm-clerical': {'workclass': {' Federal-gov': '>50K',\n",
            "                                                                           ' Local-gov': {'education': {' Assoc-acdm': {'marital-status': {' Married-civ-spouse': {'race': {' White': {'sex': {' Female': {'native-country': {' United-States': '<=50K'}}}}}}}},\n",
            "                                                                                                        ' Bachelors': '<=50K',\n",
            "                                                                                                        ' HS-grad': {'marital-status': {' Married-civ-spouse': {'race': {' White': {'sex': {' Female': {'native-country': {' United-States': '<=50K'}}}}}}}},\n",
            "                                                                                                        ' Some-college': {'marital-status': {' Married-civ-spouse': {'race': {' White': {'sex': {' Female': {'native-country': {' United-States': '<=50K'}}}}}}}}}},\n",
            "                                                                           ' Private': {'native-country': {' Canada': '>50K',\n",
            "                                                                                                           ' Cuba': '>50K',\n",
            "                                                                                                           ' Germany': '>50K',\n",
            "                                                                                                           ' India': '<=50K',\n",
            "                                                                                                           ' Italy': '>50K',\n",
            "                                                                                                           ' Jamaica': '<=50K',\n",
            "                                                                                                           ' Laos': '<=50K',\n",
            "                                                                                                           ' Mexico': '<=50K',\n",
            "                                                                                                           ' United-States': {'education': {' 10th': '<=50K',\n",
            "                                                                                                                                            ' Assoc-acdm': {'race': {' Amer-Indian-Eskimo': '>50K',\n",
            "                                                                                                                                                                     ' Black': {'marital-status': {' Married-civ-spouse': {'sex': {' Female': '<=50K'}}}},\n",
            "                                                                                                                                                                     ' White': '<=50K'}},\n",
            "                                                                                                                                            ' Assoc-voc': {'race': {' Black': '<=50K',\n",
            "                                                                                                                                                                    ' White': {'marital-status': {' Married-civ-spouse': {'sex': {' Female': '<=50K'}}}}}},\n",
            "                                                                                                                                            ' Bachelors': {'race': {' Black': {'marital-status': {' Married-civ-spouse': {'sex': {' Female': '<=50K'}}}},\n",
            "                                                                                                                                                                    ' White': {'marital-status': {' Married-civ-spouse': {'sex': {' Female': '>50K'}}}}}},\n",
            "                                                                                                                                            ' HS-grad': {'race': {' Black': '<=50K',\n",
            "                                                                                                                                                                  ' White': {'marital-status': {' Married-AF-spouse': '<=50K',\n",
            "                                                                                                                                                                                                ' Married-civ-spouse': {'sex': {' Female': '<=50K'}}}}}},\n",
            "                                                                                                                                            ' Some-college': {'race': {' Amer-Indian-Eskimo': '<=50K',\n",
            "                                                                                                                                                                       ' Black': {'marital-status': {' Married-civ-spouse': {'sex': {' Female': '<=50K'}}}},\n",
            "                                                                                                                                                                       ' White': {'marital-status': {' Married-civ-spouse': {'sex': {' Female': '>50K'}}}}}}}}}},\n",
            "                                                                           ' Self-emp-inc': '>50K',\n",
            "                                                                           ' Self-emp-not-inc': {'education': {' Assoc-acdm': '>50K',\n",
            "                                                                                                               ' Bachelors': '<=50K',\n",
            "                                                                                                               ' HS-grad': '<=50K',\n",
            "                                                                                                               ' Some-college': '>50K'}},\n",
            "                                                                           ' State-gov': '<=50K'}},\n",
            "                                           ' Craft-repair': {'education': {' 10th': '<=50K',\n",
            "                                                                           ' 12th': '<=50K',\n",
            "                                                                           ' 5th-6th': '<=50K',\n",
            "                                                                           ' Assoc-acdm': '>50K',\n",
            "                                                                           ' Assoc-voc': '<=50K',\n",
            "                                                                           ' Bachelors': '<=50K',\n",
            "                                                                           ' HS-grad': {'race': {' Black': '<=50K',\n",
            "                                                                                                 ' White': {'workclass': {' Private': {'marital-status': {' Married-civ-spouse': {'sex': {' Female': {'native-country': {' United-States': '<=50K'}}}}}}}}}},\n",
            "                                                                           ' Some-college': '<=50K'}},\n",
            "                                           ' Exec-managerial': {'native-country': {' Canada': '>50K',\n",
            "                                                                                   ' Germany': '<=50K',\n",
            "                                                                                   ' Iran': '>50K',\n",
            "                                                                                   ' Mexico': '<=50K',\n",
            "                                                                                   ' Philippines': '>50K',\n",
            "                                                                                   ' Portugal': '>50K',\n",
            "                                                                                   ' Puerto-Rico': '>50K',\n",
            "                                                                                   ' South': '<=50K',\n",
            "                                                                                   ' Taiwan': '<=50K',\n",
            "                                                                                   ' Thailand': '>50K',\n",
            "                                                                                   ' United-States': {'education': {' 9th': {'race': {' Asian-Pac-Islander': '>50K',\n",
            "                                                                                                                                      ' White': '<=50K'}},\n",
            "                                                                                                                    ' Assoc-acdm': {'workclass': {' Private': {'race': {' Black': '>50K',\n",
            "                                                                                                                                                                        ' White': {'marital-status': {' Married-civ-spouse': {'sex': {' Female': '>50K'}}}}}},\n",
            "                                                                                                                                                  ' Self-emp-inc': '>50K'}},\n",
            "                                                                                                                    ' Assoc-voc': {'race': {' Black': '<=50K',\n",
            "                                                                                                                                            ' White': '>50K'}},\n",
            "                                                                                                                    ' Bachelors': {'workclass': {' Federal-gov': '<=50K',\n",
            "                                                                                                                                                 ' Private': {'race': {' Black': '>50K',\n",
            "                                                                                                                                                                       ' White': {'marital-status': {' Married-AF-spouse': '>50K',\n",
            "                                                                                                                                                                                                     ' Married-civ-spouse': {'sex': {' Female': '>50K',\n",
            "                                                                                                                                                                                                                                     ' Male': '>50K'}}}}}},\n",
            "                                                                                                                                                 ' Self-emp-inc': '>50K',\n",
            "                                                                                                                                                 ' State-gov': '>50K'}},\n",
            "                                                                                                                    ' Doctorate': '>50K',\n",
            "                                                                                                                    ' HS-grad': {'workclass': {' Local-gov': {'race': {' Black': '>50K',\n",
            "                                                                                                                                                                       ' White': {'marital-status': {' Married-civ-spouse': {'sex': {' Female': '<=50K'}}}}}},\n",
            "                                                                                                                                               ' Private': {'marital-status': {' Married-civ-spouse': {'race': {' White': {'sex': {' Female': '<=50K'}}}}}},\n",
            "                                                                                                                                               ' Self-emp-inc': '>50K',\n",
            "                                                                                                                                               ' State-gov': '>50K'}},\n",
            "                                                                                                                    ' Masters': {'workclass': {' Private': {'marital-status': {' Married-civ-spouse': {'race': {' White': {'sex': {' Female': '>50K'}}}}}},\n",
            "                                                                                                                                               ' Self-emp-not-inc': '>50K'}},\n",
            "                                                                                                                    ' Prof-school': '>50K',\n",
            "                                                                                                                    ' Some-college': {'workclass': {' Federal-gov': '>50K',\n",
            "                                                                                                                                                    ' Local-gov': '>50K',\n",
            "                                                                                                                                                    ' Private': {'race': {' Black': '>50K',\n",
            "                                                                                                                                                                          ' Other': '<=50K',\n",
            "                                                                                                                                                                          ' White': {'marital-status': {' Married-civ-spouse': {'sex': {' Female': '<=50K'}}}}}},\n",
            "                                                                                                                                                    ' Self-emp-inc': '<=50K',\n",
            "                                                                                                                                                    ' State-gov': '<=50K'}}}}}},\n",
            "                                           ' Farming-fishing': '<=50K',\n",
            "                                           ' Handlers-cleaners': {'education': {' 10th': '<=50K',\n",
            "                                                                                ' Bachelors': '>50K',\n",
            "                                                                                ' HS-grad': '>50K',\n",
            "                                                                                ' Some-college': '<=50K'}},\n",
            "                                           ' Machine-op-inspct': {'native-country': {' Canada': '>50K',\n",
            "                                                                                     ' China': '<=50K',\n",
            "                                                                                     ' Dominican-Republic': '<=50K',\n",
            "                                                                                     ' Mexico': '<=50K',\n",
            "                                                                                     ' Peru': '<=50K',\n",
            "                                                                                     ' Portugal': '<=50K',\n",
            "                                                                                     ' Puerto-Rico': '<=50K',\n",
            "                                                                                     ' Thailand': '<=50K',\n",
            "                                                                                     ' Trinadad&Tobago': '<=50K',\n",
            "                                                                                     ' United-States': {'education': {' 10th': '<=50K',\n",
            "                                                                                                                      ' 11th': '<=50K',\n",
            "                                                                                                                      ' 7th-8th': '<=50K',\n",
            "                                                                                                                      ' 9th': '>50K',\n",
            "                                                                                                                      ' HS-grad': {'workclass': {' Private': {'race': {' Black': {'marital-status': {' Married-civ-spouse': {'sex': {' Female': '<=50K'}}}},\n",
            "                                                                                                                                                                       ' White': {'marital-status': {' Married-civ-spouse': {'sex': {' Female': '<=50K'}}}}}},\n",
            "                                                                                                                                                 ' Self-emp-not-inc': {'marital-status': {' Married-civ-spouse': {'race': {' White': {'sex': {' Female': '<=50K'}}}}}}}},\n",
            "                                                                                                                      ' Some-college': '>50K'}},\n",
            "                                                                                     ' Vietnam': '>50K'}},\n",
            "                                           ' Other-service': {'education': {' 10th': '<=50K',\n",
            "                                                                            ' 11th': '<=50K',\n",
            "                                                                            ' 12th': '<=50K',\n",
            "                                                                            ' 1st-4th': '<=50K',\n",
            "                                                                            ' 9th': '<=50K',\n",
            "                                                                            ' Assoc-acdm': {'workclass': {' Local-gov': '<=50K',\n",
            "                                                                                                          ' Private': {'marital-status': {' Married-civ-spouse': {'race': {' White': {'sex': {' Female': {'native-country': {' United-States': '<=50K'}}}}}}}},\n",
            "                                                                                                          ' Self-emp-not-inc': '<=50K'}},\n",
            "                                                                            ' Assoc-voc': {'race': {' Amer-Indian-Eskimo': '<=50K',\n",
            "                                                                                                    ' Black': '<=50K',\n",
            "                                                                                                    ' White': '>50K'}},\n",
            "                                                                            ' Bachelors': {'native-country': {' Poland': '<=50K',\n",
            "                                                                                                              ' Puerto-Rico': '<=50K',\n",
            "                                                                                                              ' United-States': {'race': {' Asian-Pac-Islander': '>50K',\n",
            "                                                                                                                                          ' White': {'workclass': {' Private': {'marital-status': {' Married-civ-spouse': {'sex': {' Female': '<=50K'}}}}}}}}}},\n",
            "                                                                            ' HS-grad': {'native-country': {' Italy': '<=50K',\n",
            "                                                                                                            ' Jamaica': '>50K',\n",
            "                                                                                                            ' Mexico': '<=50K',\n",
            "                                                                                                            ' Peru': '<=50K',\n",
            "                                                                                                            ' Philippines': '<=50K',\n",
            "                                                                                                            ' South': '<=50K',\n",
            "                                                                                                            ' United-States': {'workclass': {' Local-gov': '<=50K',\n",
            "                                                                                                                                             ' Private': {'race': {' Black': {'marital-status': {' Married-civ-spouse': {'sex': {' Female': '<=50K'}}}},\n",
            "                                                                                                                                                                   ' White': {'marital-status': {' Married-civ-spouse': {'sex': {' Female': '<=50K'}}}}}},\n",
            "                                                                                                                                             ' Self-emp-not-inc': '<=50K'}}}},\n",
            "                                                                            ' Some-college': {'workclass': {' Private': {'race': {' Amer-Indian-Eskimo': '<=50K',\n",
            "                                                                                                                                  ' Black': '<=50K',\n",
            "                                                                                                                                  ' White': {'native-country': {' Puerto-Rico': '<=50K',\n",
            "                                                                                                                                                                ' United-States': {'marital-status': {' Married-civ-spouse': {'sex': {' Female': '<=50K'}}}}}}}},\n",
            "                                                                                                            ' Self-emp-not-inc': '<=50K',\n",
            "                                                                                                            ' State-gov': '<=50K'}}}},\n",
            "                                           ' Priv-house-serv': '<=50K',\n",
            "                                           ' Prof-specialty': {'native-country': {' Cuba': '<=50K',\n",
            "                                                                                  ' Honduras': '>50K',\n",
            "                                                                                  ' Iran': '>50K',\n",
            "                                                                                  ' Italy': '>50K',\n",
            "                                                                                  ' South': '<=50K',\n",
            "                                                                                  ' United-States': {'workclass': {' Local-gov': {'race': {' Black': '>50K',\n",
            "                                                                                                                                           ' White': {'education': {' Bachelors': {'marital-status': {' Married-civ-spouse': {'sex': {' Female': '>50K'}}}},\n",
            "                                                                                                                                                                    ' Masters': {'marital-status': {' Married-civ-spouse': {'sex': {' Female': '>50K'}}}}}}}},\n",
            "                                                                                                                   ' Private': {'education': {' Assoc-acdm': '>50K',\n",
            "                                                                                                                                              ' Assoc-voc': {'marital-status': {' Married-civ-spouse': {'race': {' White': {'sex': {' Female': '<=50K'}}}}}},\n",
            "                                                                                                                                              ' Bachelors': {'race': {' Black': '>50K',\n",
            "                                                                                                                                                                      ' White': {'marital-status': {' Married-civ-spouse': {'sex': {' Female': '>50K'}}}}}},\n",
            "                                                                                                                                              ' Doctorate': '<=50K',\n",
            "                                                                                                                                              ' HS-grad': '<=50K',\n",
            "                                                                                                                                              ' Masters': {'marital-status': {' Married-civ-spouse': {'race': {' White': {'sex': {' Female': '>50K'}}}}}},\n",
            "                                                                                                                                              ' Prof-school': '>50K',\n",
            "                                                                                                                                              ' Some-college': {'marital-status': {' Married-civ-spouse': {'race': {' White': {'sex': {' Female': '>50K'}}}}}}}},\n",
            "                                                                                                                   ' Self-emp-inc': '>50K',\n",
            "                                                                                                                   ' Self-emp-not-inc': {'education': {' Assoc-acdm': '>50K',\n",
            "                                                                                                                                                       ' Bachelors': '>50K',\n",
            "                                                                                                                                                       ' HS-grad': '>50K',\n",
            "                                                                                                                                                       ' Prof-school': '<=50K',\n",
            "                                                                                                                                                       ' Some-college': '>50K'}},\n",
            "                                                                                                                   ' State-gov': '>50K'}}}},\n",
            "                                           ' Protective-serv': '<=50K',\n",
            "                                           ' Sales': {'education': {' Assoc-acdm': '>50K',\n",
            "                                                                    ' Assoc-voc': '>50K',\n",
            "                                                                    ' Bachelors': {'native-country': {' Puerto-Rico': '<=50K',\n",
            "                                                                                                      ' South': '<=50K',\n",
            "                                                                                                      ' United-States': {'workclass': {' Private': {'marital-status': {' Married-civ-spouse': {'race': {' White': {'sex': {' Female': '>50K'}}}}}},\n",
            "                                                                                                                                       ' Self-emp-inc': '>50K'}}}},\n",
            "                                                                    ' HS-grad': {'workclass': {' Federal-gov': '<=50K',\n",
            "                                                                                               ' Private': {'native-country': {' Greece': '<=50K',\n",
            "                                                                                                                               ' United-States': {'marital-status': {' Married-civ-spouse': {'race': {' White': {'sex': {' Female': '<=50K'}}}}}}}},\n",
            "                                                                                               ' Self-emp-inc': {'marital-status': {' Married-civ-spouse': {'race': {' White': {'sex': {' Female': {'native-country': {' United-States': '<=50K'}}}}}}}},\n",
            "                                                                                               ' Self-emp-not-inc': {'race': {' Black': '>50K',\n",
            "                                                                                                                              ' White': {'marital-status': {' Married-civ-spouse': {'sex': {' Female': {'native-country': {' United-States': '>50K'}}}}}}}}}},\n",
            "                                                                    ' Masters': {'workclass': {' Private': {'marital-status': {' Married-civ-spouse': {'race': {' White': {'sex': {' Female': {'native-country': {' United-States': '<=50K'}}}}}}}}}},\n",
            "                                                                    ' Prof-school': '>50K',\n",
            "                                                                    ' Some-college': {'workclass': {' Private': {'race': {' Black': '<=50K',\n",
            "                                                                                                                          ' White': {'native-country': {' Germany': '<=50K',\n",
            "                                                                                                                                                        ' United-States': {'marital-status': {' Married-civ-spouse': {'sex': {' Female': '<=50K'}}}}}}}},\n",
            "                                                                                                    ' Self-emp-inc': '<=50K',\n",
            "                                                                                                    ' Self-emp-not-inc': '<=50K'}}}},\n",
            "                                           ' Tech-support': {'education': {' 9th': '<=50K',\n",
            "                                                                           ' Assoc-voc': '>50K',\n",
            "                                                                           ' Bachelors': '>50K',\n",
            "                                                                           ' HS-grad': {'workclass': {' Private': {'marital-status': {' Married-civ-spouse': {'race': {' White': {'sex': {' Female': {'native-country': {' United-States': '<=50K'}}}}}}}}}},\n",
            "                                                                           ' Some-college': {'race': {' Black': '<=50K',\n",
            "                                                                                                      ' White': '>50K'}}}},\n",
            "                                           ' Transport-moving': {'education': {' 10th': '<=50K',\n",
            "                                                                               ' Assoc-acdm': '>50K',\n",
            "                                                                               ' Assoc-voc': '>50K',\n",
            "                                                                               ' HS-grad': '<=50K',\n",
            "                                                                               ' Some-college': {'workclass': {' Local-gov': '<=50K',\n",
            "                                                                                                               ' Self-emp-inc': '>50K'}}}}}}}}\n",
            "The prediction accuracy is:  41.260000000000005 %\n"
          ],
          "name": "stdout"
        }
      ]
    },
    {
      "cell_type": "code",
      "metadata": {
        "id": "lFkLm6SPvKW5"
      },
      "source": [
        "tree.dept"
      ],
      "execution_count": null,
      "outputs": []
    },
    {
      "cell_type": "code",
      "metadata": {
        "id": "FW_lU5N9LlIA"
      },
      "source": [
        "from sklearn.tree import DecisionTreeClassifier\n",
        "import numpy as np\n",
        "import matplotlib.pyplot as plt\n",
        "import pandas as pd\n",
        "from sklearn.model_selection import train_test_split"
      ],
      "execution_count": 3,
      "outputs": []
    },
    {
      "cell_type": "code",
      "metadata": {
        "id": "2LIr2I1SMDeJ"
      },
      "source": [
        "data = pd.read_csv('train.csv')\n",
        "X,y = data[[ 'workclass',  'education', 'marital-status', 'occupation','relationship',  'race','sex','native-country']],data['target']\n",
        "X,y = X.fillna(0),y.fillna(0)\n",
        "X = pd.get_dummies(X)    # random_state=1\n",
        "X_train, X_validate, y_train, y_validate = train_test_split(X, y, test_size=0.25,shuffle = True)\n"
      ],
      "execution_count": null,
      "outputs": []
    },
    {
      "cell_type": "code",
      "metadata": {
        "colab": {
          "base_uri": "https://localhost:8080/"
        },
        "id": "L7HECzB4NmeQ",
        "outputId": "96a3575b-2456-4265-920e-a356566bfb95"
      },
      "source": [
        "model = DecisionTreeClassifier(random_state=1).fit(X_train,y_train)\n",
        "y_predicted = model.predict(X_validate)\n",
        "print('Training accuracy: ',model.score(X_train,y_train))\n",
        "print('validation Accuracy: ',model.score(X_validate,y_validate))"
      ],
      "execution_count": null,
      "outputs": [
        {
          "output_type": "stream",
          "text": [
            "Training accuracy:  0.8792\n",
            "validation Accuracy:  0.8048\n"
          ],
          "name": "stdout"
        }
      ]
    },
    {
      "cell_type": "code",
      "metadata": {
        "id": "x9b2N4f_OIiG"
      },
      "source": [
        "path=DecisionTreeClassifier(random_state=1).\\\n",
        "cost_complexity_pruning_path(X_train, y_train)\n",
        "ccp_alphas, impurities = path.ccp_alphas, path.impurities"
      ],
      "execution_count": null,
      "outputs": []
    },
    {
      "cell_type": "code",
      "metadata": {
        "colab": {
          "base_uri": "https://localhost:8080/",
          "height": 312
        },
        "id": "dxyCRHUpOMyB",
        "outputId": "bf068bc4-cc55-4b35-bff3-b18783391b9b"
      },
      "source": [
        "fig, ax = plt.subplots()\n",
        "ax.plot(ccp_alphas[:-1], impurities[:-1], marker='o', drawstyle=\"steps-post\")\n",
        "ax.set_xlabel(\"effective alpha\")\n",
        "ax.set_ylabel(\"total impurity of leaves\")\n",
        "ax.set_title(\"Total Impurity vs effective alpha for training set\")"
      ],
      "execution_count": null,
      "outputs": [
        {
          "output_type": "execute_result",
          "data": {
            "text/plain": [
              "Text(0.5, 1.0, 'Total Impurity vs effective alpha for training set')"
            ]
          },
          "metadata": {
            "tags": []
          },
          "execution_count": 43
        },
        {
          "output_type": "display_data",
          "data": {
            "image/png": "[encoded data removed]",
            "text/plain": [
              "<Figure size 432x288 with 1 Axes>"
            ]
          },
          "metadata": {
            "tags": []
          }
        }
      ]
    },
    {
      "cell_type": "code",
      "metadata": {
        "id": "QdHgN7heOVpz"
      },
      "source": [
        "clfs = []\n",
        "for ccp_alpha in ccp_alphas:\n",
        "  if(ccp_alpha >= 0):\n",
        "    clf = DecisionTreeClassifier(random_state=1,ccp_alpha=ccp_alpha)\n",
        "    clf.fit(X_train, y_train)\n",
        "    clfs.append(clf)"
      ],
      "execution_count": null,
      "outputs": []
    },
    {
      "cell_type": "code",
      "metadata": {
        "colab": {
          "base_uri": "https://localhost:8080/"
        },
        "id": "4GyKOPeOREFN",
        "outputId": "9a8bc626-d7c8-4542-ce48-9b5e3814de14"
      },
      "source": [
        "print(\"Number of nodes in the last tree is: {} with ccp_alpha: {} and a depth of: {}\".format(\n",
        "clfs[-1].tree_.node_count, ccp_alphas[-1],clfs[-1].tree_.max_depth))"
      ],
      "execution_count": null,
      "outputs": [
        {
          "output_type": "stream",
          "text": [
            "Number of nodes in the last tree is: 1 with ccp_alpha: 0.06853632170584523 and a depth of: 0\n"
          ],
          "name": "stdout"
        }
      ]
    },
    {
      "cell_type": "code",
      "metadata": {
        "colab": {
          "base_uri": "https://localhost:8080/",
          "height": 297
        },
        "id": "pPZDK0-bROba",
        "outputId": "05636333-639a-4a5f-e364-cf3b8959352e"
      },
      "source": [
        "clfs = clfs[:-1]\n",
        "ccp_alphas = ccp_alphas[:-1]\n",
        "node_counts = [clf.tree_.node_count for clf in clfs]\n",
        "depth = [clf.tree_.max_depth for clf in clfs]\n",
        "fig, ax = plt.subplots(2, 1)\n",
        "ax[0].plot(ccp_alphas[:-1], node_counts, marker='o', drawstyle=\"steps-post\")\n",
        "ax[0].set_xlabel(\"alpha\")\n",
        "ax[0].set_ylabel(\"number of nodes\")\n",
        "ax[0].set_title(\"Number of nodes vs alpha\")\n",
        "ax[1].plot(ccp_alphas[:-1], depth, marker='o', drawstyle=\"steps-post\")\n",
        "ax[1].set_xlabel(\"alpha\")\n",
        "ax[1].set_ylabel(\"depth of tree\")\n",
        "ax[1].set_title(\"Depth vs alpha\")\n",
        "fig.tight_layout()"
      ],
      "execution_count": null,
      "outputs": [
        {
          "output_type": "display_data",
          "data": {
            "image/png": "[encoded data removed]",
            "text/plain": [
              "<Figure size 432x288 with 2 Axes>"
            ]
          },
          "metadata": {
            "tags": []
          }
        }
      ]
    },
    {
      "cell_type": "code",
      "metadata": {
        "colab": {
          "base_uri": "https://localhost:8080/",
          "height": 295
        },
        "id": "tcbAh9JSSByB",
        "outputId": "41a57fb4-2d03-4db7-861e-25623b7ad503"
      },
      "source": [
        "train_scores = [clf.score(X_train, y_train) for clf in clfs]\n",
        "validate_scores = [clf.score(X_validate, y_validate) for clf in clfs]\n",
        "fig, ax = plt.subplots()\n",
        "ax.set_xlabel(\"alpha\")\n",
        "ax.set_ylabel(\"accuracy\")\n",
        "ax.set_title(\"Accuracy vs alpha for training and validateing sets\")\n",
        "ax.plot(ccp_alphas[:-1], train_scores, marker='o', label=\"train\",\n",
        "        drawstyle=\"steps-post\")\n",
        "ax.plot(ccp_alphas[:-1], validate_scores, marker='o', label=\"validate\",\n",
        "        drawstyle=\"steps-post\")\n",
        "ax.legend()\n",
        "plt.show()"
      ],
      "execution_count": null,
      "outputs": [
        {
          "output_type": "display_data",
          "data": {
            "image/png": "[encoded data removed]",
            "text/plain": [
              "<Figure size 432x288 with 1 Axes>"
            ]
          },
          "metadata": {
            "tags": []
          }
        }
      ]
    },
    {
      "cell_type": "code",
      "metadata": {
        "colab": {
          "base_uri": "https://localhost:8080/"
        },
        "id": "WaCeivmISiU0",
        "outputId": "e5186d01-485f-4820-b409-c359eb1d37fe"
      },
      "source": [
        "index_best_model = np.argmax(validate_scores)\n",
        "best_model = clfs[index_best_model]\n",
        "print('Training accuracy of best model: ',best_model.score(X_train, y_train))\n",
        "print('validate accuracy of best model: ',best_model.score(X_validate, y_validate))"
      ],
      "execution_count": null,
      "outputs": [
        {
          "output_type": "stream",
          "text": [
            "Training accuracy of best model:  0.8273333333333334\n",
            "validate accuracy of best model:  0.8208\n"
          ],
          "name": "stdout"
        }
      ]
    },
    {
      "cell_type": "markdown",
      "metadata": {
        "id": "T7dXAJqmhrTe"
      },
      "source": [
        "**2-b :**"
      ]
    },
    {
      "cell_type": "code",
      "metadata": {
        "id": "F3HH5kWEhzuZ"
      },
      "source": [
        "import pandas\n",
        "from sklearn.model_selection import KFold\n",
        "from sklearn.preprocessing import MinMaxScaler\n",
        "from sklearn.svm import SVR\n",
        "import numpy as np"
      ],
      "execution_count": 4,
      "outputs": []
    },
    {
      "cell_type": "code",
      "metadata": {
        "id": "sSwFJWlih5ep"
      },
      "source": [
        "data = pandas.read_csv('train.csv')\n",
        "test = pandas.read_csv('adult.test.10k.csv')\n",
        "X_tst,y_tst = test[[ 'workclass',  'education', 'marital-status', 'occupation','relationship',  'race','sex','native-country']],test['target']\n",
        "X,y = data[[ 'workclass',  'education', 'marital-status', 'occupation','relationship',  'race','sex','native-country']],data['target']\n",
        "X,y = X.fillna(0),y.fillna(0)\n",
        "X_tst,y_tst = X_tst.fillna(0),y_tst.fillna(0)\n",
        "X = pandas.get_dummies(X)  \n",
        "y = pandas.get_dummies(y)\n",
        "X_tst = pandas.get_dummies(X_tst)  \n",
        "y_tst = pandas.get_dummies(y_tst)\n",
        "\n",
        "scaler = MinMaxScaler(feature_range=(0, 1))\n",
        "X = scaler.fit_transform(X)\n",
        "X_tst = scaler.fit_transform(X_tst)"
      ],
      "execution_count": null,
      "outputs": []
    },
    {
      "cell_type": "code",
      "metadata": {
        "id": "zo1ImvP7jscT"
      },
      "source": [
        "scores = []\n",
        "best_svr = SVR(kernel='rbf')\n",
        "cv = KFold(n_splits=4, shuffle=False)\n",
        "\n",
        "best_svr.fit(X,y[\">50K\"])\n",
        "scores.append(best_svr.score(X_test, y_test[\">50K\"]))"
      ],
      "execution_count": null,
      "outputs": []
    },
    {
      "cell_type": "code",
      "metadata": {
        "id": "7WI-dJJtNtyQ"
      },
      "source": [
        "y_test.head"
      ],
      "execution_count": null,
      "outputs": []
    },
    {
      "cell_type": "code",
      "metadata": {
        "colab": {
          "base_uri": "https://localhost:8080/"
        },
        "id": "Gc2dY7oyt8qu",
        "outputId": "14ac6469-c076-40fc-8c7c-79f9e0342216"
      },
      "source": [
        "print(np.mean(scores))"
      ],
      "execution_count": null,
      "outputs": [
        {
          "output_type": "stream",
          "text": [
            "0.35634352186916785\n"
          ],
          "name": "stdout"
        }
      ]
    },
    {
      "cell_type": "code",
      "metadata": {
        "id": "iSiUhis6u9FC"
      },
      "source": [
        "data = pd.read_csv('train.csv')\n",
        "X,y = data[[ 'workclass',  'education', 'marital-status', 'occupation','relationship',  'race','sex','native-country']],data['target']\n",
        "X,y = X.fillna(0),y.fillna(0)\n",
        "X = pd.get_dummies(X)    # random_state=1\n",
        "X_train, X_validate, y_train, y_validate = train_test_split(X, y, test_size=0.25,shuffle = False)\n"
      ],
      "execution_count": null,
      "outputs": []
    },
    {
      "cell_type": "code",
      "metadata": {
        "id": "f1DaTSU2xH8v"
      },
      "source": [
        "y_validate.head"
      ],
      "execution_count": null,
      "outputs": []
    },
    {
      "cell_type": "code",
      "metadata": {
        "colab": {
          "base_uri": "https://localhost:8080/"
        },
        "id": "w4VCTRzfvDTb",
        "outputId": "be51bfb9-527d-4dfa-d94c-2483dee2b7a2"
      },
      "source": [
        "model = DecisionTreeClassifier(random_state=1).fit(X_train,y_train)\n",
        "y_predicted = model.predict(X_validate)\n",
        "print('Training accuracy: ',model.score(X_train,y_train))\n",
        "print('validation Accuracy: ',model.score(X_validate,y_validate))"
      ],
      "execution_count": null,
      "outputs": [
        {
          "output_type": "stream",
          "text": [
            "Training accuracy:  0.8778666666666667\n",
            "validation Accuracy:  0.8076\n"
          ],
          "name": "stdout"
        }
      ]
    },
    {
      "cell_type": "code",
      "metadata": {
        "colab": {
          "base_uri": "https://localhost:8080/",
          "height": 312
        },
        "id": "h4Na6VHrvWh3",
        "outputId": "dbd490d8-af00-4236-ae6f-9e4750edfae1"
      },
      "source": [
        "path=DecisionTreeClassifier(random_state=1).\\\n",
        "cost_complexity_pruning_path(X_train, y_train)\n",
        "ccp_alphas, impurities = path.ccp_alphas, path.impurities\n",
        "fig, ax = plt.subplots()\n",
        "ax.plot(ccp_alphas[:-1], impurities[:-1], marker='o', drawstyle=\"steps-post\")\n",
        "ax.set_xlabel(\"effective alpha\")\n",
        "ax.set_ylabel(\"total impurity of leaves\")\n",
        "ax.set_title(\"Total Impurity vs effective alpha for training set\")"
      ],
      "execution_count": null,
      "outputs": [
        {
          "output_type": "execute_result",
          "data": {
            "text/plain": [
              "Text(0.5, 1.0, 'Total Impurity vs effective alpha for training set')"
            ]
          },
          "metadata": {
            "tags": []
          },
          "execution_count": 37
        },
        {
          "output_type": "display_data",
          "data": {
            "image/png": "[encoded data removed]",
            "text/plain": [
              "<Figure size 432x288 with 1 Axes>"
            ]
          },
          "metadata": {
            "tags": []
          }
        }
      ]
    },
    {
      "cell_type": "code",
      "metadata": {
        "id": "omOrLMkTvcIO"
      },
      "source": [
        "clfs = []\n",
        "for ccp_alpha in ccp_alphas:\n",
        "  if(ccp_alpha >= 0):\n",
        "    clf = DecisionTreeClassifier(random_state=1,ccp_alpha=ccp_alpha)\n",
        "    clf.fit(X_train, y_train)\n",
        "    clfs.append(clf)"
      ],
      "execution_count": null,
      "outputs": []
    },
    {
      "cell_type": "code",
      "metadata": {
        "colab": {
          "base_uri": "https://localhost:8080/"
        },
        "id": "a4fsxJYAvhOE",
        "outputId": "78a08f98-956b-4955-c458-957e8779d87d"
      },
      "source": [
        "print(\"Number of nodes in the last tree is: {} with ccp_alpha: {} and a depth of: {}\".format(\n",
        "clfs[-1].tree_.node_count, ccp_alphas[-1],clfs[-1].tree_.max_depth))"
      ],
      "execution_count": null,
      "outputs": [
        {
          "output_type": "stream",
          "text": [
            "Number of nodes in the last tree is: 1 with ccp_alpha: 0.07509603495255068 and a depth of: 0\n"
          ],
          "name": "stdout"
        }
      ]
    },
    {
      "cell_type": "code",
      "metadata": {
        "colab": {
          "base_uri": "https://localhost:8080/",
          "height": 297
        },
        "id": "FUZNaEutvyGg",
        "outputId": "06080ff1-2b12-4876-aacb-6edc2b6f0c35"
      },
      "source": [
        "clfs = clfs[:-1]\n",
        "ccp_alphas = ccp_alphas[:-1]\n",
        "node_counts = [clf.tree_.node_count for clf in clfs]\n",
        "depth = [clf.tree_.max_depth for clf in clfs]\n",
        "fig, ax = plt.subplots(2, 1)\n",
        "ax[0].plot(ccp_alphas, node_counts, marker='o', drawstyle=\"steps-post\")\n",
        "ax[0].set_xlabel(\"alpha\")\n",
        "ax[0].set_ylabel(\"number of nodes\")\n",
        "ax[0].set_title(\"Number of nodes vs alpha\")\n",
        "ax[1].plot(ccp_alphas, depth, marker='o', drawstyle=\"steps-post\")\n",
        "ax[1].set_xlabel(\"alpha\")\n",
        "ax[1].set_ylabel(\"depth of tree\")\n",
        "ax[1].set_title(\"Depth vs alpha\")\n",
        "fig.tight_layout()"
      ],
      "execution_count": null,
      "outputs": [
        {
          "output_type": "display_data",
          "data": {
            "image/png": "[encoded data removed]",
            "text/plain": [
              "<Figure size 432x288 with 2 Axes>"
            ]
          },
          "metadata": {
            "tags": []
          }
        }
      ]
    },
    {
      "cell_type": "code",
      "metadata": {
        "colab": {
          "base_uri": "https://localhost:8080/",
          "height": 295
        },
        "id": "4ZzAr6Gov20H",
        "outputId": "131f4e52-4822-4794-ecf6-ce71e3ac3d4d"
      },
      "source": [
        "train_scores = [clf.score(X_train, y_train) for clf in clfs]\n",
        "validate_scores = [clf.score(X_validate, y_validate) for clf in clfs]\n",
        "fig, ax = plt.subplots()\n",
        "ax.set_xlabel(\"alpha\")\n",
        "ax.set_ylabel(\"accuracy\")\n",
        "ax.set_title(\"Accuracy vs alpha for training and validateing sets\")\n",
        "ax.plot(ccp_alphas, train_scores, marker='o', label=\"train\",\n",
        "        drawstyle=\"steps-post\")\n",
        "ax.plot(ccp_alphas, validate_scores, marker='o', label=\"validate\",\n",
        "        drawstyle=\"steps-post\")\n",
        "ax.legend()\n",
        "plt.show()"
      ],
      "execution_count": null,
      "outputs": [
        {
          "output_type": "display_data",
          "data": {
            "image/png": "[encoded data removed]",
            "text/plain": [
              "<Figure size 432x288 with 1 Axes>"
            ]
          },
          "metadata": {
            "tags": []
          }
        }
      ]
    },
    {
      "cell_type": "code",
      "metadata": {
        "colab": {
          "base_uri": "https://localhost:8080/"
        },
        "id": "jFDAeGjfv7u9",
        "outputId": "ab4a4e6e-4336-4561-80e2-23ae08aa126b"
      },
      "source": [
        "index_best_model = np.argmax(validate_scores)\n",
        "best_model = clfs[index_best_model]\n",
        "print('Training accuracy of best model: ',best_model.score(X_train, y_train))\n",
        "print('validate accuracy of best model: ',best_model.score(X_validate, y_validate))"
      ],
      "execution_count": null,
      "outputs": [
        {
          "output_type": "stream",
          "text": [
            "Training accuracy of best model:  0.8226666666666667\n",
            "validate accuracy of best model:  0.8244\n"
          ],
          "name": "stdout"
        }
      ]
    },
    {
      "cell_type": "markdown",
      "metadata": {
        "id": "aL0ShXT_PBcQ"
      },
      "source": [
        "2-b - 2"
      ]
    },
    {
      "cell_type": "code",
      "metadata": {
        "id": "RKsepcR5PF9I"
      },
      "source": [
        "ds = pd.read_csv('train.csv')\n",
        "#ds = ds.sample(frac=1).reset_index(drop=True)\n",
        "#a = pd.get_dummies(ds['target'], prefix = \"target\")\n",
        "\n",
        "#frames = [ds, a]\n",
        "#ds = pd.concat(frames, axis = 1)\n",
        "#ds = ds.drop(columns=['price_range'])\n",
        "y = np.array(ds['target'])\n",
        "y = y[:, np.newaxis]\n",
        "ds = ds.drop(columns=['target'])\n",
        "x = np.array(ds)\n",
        "X_test = x[2500:5000, :]\n",
        "Y_test = y[2500:5000, :]\n",
        "X_train =ds.drop(ds.index[2500:5000])# x[:2499, :] +  x[5001:, :]    #np.delete(x, range(2500,5000))\n",
        "Y_train = np.delete(y, range(2500,5000))\n",
        "\n",
        "#Y_train = y.drop(y.index[2499:])\n"
      ],
      "execution_count": 5,
      "outputs": []
    },
    {
      "cell_type": "code",
      "metadata": {
        "id": "f4UyUEhMnvKs"
      },
      "source": [
        "X_validate=pd.DataFrame(X_test)\n",
        "X_validate = pd.get_dummies(X_validate)  \n",
        "y_validate=pd.DataFrame(Y_test)\n",
        "y_validate = pd.get_dummies(y_validate)  \n",
        "X_train=pd.DataFrame(X_train)\n",
        "X_train = pd.get_dummies(X_train)  \n",
        "Y_train=pd.DataFrame(Y_train)\n",
        "Y_train = pd.get_dummies(Y_train)  \n",
        "X_validate,y_validate , X_train , Y_train = X_validate.fillna(0),y_validate.fillna(0),X_train.fillna(0) ,Y_train.fillna(0)"
      ],
      "execution_count": 6,
      "outputs": []
    },
    {
      "cell_type": "code",
      "metadata": {
        "id": "hW_CFa8D0lSE",
        "colab": {
          "base_uri": "https://localhost:8080/"
        },
        "outputId": "d4d6bb66-fb58-47ea-d4b7-78303060ab35"
      },
      "source": [
        "y_validate= y_validate.iloc[:, :-1]\n",
        "Y_train= Y_train.iloc[:, :-1]\n",
        "X_train= X_train.iloc[:, :-6]\n",
        "X_train.shape"
      ],
      "execution_count": 7,
      "outputs": [
        {
          "output_type": "execute_result",
          "data": {
            "text/plain": [
              "(7500, 91)"
            ]
          },
          "metadata": {
            "tags": []
          },
          "execution_count": 7
        }
      ]
    },
    {
      "cell_type": "code",
      "metadata": {
        "id": "lIzlKI1M1YJ9"
      },
      "source": [
        "y_validate.head"
      ],
      "execution_count": null,
      "outputs": []
    },
    {
      "cell_type": "code",
      "metadata": {
        "colab": {
          "base_uri": "https://localhost:8080/"
        },
        "id": "nduK9iZIlfpx",
        "outputId": "08cc67f8-5c95-4692-a816-a78d394c5ad2"
      },
      "source": [
        "print(X_validate.shape ,y_validate.shape ,X_train.shape ,Y_train.shape )"
      ],
      "execution_count": null,
      "outputs": [
        {
          "output_type": "stream",
          "text": [
            "(2500, 91) (2500, 1) (7500, 91) (7500, 1)\n"
          ],
          "name": "stdout"
        }
      ]
    },
    {
      "cell_type": "code",
      "metadata": {
        "id": "dAd2h40KwiNr"
      },
      "source": [
        "X_validate=np.argmax(X_validate, axis=1)\n",
        "y_validate=np.argmax(y_validate, axis=1)"
      ],
      "execution_count": null,
      "outputs": []
    },
    {
      "cell_type": "code",
      "metadata": {
        "id": "tJ4wQWY_mJi4",
        "colab": {
          "base_uri": "https://localhost:8080/",
          "height": 329
        },
        "outputId": "bfa92237-e2d5-4cae-f565-f2dd97640854"
      },
      "source": [
        "model = DecisionTreeClassifier(random_state=1).fit(X_train,Y_train)\n",
        "y_predicted = model.predict(X_validate)\n",
        "print('Training accuracy: ',model.score(X_train,Y_train))\n",
        "#print('validation Accuracy: ',model.score(X_validate,y_validate))\n",
        "\n",
        "path=DecisionTreeClassifier(random_state=1).\\\n",
        "cost_complexity_pruning_path(X_train, Y_train)\n",
        "ccp_alphas, impurities = path.ccp_alphas, path.impurities\n",
        "fig, ax = plt.subplots()\n",
        "ax.plot(ccp_alphas[:-1], impurities[:-1], marker='o', drawstyle=\"steps-post\")\n",
        "ax.set_xlabel(\"effective alpha\")\n",
        "ax.set_ylabel(\"total impurity of leaves\")\n",
        "ax.set_title(\"Total Impurity vs effective alpha for training set\")"
      ],
      "execution_count": 11,
      "outputs": [
        {
          "output_type": "stream",
          "text": [
            "Training accuracy:  0.8785333333333334\n"
          ],
          "name": "stdout"
        },
        {
          "output_type": "execute_result",
          "data": {
            "text/plain": [
              "Text(0.5, 1.0, 'Total Impurity vs effective alpha for training set')"
            ]
          },
          "metadata": {
            "tags": []
          },
          "execution_count": 11
        },
        {
          "output_type": "display_data",
          "data": {
            "image/png": "[encoded data removed]",
            "text/plain": [
              "<Figure size 432x288 with 1 Axes>"
            ]
          },
          "metadata": {
            "tags": [],
            "needs_background": "light"
          }
        }
      ]
    },
    {
      "cell_type": "code",
      "metadata": {
        "id": "K3IIkDwxmVR8",
        "colab": {
          "base_uri": "https://localhost:8080/"
        },
        "outputId": "988ad97e-474f-4781-9d96-5f226dbba26b"
      },
      "source": [
        "clfs = []\n",
        "for ccp_alpha in ccp_alphas:\n",
        "  if(ccp_alpha >= 0):\n",
        "    clf = DecisionTreeClassifier(random_state=1,ccp_alpha=ccp_alpha)\n",
        "    clf.fit(X_train, y_train)\n",
        "    clfs.append(clf)\n",
        "\n",
        "print(\"Number of nodes in the last tree is: {} with ccp_alpha: {} and a depth of: {}\".format(\n",
        "clfs[-1].tree_.node_count, ccp_alphas[-1],clfs[-1].tree_.max_depth))"
      ],
      "execution_count": null,
      "outputs": [
        {
          "output_type": "stream",
          "text": [
            "Number of nodes in the last tree is: 1 with ccp_alpha: 0.029589701369016785 and a depth of: 0\n"
          ],
          "name": "stdout"
        }
      ]
    },
    {
      "cell_type": "code",
      "metadata": {
        "id": "56EaBfslmfK5",
        "colab": {
          "base_uri": "https://localhost:8080/",
          "height": 297
        },
        "outputId": "0d155e0d-442e-4051-c806-833a73899922"
      },
      "source": [
        "clfs = clfs[:-1]\n",
        "ccp_alphas = ccp_alphas[:-1]\n",
        "node_counts = [clf.tree_.node_count for clf in clfs]\n",
        "depth = [clf.tree_.max_depth for clf in clfs]\n",
        "fig, ax = plt.subplots(2, 1)\n",
        "ax[0].plot(ccp_alphas, node_counts, marker='o', drawstyle=\"steps-post\")\n",
        "ax[0].set_xlabel(\"alpha\")\n",
        "ax[0].set_ylabel(\"number of nodes\")\n",
        "ax[0].set_title(\"Number of nodes vs alpha\")\n",
        "ax[1].plot(ccp_alphas, depth, marker='o', drawstyle=\"steps-post\")\n",
        "ax[1].set_xlabel(\"alpha\")\n",
        "ax[1].set_ylabel(\"depth of tree\")\n",
        "ax[1].set_title(\"Depth vs alpha\")\n",
        "fig.tight_layout()"
      ],
      "execution_count": null,
      "outputs": [
        {
          "output_type": "display_data",
          "data": {
            "image/png": "[encoded data removed]",
            "text/plain": [
              "<Figure size 432x288 with 2 Axes>"
            ]
          },
          "metadata": {
            "tags": [],
            "needs_background": "light"
          }
        }
      ]
    },
    {
      "cell_type": "code",
      "metadata": {
        "id": "0Zd5TT_SmjLv",
        "colab": {
          "base_uri": "https://localhost:8080/",
          "height": 312
        },
        "outputId": "687abc5d-ecf5-4538-887f-8d6221d58cbf"
      },
      "source": [
        "train_scores = [clf.score(X_train, y_train) for clf in clfs]\n",
        "#validate_scores = [clf.score(int(X_validate),int(y_validate)) for clf in clfs]\n",
        "fig, ax = plt.subplots()\n",
        "ax.set_xlabel(\"alpha\")\n",
        "ax.set_ylabel(\"accuracy\")\n",
        "ax.set_title(\"Accuracy vs alpha for training and validateing sets\")\n",
        "ax.plot(ccp_alphas[:-1], train_scores, marker='o', label=\"train\",\n",
        "        drawstyle=\"steps-post\")\n",
        "#ax.plot(ccp_alphas, validate_scores, marker='o', label=\"validate\",\n",
        " #       drawstyle=\"steps-post\")\n",
        "ax.legend()\n",
        "plt.show()\n",
        "\n",
        "index_best_model = np.argmax(validate_scores)\n",
        "best_model = clfs[index_best_model]\n",
        "print('Training accuracy of best model: ',best_model.score(X_train, y_train))\n",
        "#print('validate accuracy of best model: ',best_model.score(X_validate, y_validate))"
      ],
      "execution_count": null,
      "outputs": [
        {
          "output_type": "display_data",
          "data": {
            "image/png": "[encoded data removed]",
            "text/plain": [
              "<Figure size 432x288 with 1 Axes>"
            ]
          },
          "metadata": {
            "tags": [],
            "needs_background": "light"
          }
        },
        {
          "output_type": "stream",
          "text": [
            "Training accuracy of best model:  0.8278666666666666\n"
          ],
          "name": "stdout"
        }
      ]
    },
    {
      "cell_type": "markdown",
      "metadata": {
        "id": "AmkIy2oJ6ixI"
      },
      "source": [
        "2-b - 3"
      ]
    },
    {
      "cell_type": "code",
      "metadata": {
        "id": "nVPGWlPg6ibt"
      },
      "source": [
        "ds = pd.read_csv('train.csv')\n",
        "y = np.array(ds['target'])\n",
        "y = y[:, np.newaxis]\n",
        "ds = ds.drop(columns=['target'])\n",
        "x = np.array(ds)\n",
        "X_test = x[5000:7500, :]\n",
        "Y_test = y[5000:7500, :]\n",
        "X_train =ds.drop(ds.index[5000:7500])\n",
        "Y_train = np.delete(y, range(5000,7500))\n",
        "\n",
        "X_validate=pd.DataFrame(X_test)\n",
        "X_validate = pd.get_dummies(X_validate)  \n",
        "y_validate=pd.DataFrame(Y_test)\n",
        "y_validate = pd.get_dummies(y_validate)  \n",
        "X_train=pd.DataFrame(X_train)\n",
        "X_train = pd.get_dummies(X_train)  \n",
        "Y_train=pd.DataFrame(Y_train)\n",
        "Y_train = pd.get_dummies(Y_train)  "
      ],
      "execution_count": null,
      "outputs": []
    },
    {
      "cell_type": "code",
      "metadata": {
        "colab": {
          "base_uri": "https://localhost:8080/"
        },
        "id": "rFzVCOAf7FwS",
        "outputId": "621dc8ed-ce39-45ca-d7da-a18586ee66c6"
      },
      "source": [
        "y_validate= y_validate.iloc[:, :-1]\n",
        "Y_train= Y_train.iloc[:, :-1]\n",
        "X_train= X_train.iloc[:, :-6]\n",
        "X_train.shape"
      ],
      "execution_count": null,
      "outputs": [
        {
          "output_type": "execute_result",
          "data": {
            "text/plain": [
              "(7500, 91)"
            ]
          },
          "metadata": {
            "tags": []
          },
          "execution_count": 246
        }
      ]
    },
    {
      "cell_type": "code",
      "metadata": {
        "colab": {
          "base_uri": "https://localhost:8080/"
        },
        "id": "FNswq0M07Ksq",
        "outputId": "fc1eabac-fc96-41f9-8eec-d54450189e82"
      },
      "source": [
        "print(X_validate.shape ,y_validate.shape ,X_train.shape ,Y_train.shape )"
      ],
      "execution_count": null,
      "outputs": [
        {
          "output_type": "stream",
          "text": [
            "(2500, 91) (2500, 1) (7500, 91) (7500, 1)\n"
          ],
          "name": "stdout"
        }
      ]
    },
    {
      "cell_type": "code",
      "metadata": {
        "colab": {
          "base_uri": "https://localhost:8080/",
          "height": 329
        },
        "id": "7gsMFY-M7PrE",
        "outputId": "eac6162c-7514-4aed-e660-a8a74a8a988f"
      },
      "source": [
        "model = DecisionTreeClassifier(random_state=1).fit(X_train,y_train)\n",
        "y_predicted = model.predict(X_validate)\n",
        "print('Training accuracy: ',model.score(X_train,y_train))\n",
        "#print('validation Accuracy: ',model.score(X_validate,y_validate))\n",
        "\n",
        "path=DecisionTreeClassifier(random_state=1).\\\n",
        "cost_complexity_pruning_path(X_train, y_train)\n",
        "ccp_alphas, impurities = path.ccp_alphas, path.impurities\n",
        "fig, ax = plt.subplots()\n",
        "ax.plot(ccp_alphas[:-1], impurities[:-1], marker='o', drawstyle=\"steps-post\")\n",
        "ax.set_xlabel(\"effective alpha\")\n",
        "ax.set_ylabel(\"total impurity of leaves\")\n",
        "ax.set_title(\"Total Impurity vs effective alpha for training set\")"
      ],
      "execution_count": null,
      "outputs": [
        {
          "output_type": "stream",
          "text": [
            "Training accuracy:  0.8301333333333333\n"
          ],
          "name": "stdout"
        },
        {
          "output_type": "execute_result",
          "data": {
            "text/plain": [
              "Text(0.5, 1.0, 'Total Impurity vs effective alpha for training set')"
            ]
          },
          "metadata": {
            "tags": []
          },
          "execution_count": 248
        },
        {
          "output_type": "display_data",
          "data": {
            "image/png": "[encoded data removed]",
            "text/plain": [
              "<Figure size 432x288 with 1 Axes>"
            ]
          },
          "metadata": {
            "tags": [],
            "needs_background": "light"
          }
        }
      ]
    },
    {
      "cell_type": "code",
      "metadata": {
        "colab": {
          "base_uri": "https://localhost:8080/"
        },
        "id": "64hhGKXm7Trh",
        "outputId": "62743e2c-58f6-48d5-f9f7-5834849b1e0a"
      },
      "source": [
        "clfs = []\n",
        "for ccp_alpha in ccp_alphas:\n",
        "  if(ccp_alpha >= 0):\n",
        "    clf = DecisionTreeClassifier(random_state=1,ccp_alpha=ccp_alpha)\n",
        "    clf.fit(X_train, y_train)\n",
        "    clfs.append(clf)\n",
        "\n",
        "print(\"Number of nodes in the last tree is: {} with ccp_alpha: {} and a depth of: {}\".format(\n",
        "clfs[-1].tree_.node_count, ccp_alphas[-1],clfs[-1].tree_.max_depth))"
      ],
      "execution_count": null,
      "outputs": [
        {
          "output_type": "stream",
          "text": [
            "Number of nodes in the last tree is: 1 with ccp_alpha: 0.007315531766586558 and a depth of: 0\n"
          ],
          "name": "stdout"
        }
      ]
    },
    {
      "cell_type": "code",
      "metadata": {
        "colab": {
          "base_uri": "https://localhost:8080/",
          "height": 297
        },
        "id": "y6Hc5eGd7Xxd",
        "outputId": "5458b487-f7fe-4b62-f745-00b76cea52e4"
      },
      "source": [
        "clfs = clfs[:-1]\n",
        "ccp_alphas = ccp_alphas[:-1]\n",
        "node_counts = [clf.tree_.node_count for clf in clfs]\n",
        "depth = [clf.tree_.max_depth for clf in clfs]\n",
        "fig, ax = plt.subplots(2, 1)\n",
        "ax[0].plot(ccp_alphas, node_counts, marker='o', drawstyle=\"steps-post\")\n",
        "ax[0].set_xlabel(\"alpha\")\n",
        "ax[0].set_ylabel(\"number of nodes\")\n",
        "ax[0].set_title(\"Number of nodes vs alpha\")\n",
        "ax[1].plot(ccp_alphas, depth, marker='o', drawstyle=\"steps-post\")\n",
        "ax[1].set_xlabel(\"alpha\")\n",
        "ax[1].set_ylabel(\"depth of tree\")\n",
        "ax[1].set_title(\"Depth vs alpha\")\n",
        "fig.tight_layout()"
      ],
      "execution_count": null,
      "outputs": [
        {
          "output_type": "display_data",
          "data": {
            "image/png": "[encoded data removed]",
            "text/plain": [
              "<Figure size 432x288 with 2 Axes>"
            ]
          },
          "metadata": {
            "tags": [],
            "needs_background": "light"
          }
        }
      ]
    },
    {
      "cell_type": "code",
      "metadata": {
        "colab": {
          "base_uri": "https://localhost:8080/",
          "height": 312
        },
        "id": "2eZNQhpd7cdv",
        "outputId": "b4c1f2e9-9813-4932-b44f-16a961562813"
      },
      "source": [
        "train_scores = [clf.score(X_train, y_train) for clf in clfs]\n",
        "#validate_scores = [clf.score(int(X_validate),int(y_validate)) for clf in clfs]\n",
        "fig, ax = plt.subplots()\n",
        "ax.set_xlabel(\"alpha\")\n",
        "ax.set_ylabel(\"accuracy\")\n",
        "ax.set_title(\"Accuracy vs alpha for training and validateing sets\")\n",
        "ax.plot(ccp_alphas, train_scores, marker='o', label=\"train\",\n",
        "        drawstyle=\"steps-post\")\n",
        "#ax.plot(ccp_alphas, validate_scores, marker='o', label=\"validate\",\n",
        " #       drawstyle=\"steps-post\")\n",
        "ax.legend()\n",
        "plt.show()\n",
        "\n",
        "index_best_model = np.argmax(validate_scores)\n",
        "best_model = clfs[index_best_model]\n",
        "print('Training accuracy of best model: ',best_model.score(X_train, y_train))\n",
        "#print('validate accuracy of best model: ',best_model.score(X_validate, y_validate))"
      ],
      "execution_count": null,
      "outputs": [
        {
          "output_type": "display_data",
          "data": {
            "image/png": "[encoded data removed]",
            "text/plain": [
              "<Figure size 432x288 with 1 Axes>"
            ]
          },
          "metadata": {
            "tags": [],
            "needs_background": "light"
          }
        },
        {
          "output_type": "stream",
          "text": [
            "Training accuracy of best model:  0.826\n"
          ],
          "name": "stdout"
        }
      ]
    },
    {
      "cell_type": "markdown",
      "metadata": {
        "id": "1SehzlYi8MxM"
      },
      "source": [
        "2-b - 4"
      ]
    },
    {
      "cell_type": "code",
      "metadata": {
        "id": "AljbQeuf8KD9"
      },
      "source": [
        "ds = pd.read_csv('train.csv')\n",
        "y = np.array(ds['target'])\n",
        "y = y[:, np.newaxis]\n",
        "ds = ds.drop(columns=['target'])\n",
        "x = np.array(ds)\n",
        "X_test = x[7500:, :]\n",
        "Y_test = y[7500:, :]\n",
        "X_train =ds.drop(ds.index[7500:])\n",
        "Y_train = np.delete(y, range(7500,10000))\n",
        "\n",
        "X_validate=pd.DataFrame(X_test)\n",
        "X_validate = pd.get_dummies(X_validate)  \n",
        "y_validate=pd.DataFrame(Y_test)\n",
        "y_validate = pd.get_dummies(y_validate)  \n",
        "X_train=pd.DataFrame(X_train)\n",
        "X_train = pd.get_dummies(X_train)  \n",
        "Y_train=pd.DataFrame(Y_train)\n",
        "Y_train = pd.get_dummies(Y_train)  \n",
        "#_, X_test, _, y_test = train_test_split(X_test, y_test, test_size=1,shuffle = False)"
      ],
      "execution_count": null,
      "outputs": []
    },
    {
      "cell_type": "code",
      "metadata": {
        "colab": {
          "base_uri": "https://localhost:8080/"
        },
        "id": "l7ycBAsf8lJG",
        "outputId": "602f7d9a-d4b3-4cd3-b776-24608fafeead"
      },
      "source": [
        "y_validate= y_validate.iloc[:, :-1]\n",
        "Y_train= Y_train.iloc[:, :-1]\n",
        "X_train= X_train.iloc[:, :-5]\n",
        "X_train.shape"
      ],
      "execution_count": null,
      "outputs": [
        {
          "output_type": "execute_result",
          "data": {
            "text/plain": [
              "(7500, 91)"
            ]
          },
          "metadata": {
            "tags": []
          },
          "execution_count": 258
        }
      ]
    },
    {
      "cell_type": "code",
      "metadata": {
        "colab": {
          "base_uri": "https://localhost:8080/"
        },
        "id": "yBOwR6J88oSt",
        "outputId": "860c8f07-cd2f-418b-a2ed-cbe65f9224d9"
      },
      "source": [
        "print(X_validate.shape ,y_validate.shape ,X_train.shape ,Y_train.shape )"
      ],
      "execution_count": null,
      "outputs": [
        {
          "output_type": "stream",
          "text": [
            "(2500, 91) (2500, 1) (7500, 91) (7500, 1)\n"
          ],
          "name": "stdout"
        }
      ]
    },
    {
      "cell_type": "code",
      "metadata": {
        "colab": {
          "base_uri": "https://localhost:8080/",
          "height": 329
        },
        "id": "CYsRBOhY8rbl",
        "outputId": "7a0d4f4b-927e-42e3-bd82-a0bd3de16a73"
      },
      "source": [
        "model = DecisionTreeClassifier(random_state=1).fit(X_train,y_train)\n",
        "y_predicted = model.predict(X_validate)\n",
        "print('Training accuracy: ',model.score(X_train,y_train))\n",
        "#print('validation Accuracy: ',model.score(X_validate,y_validate))\n",
        "\n",
        "path=DecisionTreeClassifier(random_state=1).\\\n",
        "cost_complexity_pruning_path(X_train, y_train)\n",
        "ccp_alphas, impurities = path.ccp_alphas, path.impurities\n",
        "fig, ax = plt.subplots()\n",
        "ax.plot(ccp_alphas[:-1], impurities[:-1], marker='o', drawstyle=\"steps-post\")\n",
        "ax.set_xlabel(\"effective alpha\")\n",
        "ax.set_ylabel(\"total impurity of leaves\")\n",
        "ax.set_title(\"Total Impurity vs effective alpha for training set\")"
      ],
      "execution_count": null,
      "outputs": [
        {
          "output_type": "stream",
          "text": [
            "Training accuracy:  0.8352\n"
          ],
          "name": "stdout"
        },
        {
          "output_type": "execute_result",
          "data": {
            "text/plain": [
              "Text(0.5, 1.0, 'Total Impurity vs effective alpha for training set')"
            ]
          },
          "metadata": {
            "tags": []
          },
          "execution_count": 260
        },
        {
          "output_type": "display_data",
          "data": {
            "image/png": "[encoded data removed]",
            "text/plain": [
              "<Figure size 432x288 with 1 Axes>"
            ]
          },
          "metadata": {
            "tags": [],
            "needs_background": "light"
          }
        }
      ]
    },
    {
      "cell_type": "code",
      "metadata": {
        "colab": {
          "base_uri": "https://localhost:8080/"
        },
        "id": "IVXTWi_58vwa",
        "outputId": "792f8d58-c8d4-4f22-a3f1-e3ea9c953cce"
      },
      "source": [
        "clfs = []\n",
        "for ccp_alpha in ccp_alphas:\n",
        "  if(ccp_alpha >= 0):\n",
        "    clf = DecisionTreeClassifier(random_state=1,ccp_alpha=ccp_alpha)\n",
        "    clf.fit(X_train, y_train)\n",
        "    clfs.append(clf)\n",
        "\n",
        "print(\"Number of nodes in the last tree is: {} with ccp_alpha: {} and a depth of: {}\".format(\n",
        "clfs[-1].tree_.node_count, ccp_alphas[-1],clfs[-1].tree_.max_depth))"
      ],
      "execution_count": null,
      "outputs": [
        {
          "output_type": "stream",
          "text": [
            "Number of nodes in the last tree is: 1 with ccp_alpha: 0.00038909173691786814 and a depth of: 0\n"
          ],
          "name": "stdout"
        }
      ]
    },
    {
      "cell_type": "code",
      "metadata": {
        "colab": {
          "base_uri": "https://localhost:8080/",
          "height": 297
        },
        "id": "PPRiwU-88zzp",
        "outputId": "e513675f-e3a6-421e-d498-179e3f226779"
      },
      "source": [
        "clfs = clfs[:-1]\n",
        "ccp_alphas = ccp_alphas[:-1]\n",
        "node_counts = [clf.tree_.node_count for clf in clfs]\n",
        "depth = [clf.tree_.max_depth for clf in clfs]\n",
        "fig, ax = plt.subplots(2, 1)\n",
        "ax[0].plot(ccp_alphas[:-1], node_counts, marker='o', drawstyle=\"steps-post\")\n",
        "ax[0].set_xlabel(\"alpha\")\n",
        "ax[0].set_ylabel(\"number of nodes\")\n",
        "ax[0].set_title(\"Number of nodes vs alpha\")\n",
        "ax[1].plot(ccp_alphas[:-1], depth, marker='o', drawstyle=\"steps-post\")\n",
        "ax[1].set_xlabel(\"alpha\")\n",
        "ax[1].set_ylabel(\"depth of tree\")\n",
        "ax[1].set_title(\"Depth vs alpha\")\n",
        "fig.tight_layout()"
      ],
      "execution_count": null,
      "outputs": [
        {
          "output_type": "display_data",
          "data": {
            "image/png": "[encoded data removed]",
            "text/plain": [
              "<Figure size 432x288 with 2 Axes>"
            ]
          },
          "metadata": {
            "tags": [],
            "needs_background": "light"
          }
        }
      ]
    },
    {
      "cell_type": "code",
      "metadata": {
        "colab": {
          "base_uri": "https://localhost:8080/",
          "height": 312
        },
        "id": "n8E2Mhyj84NB",
        "outputId": "354df4be-52d3-4b16-c7ab-7367de54e9bf"
      },
      "source": [
        "train_scores = [clf.score(X_train, y_train) for clf in clfs]\n",
        "#validate_scores = [clf.score(int(X_validate),int(y_validate)) for clf in clfs]\n",
        "fig, ax = plt.subplots()\n",
        "ax.set_xlabel(\"alpha\")\n",
        "ax.set_ylabel(\"accuracy\")\n",
        "ax.set_title(\"Accuracy vs alpha for training and validateing sets\")\n",
        "ax.plot(ccp_alphas[:-1], train_scores, marker='o', label=\"train\",\n",
        "        drawstyle=\"steps-post\")\n",
        "#ax.plot(ccp_alphas, validate_scores, marker='o', label=\"validate\",\n",
        " #       drawstyle=\"steps-post\")\n",
        "ax.legend()\n",
        "plt.show()\n",
        "\n",
        "index_best_model = np.argmax(validate_scores)\n",
        "best_model = clfs[index_best_model]\n",
        "print('Training accuracy of best model: ',best_model.score(X_train, y_train))\n",
        "#print('validate accuracy of best model: ',best_model.score(X_validate, y_validate))"
      ],
      "execution_count": null,
      "outputs": [
        {
          "output_type": "display_data",
          "data": {
            "image/png": "[encoded data removed]",
            "text/plain": [
              "<Figure size 432x288 with 1 Axes>"
            ]
          },
          "metadata": {
            "tags": [],
            "needs_background": "light"
          }
        },
        {
          "output_type": "stream",
          "text": [
            "Training accuracy of best model:  0.8308\n"
          ],
          "name": "stdout"
        }
      ]
    },
    {
      "cell_type": "markdown",
      "metadata": {
        "id": "6wtpl3DZ_spI"
      },
      "source": [
        "**2-c**"
      ]
    },
    {
      "cell_type": "code",
      "metadata": {
        "id": "k6DsgzyM_ru5"
      },
      "source": [
        "data = pd.read_csv('train.csv')\n",
        "test = pd.read_csv('adult.test.10k.csv')\n",
        "test = test.sample(frac=0.25)\n",
        "X,y = data[[ 'workclass',  'education', 'marital-status', 'occupation','relationship',  'race','sex','native-country']],data['target']\n",
        "X_test,y_test = test[[ 'workclass',  'education', 'marital-status', 'occupation','relationship',  'race','sex','native-country']],test['target']\n",
        "X,y = X.fillna(0),y.fillna(0)\n",
        "X = pd.get_dummies(X)    \n",
        "_, X_test, _, y_test = train_test_split(X_test, y_test, test_size=0.25,shuffle = True)\n"
      ],
      "execution_count": null,
      "outputs": []
    },
    {
      "cell_type": "code",
      "metadata": {
        "id": "anHYNiIDAYPE"
      },
      "source": [
        "y_test.head"
      ],
      "execution_count": null,
      "outputs": []
    },
    {
      "cell_type": "code",
      "metadata": {
        "colab": {
          "base_uri": "https://localhost:8080/"
        },
        "id": "t0mAfF8oBxLn",
        "outputId": "d5448705-36f4-4f8d-f4e9-b2b907c94c0a"
      },
      "source": [
        "model = DecisionTreeClassifier(random_state=1).fit(X_train,y_train)\n",
        "y_predicted = model.predict(X_validate)\n",
        "print('Training accuracy: ',model.score(X_train,y_train))\n",
        "print('validation Accuracy: ',model.score(X_validate,y_validate))"
      ],
      "execution_count": null,
      "outputs": [
        {
          "output_type": "stream",
          "text": [
            "Training accuracy:  0.8765333333333334\n",
            "validation Accuracy:  0.8164\n"
          ],
          "name": "stdout"
        }
      ]
    },
    {
      "cell_type": "code",
      "metadata": {
        "colab": {
          "base_uri": "https://localhost:8080/",
          "height": 312
        },
        "id": "KQwctKk6B1aH",
        "outputId": "73bdac41-776b-4fea-f0c4-813e4dc86d3b"
      },
      "source": [
        "path=DecisionTreeClassifier(random_state=1).\\\n",
        "cost_complexity_pruning_path(X_train, y_train)\n",
        "ccp_alphas, impurities = path.ccp_alphas, path.impurities\n",
        "fig, ax = plt.subplots()\n",
        "ax.plot(ccp_alphas[:-1], impurities[:-1], marker='o', drawstyle=\"steps-post\")\n",
        "ax.set_xlabel(\"effective alpha\")\n",
        "ax.set_ylabel(\"total impurity of leaves\")\n",
        "ax.set_title(\"Total Impurity vs effective alpha for training set\")"
      ],
      "execution_count": null,
      "outputs": [
        {
          "output_type": "execute_result",
          "data": {
            "text/plain": [
              "Text(0.5, 1.0, 'Total Impurity vs effective alpha for training set')"
            ]
          },
          "metadata": {
            "tags": []
          },
          "execution_count": 280
        },
        {
          "output_type": "display_data",
          "data": {
            "image/png": "[encoded data removed]",
            "text/plain": [
              "<Figure size 432x288 with 1 Axes>"
            ]
          },
          "metadata": {
            "tags": [],
            "needs_background": "light"
          }
        }
      ]
    },
    {
      "cell_type": "code",
      "metadata": {
        "colab": {
          "base_uri": "https://localhost:8080/"
        },
        "id": "qIpJYm8wB4x_",
        "outputId": "fa070821-2129-4335-c0e1-a27e66d90aea"
      },
      "source": [
        "clfs = []\n",
        "for ccp_alpha in ccp_alphas:\n",
        "  if(ccp_alpha >= 0):\n",
        "    clf = DecisionTreeClassifier(random_state=1,ccp_alpha=ccp_alpha)\n",
        "    clf.fit(X_train, y_train)\n",
        "    clfs.append(clf)\n",
        "\n",
        "print(\"Number of nodes in the last tree is: {} with ccp_alpha: {} and a depth of: {}\".format(\n",
        "clfs[-1].tree_.node_count, ccp_alphas[-1],clfs[-1].tree_.max_depth))"
      ],
      "execution_count": null,
      "outputs": [
        {
          "output_type": "stream",
          "text": [
            "Number of nodes in the last tree is: 1 with ccp_alpha: 0.0733311617719713 and a depth of: 0\n"
          ],
          "name": "stdout"
        }
      ]
    },
    {
      "cell_type": "code",
      "metadata": {
        "colab": {
          "base_uri": "https://localhost:8080/",
          "height": 297
        },
        "id": "qmrQm0v4B8MU",
        "outputId": "80c04930-ad38-4d6c-9db0-799412e5382a"
      },
      "source": [
        "clfs = clfs[:-1]\n",
        "ccp_alphas = ccp_alphas[:-1]\n",
        "node_counts = [clf.tree_.node_count for clf in clfs]\n",
        "depth = [clf.tree_.max_depth for clf in clfs]\n",
        "fig, ax = plt.subplots(2, 1)\n",
        "ax[0].plot(ccp_alphas[:-1], node_counts, marker='o', drawstyle=\"steps-post\")\n",
        "ax[0].set_xlabel(\"alpha\")\n",
        "ax[0].set_ylabel(\"number of nodes\")\n",
        "ax[0].set_title(\"Number of nodes vs alpha\")\n",
        "ax[1].plot(ccp_alphas[:-1], depth, marker='o', drawstyle=\"steps-post\")\n",
        "ax[1].set_xlabel(\"alpha\")\n",
        "ax[1].set_ylabel(\"depth of tree\")\n",
        "ax[1].set_title(\"Depth vs alpha\")\n",
        "fig.tight_layout()"
      ],
      "execution_count": null,
      "outputs": [
        {
          "output_type": "display_data",
          "data": {
            "image/png": "[encoded data removed]",
            "text/plain": [
              "<Figure size 432x288 with 2 Axes>"
            ]
          },
          "metadata": {
            "tags": [],
            "needs_background": "light"
          }
        }
      ]
    },
    {
      "cell_type": "code",
      "metadata": {
        "colab": {
          "base_uri": "https://localhost:8080/",
          "height": 329
        },
        "id": "32Vdu7qHCAEZ",
        "outputId": "b5774a39-8f5c-447c-a5f6-f83f628cc6c0"
      },
      "source": [
        "train_scores = [clf.score(X_train, y_train) for clf in clfs]\n",
        "validate_scores = [clf.score(X_validate,y_validate) for clf in clfs]\n",
        "fig, ax = plt.subplots()\n",
        "ax.set_xlabel(\"alpha\")\n",
        "ax.set_ylabel(\"accuracy\")\n",
        "ax.set_title(\"Accuracy vs alpha for training and validateing sets\")\n",
        "ax.plot(ccp_alphas[:-1], train_scores, marker='o', label=\"train\",\n",
        "        drawstyle=\"steps-post\")\n",
        "ax.plot(ccp_alphas[:-1], validate_scores, marker='o', label=\"validate\",\n",
        "        drawstyle=\"steps-post\")\n",
        "ax.legend()\n",
        "plt.show()\n",
        "\n",
        "index_best_model = np.argmax(validate_scores)\n",
        "best_model = clfs[index_best_model]\n",
        "print('Training accuracy of best model: ',best_model.score(X_train, y_train))\n",
        "print('validate accuracy of best model: ',best_model.score(X_validate, y_validate))"
      ],
      "execution_count": null,
      "outputs": [
        {
          "output_type": "display_data",
          "data": {
            "image/png": "[encoded data removed]",
            "text/plain": [
              "<Figure size 432x288 with 1 Axes>"
            ]
          },
          "metadata": {
            "tags": [],
            "needs_background": "light"
          }
        },
        {
          "output_type": "stream",
          "text": [
            "Training accuracy of best model:  0.8346666666666667\n",
            "validate accuracy of best model:  0.8268\n"
          ],
          "name": "stdout"
        }
      ]
    }
  ]
}